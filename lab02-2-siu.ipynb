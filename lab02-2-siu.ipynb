{
 "cells": [
  {
   "cell_type": "markdown",
   "id": "01926597",
   "metadata": {
    "papermill": {
     "duration": 0.00797,
     "end_time": "2023-02-06T15:21:46.630275",
     "exception": false,
     "start_time": "2023-02-06T15:21:46.622305",
     "status": "completed"
    },
    "tags": []
   },
   "source": [
    "# Lab 2: Data Preprocessing"
   ]
  },
  {
   "cell_type": "markdown",
   "id": "b985855f",
   "metadata": {
    "papermill": {
     "duration": 0.006543,
     "end_time": "2023-02-06T15:21:46.643730",
     "exception": false,
     "start_time": "2023-02-06T15:21:46.637187",
     "status": "completed"
    },
    "tags": []
   },
   "source": [
    "In this assignment, we will learn how to explore the raw data and preprocess it. \n",
    "\n",
    "The dataset we are going to exlore is an insurance data. It provides different features of each user as follows:\n",
    "* age: age of the user\n",
    "* sex: gender of the user\n",
    "* bmi: body mass index, providing an understanding of body\n",
    "* children: number of children covered by health insurance / number of dependents\n",
    "* smoker: smoker or not\n",
    "* region: the user's residential area in the US, northeast, southeast, southwest, northwest.\n",
    "\n",
    "Additionally, the medical cost of each user is also provided: \n",
    "* charges: the medical cost \n",
    "\n",
    "Please follow Lecture 5_data_understanding and Lecture 6_data_preprocessing to complete following questions. "
   ]
  },
  {
   "cell_type": "markdown",
   "id": "705bb025",
   "metadata": {
    "papermill": {
     "duration": 0.006354,
     "end_time": "2023-02-06T15:21:46.656765",
     "exception": false,
     "start_time": "2023-02-06T15:21:46.650411",
     "status": "completed"
    },
    "tags": []
   },
   "source": [
    "### Q1. Load data with Pandas and output the basic information of this dataset, such as the features and their data types.  Which features are numerical features and which users are categorical features?\n"
   ]
  },
  {
   "cell_type": "code",
   "execution_count": 1,
   "id": "ad599365",
   "metadata": {
    "execution": {
     "iopub.execute_input": "2023-02-06T15:21:46.672827Z",
     "iopub.status.busy": "2023-02-06T15:21:46.672345Z",
     "iopub.status.idle": "2023-02-06T15:21:46.726006Z",
     "shell.execute_reply": "2023-02-06T15:21:46.724851Z"
    },
    "papermill": {
     "duration": 0.064646,
     "end_time": "2023-02-06T15:21:46.728548",
     "exception": false,
     "start_time": "2023-02-06T15:21:46.663902",
     "status": "completed"
    },
    "tags": []
   },
   "outputs": [
    {
     "data": {
      "text/html": [
       "<div>\n",
       "<style scoped>\n",
       "    .dataframe tbody tr th:only-of-type {\n",
       "        vertical-align: middle;\n",
       "    }\n",
       "\n",
       "    .dataframe tbody tr th {\n",
       "        vertical-align: top;\n",
       "    }\n",
       "\n",
       "    .dataframe thead th {\n",
       "        text-align: right;\n",
       "    }\n",
       "</style>\n",
       "<table border=\"1\" class=\"dataframe\">\n",
       "  <thead>\n",
       "    <tr style=\"text-align: right;\">\n",
       "      <th></th>\n",
       "      <th>age</th>\n",
       "      <th>sex</th>\n",
       "      <th>bmi</th>\n",
       "      <th>children</th>\n",
       "      <th>smoker</th>\n",
       "      <th>region</th>\n",
       "      <th>charges</th>\n",
       "    </tr>\n",
       "  </thead>\n",
       "  <tbody>\n",
       "    <tr>\n",
       "      <th>0</th>\n",
       "      <td>19</td>\n",
       "      <td>female</td>\n",
       "      <td>27.900</td>\n",
       "      <td>0</td>\n",
       "      <td>yes</td>\n",
       "      <td>southwest</td>\n",
       "      <td>16884.92400</td>\n",
       "    </tr>\n",
       "    <tr>\n",
       "      <th>1</th>\n",
       "      <td>18</td>\n",
       "      <td>male</td>\n",
       "      <td>33.770</td>\n",
       "      <td>1</td>\n",
       "      <td>no</td>\n",
       "      <td>southeast</td>\n",
       "      <td>1725.55230</td>\n",
       "    </tr>\n",
       "    <tr>\n",
       "      <th>2</th>\n",
       "      <td>28</td>\n",
       "      <td>male</td>\n",
       "      <td>33.000</td>\n",
       "      <td>3</td>\n",
       "      <td>no</td>\n",
       "      <td>southeast</td>\n",
       "      <td>4449.46200</td>\n",
       "    </tr>\n",
       "    <tr>\n",
       "      <th>3</th>\n",
       "      <td>33</td>\n",
       "      <td>male</td>\n",
       "      <td>22.705</td>\n",
       "      <td>0</td>\n",
       "      <td>no</td>\n",
       "      <td>northwest</td>\n",
       "      <td>21984.47061</td>\n",
       "    </tr>\n",
       "    <tr>\n",
       "      <th>4</th>\n",
       "      <td>32</td>\n",
       "      <td>male</td>\n",
       "      <td>28.880</td>\n",
       "      <td>0</td>\n",
       "      <td>no</td>\n",
       "      <td>northwest</td>\n",
       "      <td>3866.85520</td>\n",
       "    </tr>\n",
       "  </tbody>\n",
       "</table>\n",
       "</div>"
      ],
      "text/plain": [
       "   age     sex     bmi  children smoker     region      charges\n",
       "0   19  female  27.900         0    yes  southwest  16884.92400\n",
       "1   18    male  33.770         1     no  southeast   1725.55230\n",
       "2   28    male  33.000         3     no  southeast   4449.46200\n",
       "3   33    male  22.705         0     no  northwest  21984.47061\n",
       "4   32    male  28.880         0     no  northwest   3866.85520"
      ]
     },
     "execution_count": 1,
     "metadata": {},
     "output_type": "execute_result"
    }
   ],
   "source": [
    "# your code\n",
    "import pandas as pd\n",
    "insurance = '/kaggle/input/insurance-lab02/Lab02/insurance.csv'\n",
    "df = pd.read_csv(insurance)\n",
    "df.head()"
   ]
  },
  {
   "cell_type": "code",
   "execution_count": 2,
   "id": "ef950104",
   "metadata": {
    "execution": {
     "iopub.execute_input": "2023-02-06T15:21:46.745624Z",
     "iopub.status.busy": "2023-02-06T15:21:46.745188Z",
     "iopub.status.idle": "2023-02-06T15:21:46.781288Z",
     "shell.execute_reply": "2023-02-06T15:21:46.779630Z"
    },
    "papermill": {
     "duration": 0.049908,
     "end_time": "2023-02-06T15:21:46.785634",
     "exception": false,
     "start_time": "2023-02-06T15:21:46.735726",
     "status": "completed"
    },
    "tags": []
   },
   "outputs": [
    {
     "data": {
      "text/html": [
       "<div>\n",
       "<style scoped>\n",
       "    .dataframe tbody tr th:only-of-type {\n",
       "        vertical-align: middle;\n",
       "    }\n",
       "\n",
       "    .dataframe tbody tr th {\n",
       "        vertical-align: top;\n",
       "    }\n",
       "\n",
       "    .dataframe thead th {\n",
       "        text-align: right;\n",
       "    }\n",
       "</style>\n",
       "<table border=\"1\" class=\"dataframe\">\n",
       "  <thead>\n",
       "    <tr style=\"text-align: right;\">\n",
       "      <th></th>\n",
       "      <th>age</th>\n",
       "      <th>bmi</th>\n",
       "      <th>children</th>\n",
       "      <th>charges</th>\n",
       "    </tr>\n",
       "  </thead>\n",
       "  <tbody>\n",
       "    <tr>\n",
       "      <th>count</th>\n",
       "      <td>1338.000000</td>\n",
       "      <td>1338.000000</td>\n",
       "      <td>1338.000000</td>\n",
       "      <td>1338.000000</td>\n",
       "    </tr>\n",
       "    <tr>\n",
       "      <th>mean</th>\n",
       "      <td>39.207025</td>\n",
       "      <td>30.663397</td>\n",
       "      <td>1.094918</td>\n",
       "      <td>13270.422265</td>\n",
       "    </tr>\n",
       "    <tr>\n",
       "      <th>std</th>\n",
       "      <td>14.049960</td>\n",
       "      <td>6.098187</td>\n",
       "      <td>1.205493</td>\n",
       "      <td>12110.011237</td>\n",
       "    </tr>\n",
       "    <tr>\n",
       "      <th>min</th>\n",
       "      <td>18.000000</td>\n",
       "      <td>15.960000</td>\n",
       "      <td>0.000000</td>\n",
       "      <td>1121.873900</td>\n",
       "    </tr>\n",
       "    <tr>\n",
       "      <th>25%</th>\n",
       "      <td>27.000000</td>\n",
       "      <td>26.296250</td>\n",
       "      <td>0.000000</td>\n",
       "      <td>4740.287150</td>\n",
       "    </tr>\n",
       "    <tr>\n",
       "      <th>50%</th>\n",
       "      <td>39.000000</td>\n",
       "      <td>30.400000</td>\n",
       "      <td>1.000000</td>\n",
       "      <td>9382.033000</td>\n",
       "    </tr>\n",
       "    <tr>\n",
       "      <th>75%</th>\n",
       "      <td>51.000000</td>\n",
       "      <td>34.693750</td>\n",
       "      <td>2.000000</td>\n",
       "      <td>16639.912515</td>\n",
       "    </tr>\n",
       "    <tr>\n",
       "      <th>max</th>\n",
       "      <td>64.000000</td>\n",
       "      <td>53.130000</td>\n",
       "      <td>5.000000</td>\n",
       "      <td>63770.428010</td>\n",
       "    </tr>\n",
       "  </tbody>\n",
       "</table>\n",
       "</div>"
      ],
      "text/plain": [
       "               age          bmi     children       charges\n",
       "count  1338.000000  1338.000000  1338.000000   1338.000000\n",
       "mean     39.207025    30.663397     1.094918  13270.422265\n",
       "std      14.049960     6.098187     1.205493  12110.011237\n",
       "min      18.000000    15.960000     0.000000   1121.873900\n",
       "25%      27.000000    26.296250     0.000000   4740.287150\n",
       "50%      39.000000    30.400000     1.000000   9382.033000\n",
       "75%      51.000000    34.693750     2.000000  16639.912515\n",
       "max      64.000000    53.130000     5.000000  63770.428010"
      ]
     },
     "execution_count": 2,
     "metadata": {},
     "output_type": "execute_result"
    }
   ],
   "source": [
    "df.describe()"
   ]
  },
  {
   "cell_type": "code",
   "execution_count": 3,
   "id": "e151b30d",
   "metadata": {
    "execution": {
     "iopub.execute_input": "2023-02-06T15:21:46.803211Z",
     "iopub.status.busy": "2023-02-06T15:21:46.802755Z",
     "iopub.status.idle": "2023-02-06T15:21:46.821799Z",
     "shell.execute_reply": "2023-02-06T15:21:46.820026Z"
    },
    "papermill": {
     "duration": 0.030885,
     "end_time": "2023-02-06T15:21:46.824311",
     "exception": false,
     "start_time": "2023-02-06T15:21:46.793426",
     "status": "completed"
    },
    "tags": []
   },
   "outputs": [
    {
     "name": "stdout",
     "output_type": "stream",
     "text": [
      "<class 'pandas.core.frame.DataFrame'>\n",
      "RangeIndex: 1338 entries, 0 to 1337\n",
      "Data columns (total 7 columns):\n",
      " #   Column    Non-Null Count  Dtype  \n",
      "---  ------    --------------  -----  \n",
      " 0   age       1338 non-null   int64  \n",
      " 1   sex       1338 non-null   object \n",
      " 2   bmi       1338 non-null   float64\n",
      " 3   children  1338 non-null   int64  \n",
      " 4   smoker    1338 non-null   object \n",
      " 5   region    1338 non-null   object \n",
      " 6   charges   1338 non-null   float64\n",
      "dtypes: float64(2), int64(2), object(3)\n",
      "memory usage: 73.3+ KB\n"
     ]
    }
   ],
   "source": [
    "df.info()"
   ]
  },
  {
   "cell_type": "markdown",
   "id": "3c76a304",
   "metadata": {
    "papermill": {
     "duration": 0.007131,
     "end_time": "2023-02-06T15:21:46.838888",
     "exception": false,
     "start_time": "2023-02-06T15:21:46.831757",
     "status": "completed"
    },
    "tags": []
   },
   "source": [
    "* Age, bmi, children, and charges are numeric features\n",
    "* Sex, smoker, and region are categorical features"
   ]
  },
  {
   "cell_type": "markdown",
   "id": "c1e65283",
   "metadata": {
    "papermill": {
     "duration": 0.008109,
     "end_time": "2023-02-06T15:21:46.854644",
     "exception": false,
     "start_time": "2023-02-06T15:21:46.846535",
     "status": "completed"
    },
    "tags": []
   },
   "source": [
    "### Q2. Check whether there are missing values in this dataset."
   ]
  },
  {
   "cell_type": "code",
   "execution_count": 4,
   "id": "5fdbb917",
   "metadata": {
    "execution": {
     "iopub.execute_input": "2023-02-06T15:21:46.871543Z",
     "iopub.status.busy": "2023-02-06T15:21:46.871119Z",
     "iopub.status.idle": "2023-02-06T15:21:46.880879Z",
     "shell.execute_reply": "2023-02-06T15:21:46.879715Z"
    },
    "papermill": {
     "duration": 0.021257,
     "end_time": "2023-02-06T15:21:46.883338",
     "exception": false,
     "start_time": "2023-02-06T15:21:46.862081",
     "status": "completed"
    },
    "tags": []
   },
   "outputs": [
    {
     "data": {
      "text/plain": [
       "age         False\n",
       "sex         False\n",
       "bmi         False\n",
       "children    False\n",
       "smoker      False\n",
       "region      False\n",
       "charges     False\n",
       "dtype: bool"
      ]
     },
     "execution_count": 4,
     "metadata": {},
     "output_type": "execute_result"
    }
   ],
   "source": [
    "# your code\n",
    "df.isna().any()"
   ]
  },
  {
   "cell_type": "markdown",
   "id": "fd03e8d8",
   "metadata": {
    "papermill": {
     "duration": 0.007033,
     "end_time": "2023-02-06T15:21:46.897894",
     "exception": false,
     "start_time": "2023-02-06T15:21:46.890861",
     "status": "completed"
    },
    "tags": []
   },
   "source": [
    "### Q3. Visualize all numerical features with histogram plot to see the distribution of each numerical feature. \n"
   ]
  },
  {
   "cell_type": "code",
   "execution_count": 5,
   "id": "8f57f07b",
   "metadata": {
    "execution": {
     "iopub.execute_input": "2023-02-06T15:21:46.914871Z",
     "iopub.status.busy": "2023-02-06T15:21:46.914460Z",
     "iopub.status.idle": "2023-02-06T15:21:46.927471Z",
     "shell.execute_reply": "2023-02-06T15:21:46.926250Z"
    },
    "papermill": {
     "duration": 0.024494,
     "end_time": "2023-02-06T15:21:46.929813",
     "exception": false,
     "start_time": "2023-02-06T15:21:46.905319",
     "status": "completed"
    },
    "tags": []
   },
   "outputs": [
    {
     "data": {
      "text/html": [
       "<div>\n",
       "<style scoped>\n",
       "    .dataframe tbody tr th:only-of-type {\n",
       "        vertical-align: middle;\n",
       "    }\n",
       "\n",
       "    .dataframe tbody tr th {\n",
       "        vertical-align: top;\n",
       "    }\n",
       "\n",
       "    .dataframe thead th {\n",
       "        text-align: right;\n",
       "    }\n",
       "</style>\n",
       "<table border=\"1\" class=\"dataframe\">\n",
       "  <thead>\n",
       "    <tr style=\"text-align: right;\">\n",
       "      <th></th>\n",
       "      <th>age</th>\n",
       "      <th>bmi</th>\n",
       "      <th>children</th>\n",
       "      <th>charges</th>\n",
       "    </tr>\n",
       "  </thead>\n",
       "  <tbody>\n",
       "    <tr>\n",
       "      <th>0</th>\n",
       "      <td>19</td>\n",
       "      <td>27.900</td>\n",
       "      <td>0</td>\n",
       "      <td>16884.92400</td>\n",
       "    </tr>\n",
       "    <tr>\n",
       "      <th>1</th>\n",
       "      <td>18</td>\n",
       "      <td>33.770</td>\n",
       "      <td>1</td>\n",
       "      <td>1725.55230</td>\n",
       "    </tr>\n",
       "    <tr>\n",
       "      <th>2</th>\n",
       "      <td>28</td>\n",
       "      <td>33.000</td>\n",
       "      <td>3</td>\n",
       "      <td>4449.46200</td>\n",
       "    </tr>\n",
       "    <tr>\n",
       "      <th>3</th>\n",
       "      <td>33</td>\n",
       "      <td>22.705</td>\n",
       "      <td>0</td>\n",
       "      <td>21984.47061</td>\n",
       "    </tr>\n",
       "    <tr>\n",
       "      <th>4</th>\n",
       "      <td>32</td>\n",
       "      <td>28.880</td>\n",
       "      <td>0</td>\n",
       "      <td>3866.85520</td>\n",
       "    </tr>\n",
       "  </tbody>\n",
       "</table>\n",
       "</div>"
      ],
      "text/plain": [
       "   age     bmi  children      charges\n",
       "0   19  27.900         0  16884.92400\n",
       "1   18  33.770         1   1725.55230\n",
       "2   28  33.000         3   4449.46200\n",
       "3   33  22.705         0  21984.47061\n",
       "4   32  28.880         0   3866.85520"
      ]
     },
     "execution_count": 5,
     "metadata": {},
     "output_type": "execute_result"
    }
   ],
   "source": [
    "# your code\n",
    "import numpy as np\n",
    "df._get_numeric_data().head()"
   ]
  },
  {
   "cell_type": "code",
   "execution_count": 6,
   "id": "0f8bfb8e",
   "metadata": {
    "execution": {
     "iopub.execute_input": "2023-02-06T15:21:46.947613Z",
     "iopub.status.busy": "2023-02-06T15:21:46.947152Z",
     "iopub.status.idle": "2023-02-06T15:21:48.008170Z",
     "shell.execute_reply": "2023-02-06T15:21:48.006866Z"
    },
    "papermill": {
     "duration": 1.072982,
     "end_time": "2023-02-06T15:21:48.010739",
     "exception": false,
     "start_time": "2023-02-06T15:21:46.937757",
     "status": "completed"
    },
    "tags": []
   },
   "outputs": [
    {
     "data": {
      "text/plain": [
       "array([[<AxesSubplot:title={'center':'age'}>,\n",
       "        <AxesSubplot:title={'center':'bmi'}>],\n",
       "       [<AxesSubplot:title={'center':'children'}>,\n",
       "        <AxesSubplot:title={'center':'charges'}>]], dtype=object)"
      ]
     },
     "execution_count": 6,
     "metadata": {},
     "output_type": "execute_result"
    },
    {
     "data": {
      "image/png": "[encoded data removed]",
      "text/plain": [
       "<Figure size 1440x1080 with 4 Axes>"
      ]
     },
     "metadata": {
      "needs_background": "light"
     },
     "output_type": "display_data"
    }
   ],
   "source": [
    "df._get_numeric_data().hist(bins=50,figsize=(20,15))"
   ]
  },
  {
   "cell_type": "markdown",
   "id": "8bd7cf05",
   "metadata": {
    "papermill": {
     "duration": 0.007935,
     "end_time": "2023-02-06T15:21:48.026933",
     "exception": false,
     "start_time": "2023-02-06T15:21:48.018998",
     "status": "completed"
    },
    "tags": []
   },
   "source": [
    "### Children may be categorical feature"
   ]
  },
  {
   "cell_type": "markdown",
   "id": "284ff1bc",
   "metadata": {
    "papermill": {
     "duration": 0.007964,
     "end_time": "2023-02-06T15:21:48.043702",
     "exception": false,
     "start_time": "2023-02-06T15:21:48.035738",
     "status": "completed"
    },
    "tags": []
   },
   "source": [
    "### Q4. Use corr() function of Pandas to show the correlation between different numerical features"
   ]
  },
  {
   "cell_type": "code",
   "execution_count": 7,
   "id": "b5f50139",
   "metadata": {
    "execution": {
     "iopub.execute_input": "2023-02-06T15:21:48.062331Z",
     "iopub.status.busy": "2023-02-06T15:21:48.061414Z",
     "iopub.status.idle": "2023-02-06T15:21:48.141423Z",
     "shell.execute_reply": "2023-02-06T15:21:48.140242Z"
    },
    "papermill": {
     "duration": 0.092596,
     "end_time": "2023-02-06T15:21:48.144459",
     "exception": false,
     "start_time": "2023-02-06T15:21:48.051863",
     "status": "completed"
    },
    "tags": []
   },
   "outputs": [
    {
     "data": {
      "text/html": [
       "<style type=\"text/css\">\n",
       "#T_0c852_row0_col0, #T_0c852_row1_col1, #T_0c852_row2_col2, #T_0c852_row3_col3 {\n",
       "  background-color: #023858;\n",
       "  color: #f1f1f1;\n",
       "}\n",
       "#T_0c852_row0_col1 {\n",
       "  background-color: #f0eaf4;\n",
       "  color: #000000;\n",
       "}\n",
       "#T_0c852_row0_col2 {\n",
       "  background-color: #fbf3f9;\n",
       "  color: #000000;\n",
       "}\n",
       "#T_0c852_row0_col3 {\n",
       "  background-color: #d1d2e6;\n",
       "  color: #000000;\n",
       "}\n",
       "#T_0c852_row1_col0 {\n",
       "  background-color: #f5eef6;\n",
       "  color: #000000;\n",
       "}\n",
       "#T_0c852_row1_col2, #T_0c852_row2_col0, #T_0c852_row2_col1, #T_0c852_row2_col3 {\n",
       "  background-color: #fff7fb;\n",
       "  color: #000000;\n",
       "}\n",
       "#T_0c852_row1_col3 {\n",
       "  background-color: #e9e5f1;\n",
       "  color: #000000;\n",
       "}\n",
       "#T_0c852_row3_col0 {\n",
       "  background-color: #cacee5;\n",
       "  color: #000000;\n",
       "}\n",
       "#T_0c852_row3_col1 {\n",
       "  background-color: #dedcec;\n",
       "  color: #000000;\n",
       "}\n",
       "#T_0c852_row3_col2 {\n",
       "  background-color: #f7f0f7;\n",
       "  color: #000000;\n",
       "}\n",
       "</style>\n",
       "<table id=\"T_0c852_\">\n",
       "  <thead>\n",
       "    <tr>\n",
       "      <th class=\"blank level0\" >&nbsp;</th>\n",
       "      <th class=\"col_heading level0 col0\" >age</th>\n",
       "      <th class=\"col_heading level0 col1\" >bmi</th>\n",
       "      <th class=\"col_heading level0 col2\" >children</th>\n",
       "      <th class=\"col_heading level0 col3\" >charges</th>\n",
       "    </tr>\n",
       "  </thead>\n",
       "  <tbody>\n",
       "    <tr>\n",
       "      <th id=\"T_0c852_level0_row0\" class=\"row_heading level0 row0\" >age</th>\n",
       "      <td id=\"T_0c852_row0_col0\" class=\"data row0 col0\" >1.000000</td>\n",
       "      <td id=\"T_0c852_row0_col1\" class=\"data row0 col1\" >0.109272</td>\n",
       "      <td id=\"T_0c852_row0_col2\" class=\"data row0 col2\" >0.042469</td>\n",
       "      <td id=\"T_0c852_row0_col3\" class=\"data row0 col3\" >0.299008</td>\n",
       "    </tr>\n",
       "    <tr>\n",
       "      <th id=\"T_0c852_level0_row1\" class=\"row_heading level0 row1\" >bmi</th>\n",
       "      <td id=\"T_0c852_row1_col0\" class=\"data row1 col0\" >0.109272</td>\n",
       "      <td id=\"T_0c852_row1_col1\" class=\"data row1 col1\" >1.000000</td>\n",
       "      <td id=\"T_0c852_row1_col2\" class=\"data row1 col2\" >0.012759</td>\n",
       "      <td id=\"T_0c852_row1_col3\" class=\"data row1 col3\" >0.198341</td>\n",
       "    </tr>\n",
       "    <tr>\n",
       "      <th id=\"T_0c852_level0_row2\" class=\"row_heading level0 row2\" >children</th>\n",
       "      <td id=\"T_0c852_row2_col0\" class=\"data row2 col0\" >0.042469</td>\n",
       "      <td id=\"T_0c852_row2_col1\" class=\"data row2 col1\" >0.012759</td>\n",
       "      <td id=\"T_0c852_row2_col2\" class=\"data row2 col2\" >1.000000</td>\n",
       "      <td id=\"T_0c852_row2_col3\" class=\"data row2 col3\" >0.067998</td>\n",
       "    </tr>\n",
       "    <tr>\n",
       "      <th id=\"T_0c852_level0_row3\" class=\"row_heading level0 row3\" >charges</th>\n",
       "      <td id=\"T_0c852_row3_col0\" class=\"data row3 col0\" >0.299008</td>\n",
       "      <td id=\"T_0c852_row3_col1\" class=\"data row3 col1\" >0.198341</td>\n",
       "      <td id=\"T_0c852_row3_col2\" class=\"data row3 col2\" >0.067998</td>\n",
       "      <td id=\"T_0c852_row3_col3\" class=\"data row3 col3\" >1.000000</td>\n",
       "    </tr>\n",
       "  </tbody>\n",
       "</table>\n"
      ],
      "text/plain": [
       "<pandas.io.formats.style.Styler at 0x7fdd6020a610>"
      ]
     },
     "execution_count": 7,
     "metadata": {},
     "output_type": "execute_result"
    }
   ],
   "source": [
    "# your code\n",
    "df._get_numeric_data().corr().style.background_gradient()\n"
   ]
  },
  {
   "cell_type": "markdown",
   "id": "862b7f57",
   "metadata": {
    "papermill": {
     "duration": 0.008714,
     "end_time": "2023-02-06T15:21:48.161630",
     "exception": false,
     "start_time": "2023-02-06T15:21:48.152916",
     "status": "completed"
    },
    "tags": []
   },
   "source": [
    "### Q5. For all categorical features, use bar plot to visualize the number of users within each category."
   ]
  },
  {
   "cell_type": "code",
   "execution_count": 8,
   "id": "5a7d70d7",
   "metadata": {
    "execution": {
     "iopub.execute_input": "2023-02-06T15:21:48.181768Z",
     "iopub.status.busy": "2023-02-06T15:21:48.181313Z",
     "iopub.status.idle": "2023-02-06T15:21:48.190857Z",
     "shell.execute_reply": "2023-02-06T15:21:48.189590Z"
    },
    "papermill": {
     "duration": 0.022881,
     "end_time": "2023-02-06T15:21:48.193737",
     "exception": false,
     "start_time": "2023-02-06T15:21:48.170856",
     "status": "completed"
    },
    "tags": []
   },
   "outputs": [
    {
     "data": {
      "text/plain": [
       "['sex', 'smoker', 'region']"
      ]
     },
     "execution_count": 8,
     "metadata": {},
     "output_type": "execute_result"
    }
   ],
   "source": [
    "cat = df.select_dtypes(include='object').columns.tolist()\n",
    "cat"
   ]
  },
  {
   "cell_type": "code",
   "execution_count": 9,
   "id": "0095436f",
   "metadata": {
    "execution": {
     "iopub.execute_input": "2023-02-06T15:21:48.212943Z",
     "iopub.status.busy": "2023-02-06T15:21:48.212545Z",
     "iopub.status.idle": "2023-02-06T15:21:48.220262Z",
     "shell.execute_reply": "2023-02-06T15:21:48.218714Z"
    },
    "papermill": {
     "duration": 0.020417,
     "end_time": "2023-02-06T15:21:48.222799",
     "exception": false,
     "start_time": "2023-02-06T15:21:48.202382",
     "status": "completed"
    },
    "tags": []
   },
   "outputs": [
    {
     "data": {
      "text/plain": [
       "['age', 'bmi', 'children', 'charges']"
      ]
     },
     "execution_count": 9,
     "metadata": {},
     "output_type": "execute_result"
    }
   ],
   "source": [
    "numeric = df._get_numeric_data().columns.tolist()\n",
    "numeric"
   ]
  },
  {
   "cell_type": "code",
   "execution_count": 10,
   "id": "37d66cdd",
   "metadata": {
    "execution": {
     "iopub.execute_input": "2023-02-06T15:21:48.242906Z",
     "iopub.status.busy": "2023-02-06T15:21:48.241592Z",
     "iopub.status.idle": "2023-02-06T15:21:48.255342Z",
     "shell.execute_reply": "2023-02-06T15:21:48.253915Z"
    },
    "papermill": {
     "duration": 0.026539,
     "end_time": "2023-02-06T15:21:48.258043",
     "exception": false,
     "start_time": "2023-02-06T15:21:48.231504",
     "status": "completed"
    },
    "tags": []
   },
   "outputs": [
    {
     "data": {
      "text/plain": [
       "sex     smoker  region   \n",
       "female  no      southwest    141\n",
       "                southeast    139\n",
       "                northwest    135\n",
       "male    no      southeast    134\n",
       "female  no      northeast    132\n",
       "male    no      northwest    132\n",
       "                southwest    126\n",
       "                northeast    125\n",
       "        yes     southeast     55\n",
       "                northeast     38\n",
       "                southwest     37\n",
       "female  yes     southeast     36\n",
       "                northeast     29\n",
       "                northwest     29\n",
       "male    yes     northwest     29\n",
       "female  yes     southwest     21\n",
       "dtype: int64"
      ]
     },
     "execution_count": 10,
     "metadata": {},
     "output_type": "execute_result"
    }
   ],
   "source": [
    "df[cat].value_counts()"
   ]
  },
  {
   "cell_type": "code",
   "execution_count": 11,
   "id": "8cecc3fa",
   "metadata": {
    "execution": {
     "iopub.execute_input": "2023-02-06T15:21:48.278291Z",
     "iopub.status.busy": "2023-02-06T15:21:48.277033Z",
     "iopub.status.idle": "2023-02-06T15:21:48.475359Z",
     "shell.execute_reply": "2023-02-06T15:21:48.473967Z"
    },
    "papermill": {
     "duration": 0.212018,
     "end_time": "2023-02-06T15:21:48.479020",
     "exception": false,
     "start_time": "2023-02-06T15:21:48.267002",
     "status": "completed"
    },
    "tags": []
   },
   "outputs": [
    {
     "data": {
      "text/plain": [
       "<AxesSubplot:xlabel='sex'>"
      ]
     },
     "execution_count": 11,
     "metadata": {},
     "output_type": "execute_result"
    },
    {
     "data": {
      "image/png": "[encoded data removed]",
      "text/plain": [
       "<Figure size 432x288 with 1 Axes>"
      ]
     },
     "metadata": {
      "needs_background": "light"
     },
     "output_type": "display_data"
    }
   ],
   "source": [
    "# your code\n",
    "df.groupby(cat[0]).count().plot(kind='bar')"
   ]
  },
  {
   "cell_type": "code",
   "execution_count": 12,
   "id": "fd50d002",
   "metadata": {
    "execution": {
     "iopub.execute_input": "2023-02-06T15:21:48.506763Z",
     "iopub.status.busy": "2023-02-06T15:21:48.505810Z",
     "iopub.status.idle": "2023-02-06T15:21:48.765756Z",
     "shell.execute_reply": "2023-02-06T15:21:48.764929Z"
    },
    "papermill": {
     "duration": 0.276409,
     "end_time": "2023-02-06T15:21:48.767996",
     "exception": false,
     "start_time": "2023-02-06T15:21:48.491587",
     "status": "completed"
    },
    "tags": []
   },
   "outputs": [
    {
     "data": {
      "text/plain": [
       "<AxesSubplot:xlabel='smoker'>"
      ]
     },
     "execution_count": 12,
     "metadata": {},
     "output_type": "execute_result"
    },
    {
     "data": {
      "image/png": "[encoded data removed]",
      "text/plain": [
       "<Figure size 432x288 with 1 Axes>"
      ]
     },
     "metadata": {
      "needs_background": "light"
     },
     "output_type": "display_data"
    }
   ],
   "source": [
    "df.groupby(cat[1]).count().plot(kind='bar')"
   ]
  },
  {
   "cell_type": "code",
   "execution_count": 13,
   "id": "f690eff9",
   "metadata": {
    "execution": {
     "iopub.execute_input": "2023-02-06T15:21:48.789346Z",
     "iopub.status.busy": "2023-02-06T15:21:48.788721Z",
     "iopub.status.idle": "2023-02-06T15:21:49.078214Z",
     "shell.execute_reply": "2023-02-06T15:21:49.077218Z"
    },
    "papermill": {
     "duration": 0.303218,
     "end_time": "2023-02-06T15:21:49.080837",
     "exception": false,
     "start_time": "2023-02-06T15:21:48.777619",
     "status": "completed"
    },
    "tags": []
   },
   "outputs": [
    {
     "data": {
      "text/plain": [
       "<AxesSubplot:xlabel='region'>"
      ]
     },
     "execution_count": 13,
     "metadata": {},
     "output_type": "execute_result"
    },
    {
     "data": {
      "image/png": "[encoded data removed]",
      "text/plain": [
       "<Figure size 432x288 with 1 Axes>"
      ]
     },
     "metadata": {
      "needs_background": "light"
     },
     "output_type": "display_data"
    }
   ],
   "source": [
    "df.groupby(cat[2]).count().plot(kind='bar')"
   ]
  },
  {
   "cell_type": "markdown",
   "id": "0e521776",
   "metadata": {
    "papermill": {
     "duration": 0.009998,
     "end_time": "2023-02-06T15:21:49.101497",
     "exception": false,
     "start_time": "2023-02-06T15:21:49.091499",
     "status": "completed"
    },
    "tags": []
   },
   "source": [
    "### Q6. Convert all categorical features into numerical features with Label Encoding or One-Hot Encoding"
   ]
  },
  {
   "cell_type": "code",
   "execution_count": 14,
   "id": "ded6c9ae",
   "metadata": {
    "execution": {
     "iopub.execute_input": "2023-02-06T15:21:49.124048Z",
     "iopub.status.busy": "2023-02-06T15:21:49.123409Z",
     "iopub.status.idle": "2023-02-06T15:21:49.135282Z",
     "shell.execute_reply": "2023-02-06T15:21:49.134142Z"
    },
    "papermill": {
     "duration": 0.026059,
     "end_time": "2023-02-06T15:21:49.137759",
     "exception": false,
     "start_time": "2023-02-06T15:21:49.111700",
     "status": "completed"
    },
    "tags": []
   },
   "outputs": [
    {
     "data": {
      "text/plain": [
       "(1338, 8)"
      ]
     },
     "execution_count": 14,
     "metadata": {},
     "output_type": "execute_result"
    }
   ],
   "source": [
    "# your code\n",
    "one_hot = pd.get_dummies(df[cat])\n",
    "one_hot.shape"
   ]
  },
  {
   "cell_type": "code",
   "execution_count": 15,
   "id": "4578a8aa",
   "metadata": {
    "execution": {
     "iopub.execute_input": "2023-02-06T15:21:49.161070Z",
     "iopub.status.busy": "2023-02-06T15:21:49.160497Z",
     "iopub.status.idle": "2023-02-06T15:21:49.174007Z",
     "shell.execute_reply": "2023-02-06T15:21:49.172760Z"
    },
    "papermill": {
     "duration": 0.028718,
     "end_time": "2023-02-06T15:21:49.176582",
     "exception": false,
     "start_time": "2023-02-06T15:21:49.147864",
     "status": "completed"
    },
    "tags": []
   },
   "outputs": [
    {
     "data": {
      "text/html": [
       "<div>\n",
       "<style scoped>\n",
       "    .dataframe tbody tr th:only-of-type {\n",
       "        vertical-align: middle;\n",
       "    }\n",
       "\n",
       "    .dataframe tbody tr th {\n",
       "        vertical-align: top;\n",
       "    }\n",
       "\n",
       "    .dataframe thead th {\n",
       "        text-align: right;\n",
       "    }\n",
       "</style>\n",
       "<table border=\"1\" class=\"dataframe\">\n",
       "  <thead>\n",
       "    <tr style=\"text-align: right;\">\n",
       "      <th></th>\n",
       "      <th>sex_female</th>\n",
       "      <th>sex_male</th>\n",
       "      <th>smoker_no</th>\n",
       "      <th>smoker_yes</th>\n",
       "      <th>region_northeast</th>\n",
       "      <th>region_northwest</th>\n",
       "      <th>region_southeast</th>\n",
       "      <th>region_southwest</th>\n",
       "    </tr>\n",
       "  </thead>\n",
       "  <tbody>\n",
       "    <tr>\n",
       "      <th>0</th>\n",
       "      <td>1</td>\n",
       "      <td>0</td>\n",
       "      <td>0</td>\n",
       "      <td>1</td>\n",
       "      <td>0</td>\n",
       "      <td>0</td>\n",
       "      <td>0</td>\n",
       "      <td>1</td>\n",
       "    </tr>\n",
       "    <tr>\n",
       "      <th>1</th>\n",
       "      <td>0</td>\n",
       "      <td>1</td>\n",
       "      <td>1</td>\n",
       "      <td>0</td>\n",
       "      <td>0</td>\n",
       "      <td>0</td>\n",
       "      <td>1</td>\n",
       "      <td>0</td>\n",
       "    </tr>\n",
       "    <tr>\n",
       "      <th>2</th>\n",
       "      <td>0</td>\n",
       "      <td>1</td>\n",
       "      <td>1</td>\n",
       "      <td>0</td>\n",
       "      <td>0</td>\n",
       "      <td>0</td>\n",
       "      <td>1</td>\n",
       "      <td>0</td>\n",
       "    </tr>\n",
       "    <tr>\n",
       "      <th>3</th>\n",
       "      <td>0</td>\n",
       "      <td>1</td>\n",
       "      <td>1</td>\n",
       "      <td>0</td>\n",
       "      <td>0</td>\n",
       "      <td>1</td>\n",
       "      <td>0</td>\n",
       "      <td>0</td>\n",
       "    </tr>\n",
       "    <tr>\n",
       "      <th>4</th>\n",
       "      <td>0</td>\n",
       "      <td>1</td>\n",
       "      <td>1</td>\n",
       "      <td>0</td>\n",
       "      <td>0</td>\n",
       "      <td>1</td>\n",
       "      <td>0</td>\n",
       "      <td>0</td>\n",
       "    </tr>\n",
       "  </tbody>\n",
       "</table>\n",
       "</div>"
      ],
      "text/plain": [
       "   sex_female  sex_male  smoker_no  smoker_yes  region_northeast  \\\n",
       "0           1         0          0           1                 0   \n",
       "1           0         1          1           0                 0   \n",
       "2           0         1          1           0                 0   \n",
       "3           0         1          1           0                 0   \n",
       "4           0         1          1           0                 0   \n",
       "\n",
       "   region_northwest  region_southeast  region_southwest  \n",
       "0                 0                 0                 1  \n",
       "1                 0                 1                 0  \n",
       "2                 0                 1                 0  \n",
       "3                 1                 0                 0  \n",
       "4                 1                 0                 0  "
      ]
     },
     "execution_count": 15,
     "metadata": {},
     "output_type": "execute_result"
    }
   ],
   "source": [
    "one_hot.head()"
   ]
  },
  {
   "cell_type": "markdown",
   "id": "9b2042db",
   "metadata": {
    "papermill": {
     "duration": 0.009925,
     "end_time": "2023-02-06T15:21:49.196907",
     "exception": false,
     "start_time": "2023-02-06T15:21:49.186982",
     "status": "completed"
    },
    "tags": []
   },
   "source": [
    "### Q7. Normalize all numerical features"
   ]
  },
  {
   "cell_type": "code",
   "execution_count": 16,
   "id": "98ffbadb",
   "metadata": {
    "execution": {
     "iopub.execute_input": "2023-02-06T15:21:49.219475Z",
     "iopub.status.busy": "2023-02-06T15:21:49.219055Z",
     "iopub.status.idle": "2023-02-06T15:21:49.238357Z",
     "shell.execute_reply": "2023-02-06T15:21:49.237167Z"
    },
    "papermill": {
     "duration": 0.033606,
     "end_time": "2023-02-06T15:21:49.240836",
     "exception": false,
     "start_time": "2023-02-06T15:21:49.207230",
     "status": "completed"
    },
    "tags": []
   },
   "outputs": [
    {
     "data": {
      "text/html": [
       "<div>\n",
       "<style scoped>\n",
       "    .dataframe tbody tr th:only-of-type {\n",
       "        vertical-align: middle;\n",
       "    }\n",
       "\n",
       "    .dataframe tbody tr th {\n",
       "        vertical-align: top;\n",
       "    }\n",
       "\n",
       "    .dataframe thead th {\n",
       "        text-align: right;\n",
       "    }\n",
       "</style>\n",
       "<table border=\"1\" class=\"dataframe\">\n",
       "  <thead>\n",
       "    <tr style=\"text-align: right;\">\n",
       "      <th></th>\n",
       "      <th>age</th>\n",
       "      <th>bmi</th>\n",
       "      <th>children</th>\n",
       "      <th>charges</th>\n",
       "    </tr>\n",
       "  </thead>\n",
       "  <tbody>\n",
       "    <tr>\n",
       "      <th>0</th>\n",
       "      <td>-1.438227</td>\n",
       "      <td>-0.453151</td>\n",
       "      <td>-0.908274</td>\n",
       "      <td>0.298472</td>\n",
       "    </tr>\n",
       "    <tr>\n",
       "      <th>1</th>\n",
       "      <td>-1.509401</td>\n",
       "      <td>0.509431</td>\n",
       "      <td>-0.078738</td>\n",
       "      <td>-0.953333</td>\n",
       "    </tr>\n",
       "    <tr>\n",
       "      <th>2</th>\n",
       "      <td>-0.797655</td>\n",
       "      <td>0.383164</td>\n",
       "      <td>1.580335</td>\n",
       "      <td>-0.728402</td>\n",
       "    </tr>\n",
       "    <tr>\n",
       "      <th>3</th>\n",
       "      <td>-0.441782</td>\n",
       "      <td>-1.305043</td>\n",
       "      <td>-0.908274</td>\n",
       "      <td>0.719574</td>\n",
       "    </tr>\n",
       "    <tr>\n",
       "      <th>4</th>\n",
       "      <td>-0.512957</td>\n",
       "      <td>-0.292447</td>\n",
       "      <td>-0.908274</td>\n",
       "      <td>-0.776512</td>\n",
       "    </tr>\n",
       "  </tbody>\n",
       "</table>\n",
       "</div>"
      ],
      "text/plain": [
       "        age       bmi  children   charges\n",
       "0 -1.438227 -0.453151 -0.908274  0.298472\n",
       "1 -1.509401  0.509431 -0.078738 -0.953333\n",
       "2 -0.797655  0.383164  1.580335 -0.728402\n",
       "3 -0.441782 -1.305043 -0.908274  0.719574\n",
       "4 -0.512957 -0.292447 -0.908274 -0.776512"
      ]
     },
     "execution_count": 16,
     "metadata": {},
     "output_type": "execute_result"
    }
   ],
   "source": [
    "# your code\n",
    "df[numeric] = (df[numeric]-df[numeric].mean())/df[numeric].std()\n",
    "df[numeric].head()"
   ]
  },
  {
   "cell_type": "markdown",
   "id": "95d86622",
   "metadata": {
    "papermill": {
     "duration": 0.010173,
     "end_time": "2023-02-06T15:21:49.261703",
     "exception": false,
     "start_time": "2023-02-06T15:21:49.251530",
     "status": "completed"
    },
    "tags": []
   },
   "source": [
    "### Q8. Save your preprocessed data into a csv file. Submit your code and the preprocessed data."
   ]
  },
  {
   "cell_type": "code",
   "execution_count": 17,
   "id": "4843d8d6",
   "metadata": {
    "execution": {
     "iopub.execute_input": "2023-02-06T15:21:49.286748Z",
     "iopub.status.busy": "2023-02-06T15:21:49.286070Z",
     "iopub.status.idle": "2023-02-06T15:21:49.299144Z",
     "shell.execute_reply": "2023-02-06T15:21:49.298199Z"
    },
    "papermill": {
     "duration": 0.028756,
     "end_time": "2023-02-06T15:21:49.301784",
     "exception": false,
     "start_time": "2023-02-06T15:21:49.273028",
     "status": "completed"
    },
    "tags": []
   },
   "outputs": [
    {
     "data": {
      "text/html": [
       "<div>\n",
       "<style scoped>\n",
       "    .dataframe tbody tr th:only-of-type {\n",
       "        vertical-align: middle;\n",
       "    }\n",
       "\n",
       "    .dataframe tbody tr th {\n",
       "        vertical-align: top;\n",
       "    }\n",
       "\n",
       "    .dataframe thead th {\n",
       "        text-align: right;\n",
       "    }\n",
       "</style>\n",
       "<table border=\"1\" class=\"dataframe\">\n",
       "  <thead>\n",
       "    <tr style=\"text-align: right;\">\n",
       "      <th></th>\n",
       "      <th>age</th>\n",
       "      <th>sex</th>\n",
       "      <th>bmi</th>\n",
       "      <th>children</th>\n",
       "      <th>smoker</th>\n",
       "      <th>region</th>\n",
       "      <th>charges</th>\n",
       "    </tr>\n",
       "  </thead>\n",
       "  <tbody>\n",
       "    <tr>\n",
       "      <th>0</th>\n",
       "      <td>-1.438227</td>\n",
       "      <td>female</td>\n",
       "      <td>-0.453151</td>\n",
       "      <td>-0.908274</td>\n",
       "      <td>yes</td>\n",
       "      <td>southwest</td>\n",
       "      <td>0.298472</td>\n",
       "    </tr>\n",
       "    <tr>\n",
       "      <th>1</th>\n",
       "      <td>-1.509401</td>\n",
       "      <td>male</td>\n",
       "      <td>0.509431</td>\n",
       "      <td>-0.078738</td>\n",
       "      <td>no</td>\n",
       "      <td>southeast</td>\n",
       "      <td>-0.953333</td>\n",
       "    </tr>\n",
       "    <tr>\n",
       "      <th>2</th>\n",
       "      <td>-0.797655</td>\n",
       "      <td>male</td>\n",
       "      <td>0.383164</td>\n",
       "      <td>1.580335</td>\n",
       "      <td>no</td>\n",
       "      <td>southeast</td>\n",
       "      <td>-0.728402</td>\n",
       "    </tr>\n",
       "    <tr>\n",
       "      <th>3</th>\n",
       "      <td>-0.441782</td>\n",
       "      <td>male</td>\n",
       "      <td>-1.305043</td>\n",
       "      <td>-0.908274</td>\n",
       "      <td>no</td>\n",
       "      <td>northwest</td>\n",
       "      <td>0.719574</td>\n",
       "    </tr>\n",
       "    <tr>\n",
       "      <th>4</th>\n",
       "      <td>-0.512957</td>\n",
       "      <td>male</td>\n",
       "      <td>-0.292447</td>\n",
       "      <td>-0.908274</td>\n",
       "      <td>no</td>\n",
       "      <td>northwest</td>\n",
       "      <td>-0.776512</td>\n",
       "    </tr>\n",
       "  </tbody>\n",
       "</table>\n",
       "</div>"
      ],
      "text/plain": [
       "        age     sex       bmi  children smoker     region   charges\n",
       "0 -1.438227  female -0.453151 -0.908274    yes  southwest  0.298472\n",
       "1 -1.509401    male  0.509431 -0.078738     no  southeast -0.953333\n",
       "2 -0.797655    male  0.383164  1.580335     no  southeast -0.728402\n",
       "3 -0.441782    male -1.305043 -0.908274     no  northwest  0.719574\n",
       "4 -0.512957    male -0.292447 -0.908274     no  northwest -0.776512"
      ]
     },
     "execution_count": 17,
     "metadata": {},
     "output_type": "execute_result"
    }
   ],
   "source": [
    "df.head()"
   ]
  },
  {
   "cell_type": "code",
   "execution_count": 18,
   "id": "b3f407de",
   "metadata": {
    "execution": {
     "iopub.execute_input": "2023-02-06T15:21:49.325880Z",
     "iopub.status.busy": "2023-02-06T15:21:49.325244Z",
     "iopub.status.idle": "2023-02-06T15:21:49.329377Z",
     "shell.execute_reply": "2023-02-06T15:21:49.328468Z"
    },
    "papermill": {
     "duration": 0.019001,
     "end_time": "2023-02-06T15:21:49.331630",
     "exception": false,
     "start_time": "2023-02-06T15:21:49.312629",
     "status": "completed"
    },
    "tags": []
   },
   "outputs": [],
   "source": [
    "out = '/kaggle/working/'"
   ]
  },
  {
   "cell_type": "code",
   "execution_count": 19,
   "id": "b261edc8",
   "metadata": {
    "execution": {
     "iopub.execute_input": "2023-02-06T15:21:49.355910Z",
     "iopub.status.busy": "2023-02-06T15:21:49.355175Z",
     "iopub.status.idle": "2023-02-06T15:21:49.377803Z",
     "shell.execute_reply": "2023-02-06T15:21:49.376226Z"
    },
    "papermill": {
     "duration": 0.037798,
     "end_time": "2023-02-06T15:21:49.380543",
     "exception": false,
     "start_time": "2023-02-06T15:21:49.342745",
     "status": "completed"
    },
    "tags": []
   },
   "outputs": [],
   "source": [
    "insurance = \"\".join(insurance.split('/')[:-1])\n",
    "pd.concat([df, one_hot], axis=1).to_csv(out+\"lab02_preprocessing.csv\")"
   ]
  }
 ],
 "metadata": {
  "kernelspec": {
   "display_name": "Python 3",
   "language": "python",
   "name": "python3"
  },
  "language_info": {
   "codemirror_mode": {
    "name": "ipython",
    "version": 3
   },
   "file_extension": ".py",
   "mimetype": "text/x-python",
   "name": "python",
   "nbconvert_exporter": "python",
   "pygments_lexer": "ipython3",
   "version": "3.7.12"
  },
  "papermill": {
   "default_parameters": {},
   "duration": 12.378931,
   "end_time": "2023-02-06T15:21:50.113581",
   "environment_variables": {},
   "exception": null,
   "input_path": "__notebook__.ipynb",
   "output_path": "__notebook__.ipynb",
   "parameters": {},
   "start_time": "2023-02-06T15:21:37.734650",
   "version": "2.3.4"
  }
 },
 "nbformat": 4,
 "nbformat_minor": 5
}
