{
 "cells": [
  {
   "cell_type": "markdown",
   "id": "440d54cb",
   "metadata": {
    "papermill": {
     "duration": 0.005902,
     "end_time": "2023-03-13T13:32:21.197177",
     "exception": false,
     "start_time": "2023-03-13T13:32:21.191275",
     "status": "completed"
    },
    "tags": []
   },
   "source": [
    "# Lab 5: KNN"
   ]
  },
  {
   "cell_type": "code",
   "execution_count": 1,
   "id": "2ab07938",
   "metadata": {
    "execution": {
     "iopub.execute_input": "2023-03-13T13:32:21.208579Z",
     "iopub.status.busy": "2023-03-13T13:32:21.208123Z",
     "iopub.status.idle": "2023-03-13T13:32:21.218813Z",
     "shell.execute_reply": "2023-03-13T13:32:21.217569Z"
    },
    "papermill": {
     "duration": 0.019543,
     "end_time": "2023-03-13T13:32:21.221496",
     "exception": false,
     "start_time": "2023-03-13T13:32:21.201953",
     "status": "completed"
    },
    "tags": []
   },
   "outputs": [],
   "source": [
    "csv = '/kaggle/input/heartcsv/Lab04/heart.csv'"
   ]
  },
  {
   "cell_type": "markdown",
   "id": "9a825bcd",
   "metadata": {
    "papermill": {
     "duration": 0.004335,
     "end_time": "2023-03-13T13:32:21.230583",
     "exception": false,
     "start_time": "2023-03-13T13:32:21.226248",
     "status": "completed"
    },
    "tags": []
   },
   "source": [
    "In this assignment, we will learn the KNN model.\n",
    "\n",
    "First, please study the given example, which uses the KNN model for the breast cancer classification task. In this example, you will learn how to preprocess data, how to train the model, and how to evaluate the model.\n",
    "\n",
    "Based on the given example, your task is to use the KNN model to predict the presence of heart disease.\n"
   ]
  },
  {
   "cell_type": "markdown",
   "id": "2d1b6ad8",
   "metadata": {
    "papermill": {
     "duration": 0.004326,
     "end_time": "2023-03-13T13:32:21.239499",
     "exception": false,
     "start_time": "2023-03-13T13:32:21.235173",
     "status": "completed"
    },
    "tags": []
   },
   "source": [
    "## 1. Example"
   ]
  },
  {
   "cell_type": "markdown",
   "id": "025fcb6c",
   "metadata": {
    "papermill": {
     "duration": 0.004188,
     "end_time": "2023-03-13T13:32:21.248335",
     "exception": false,
     "start_time": "2023-03-13T13:32:21.244147",
     "status": "completed"
    },
    "tags": []
   },
   "source": [
    "### 1.1 Load the breast cancer data"
   ]
  },
  {
   "cell_type": "markdown",
   "id": "5b99173d",
   "metadata": {
    "papermill": {
     "duration": 0.004142,
     "end_time": "2023-03-13T13:32:21.256959",
     "exception": false,
     "start_time": "2023-03-13T13:32:21.252817",
     "status": "completed"
    },
    "tags": []
   },
   "source": [
    "Here, we use the [breast cancer](https://scikit-learn.org/stable/modules/generated/sklearn.datasets.load_breast_cancer.html#sklearn.datasets.load_breast_cancer) dataset in sklearn. It is a binary classification dataset. Each sample has 30 numerical features, which can be found in [7.1.7](https://scikit-learn.org/stable/datasets/toy_dataset.html)."
   ]
  },
  {
   "cell_type": "code",
   "execution_count": 2,
   "id": "4ae3a0dc",
   "metadata": {
    "execution": {
     "iopub.execute_input": "2023-03-13T13:32:21.268197Z",
     "iopub.status.busy": "2023-03-13T13:32:21.267490Z",
     "iopub.status.idle": "2023-03-13T13:32:22.726322Z",
     "shell.execute_reply": "2023-03-13T13:32:22.724545Z"
    },
    "papermill": {
     "duration": 1.467651,
     "end_time": "2023-03-13T13:32:22.729186",
     "exception": false,
     "start_time": "2023-03-13T13:32:21.261535",
     "status": "completed"
    },
    "tags": []
   },
   "outputs": [
    {
     "name": "stdout",
     "output_type": "stream",
     "text": [
      "#samples: 569, #features: 30\n"
     ]
    }
   ],
   "source": [
    "import numpy as np\n",
    "from sklearn.model_selection import train_test_split\n",
    "from sklearn import datasets\n",
    "from sklearn.preprocessing import StandardScaler\n",
    "from sklearn.model_selection import GridSearchCV\n",
    "from sklearn.neighbors import KNeighborsClassifier\n",
    "from sklearn.metrics import accuracy_score, f1_score\n",
    "from sklearn.metrics import f1_score\n",
    "from sklearn.metrics import recall_score\n",
    "from sklearn.metrics import precision_score\n",
    "from random import shuffle\n",
    "import random\n",
    "random.seed(123)\n",
    "\n",
    "X, y = datasets.load_breast_cancer(return_X_y=True)\n",
    "print(\"#samples: {}, #features: {}\".format(X.shape[0], X.shape[1]))"
   ]
  },
  {
   "cell_type": "markdown",
   "id": "cf06575a",
   "metadata": {
    "papermill": {
     "duration": 0.004693,
     "end_time": "2023-03-13T13:32:22.738994",
     "exception": false,
     "start_time": "2023-03-13T13:32:22.734301",
     "status": "completed"
    },
    "tags": []
   },
   "source": [
    "### 1.2 Split the data into two subsets and normalize the features of samples\n",
    "\n",
    "Here, we use 69 samples as the testing set and use the remained samples to train the logistic regression model. "
   ]
  },
  {
   "cell_type": "code",
   "execution_count": 3,
   "id": "351cd28e",
   "metadata": {
    "execution": {
     "iopub.execute_input": "2023-03-13T13:32:22.751022Z",
     "iopub.status.busy": "2023-03-13T13:32:22.750235Z",
     "iopub.status.idle": "2023-03-13T13:32:22.765209Z",
     "shell.execute_reply": "2023-03-13T13:32:22.762609Z"
    },
    "papermill": {
     "duration": 0.02435,
     "end_time": "2023-03-13T13:32:22.768244",
     "exception": false,
     "start_time": "2023-03-13T13:32:22.743894",
     "status": "completed"
    },
    "tags": []
   },
   "outputs": [
    {
     "name": "stdout",
     "output_type": "stream",
     "text": [
      "train_val: 500, test: 69\n"
     ]
    }
   ],
   "source": [
    "X_train_val, X_test, y_train_val, y_test = train_test_split(X, y, \n",
    "                                                            test_size=0.12, \n",
    "                                                            random_state=0)\n",
    "print(\"train_val: {}, test: {}\".format(X_train_val.shape[0], X_test.shape[0]))\n",
    "\n",
    "normalizer = StandardScaler()\n",
    "X_train_val = normalizer.fit_transform(X_train_val)\n",
    "X_test = normalizer.transform(X_test)\n"
   ]
  },
  {
   "cell_type": "markdown",
   "id": "397ca500",
   "metadata": {
    "papermill": {
     "duration": 0.004715,
     "end_time": "2023-03-13T13:32:22.778081",
     "exception": false,
     "start_time": "2023-03-13T13:32:22.773366",
     "status": "completed"
    },
    "tags": []
   },
   "source": [
    "### 1.3 Train the KNN model and select the hyperparameter with cross-validation\n",
    "\n",
    "Here, we use cross-validation to select the hyperparameter $K$"
   ]
  },
  {
   "cell_type": "code",
   "execution_count": 4,
   "id": "94bad3e1",
   "metadata": {
    "execution": {
     "iopub.execute_input": "2023-03-13T13:32:22.790241Z",
     "iopub.status.busy": "2023-03-13T13:32:22.789586Z",
     "iopub.status.idle": "2023-03-13T13:32:22.920940Z",
     "shell.execute_reply": "2023-03-13T13:32:22.920033Z"
    },
    "papermill": {
     "duration": 0.140733,
     "end_time": "2023-03-13T13:32:22.923679",
     "exception": false,
     "start_time": "2023-03-13T13:32:22.782946",
     "status": "completed"
    },
    "tags": []
   },
   "outputs": [
    {
     "name": "stdout",
     "output_type": "stream",
     "text": [
      "0.9640000000000001\n",
      "{'n_neighbors': 4}\n"
     ]
    }
   ],
   "source": [
    "k_range = range(1, 5)\n",
    "param_grid = dict(n_neighbors=k_range)\n",
    "\n",
    "clf_knn =  KNeighborsClassifier(n_neighbors=1)\n",
    "\n",
    "grid = GridSearchCV(clf_knn, param_grid, cv=5, scoring='accuracy')\n",
    "grid.fit(X_train_val, y_train_val)\n",
    "\n",
    "print(grid.best_score_)\n",
    "print(grid.best_params_)"
   ]
  },
  {
   "cell_type": "markdown",
   "id": "8fec9a57",
   "metadata": {
    "papermill": {
     "duration": 0.006875,
     "end_time": "2023-03-13T13:32:22.936617",
     "exception": false,
     "start_time": "2023-03-13T13:32:22.929742",
     "status": "completed"
    },
    "tags": []
   },
   "source": [
    "### 1.4 Evaluate the learned model\n",
    "\n",
    "After getting the best hyperparameter $K$,  we evaluate this  model on the testing set. "
   ]
  },
  {
   "cell_type": "code",
   "execution_count": 5,
   "id": "13711ce7",
   "metadata": {
    "execution": {
     "iopub.execute_input": "2023-03-13T13:32:22.950440Z",
     "iopub.status.busy": "2023-03-13T13:32:22.950004Z",
     "iopub.status.idle": "2023-03-13T13:32:22.969637Z",
     "shell.execute_reply": "2023-03-13T13:32:22.968298Z"
    },
    "papermill": {
     "duration": 0.03005,
     "end_time": "2023-03-13T13:32:22.972739",
     "exception": false,
     "start_time": "2023-03-13T13:32:22.942689",
     "status": "completed"
    },
    "tags": []
   },
   "outputs": [
    {
     "name": "stdout",
     "output_type": "stream",
     "text": [
      "accuracy: 0.971, recall: 0.975, precision: 0.975, f1: 0.975,\n"
     ]
    }
   ],
   "source": [
    "clf_knn =  KNeighborsClassifier(n_neighbors=grid.best_params_['n_neighbors'])\n",
    "clf_knn.fit(X_train_val, y_train_val)\n",
    "\n",
    "# evaluate the model on the testing set\n",
    "y_test_pred = clf_knn.predict(X_test)\n",
    "\n",
    "\n",
    "acc = accuracy_score(y_test, y_test_pred)\n",
    "f1 = f1_score(y_test, y_test_pred)\n",
    "recall = recall_score(y_test, y_test_pred)\n",
    "precision = precision_score(y_test, y_test_pred)\n",
    "\n",
    "\n",
    "print(\"accuracy: {:.3f}, recall: {:.3f}, precision: {:.3f}, f1: {:.3f},\".format(acc, recall, precision, f1))"
   ]
  },
  {
   "cell_type": "markdown",
   "id": "b3bde749",
   "metadata": {
    "papermill": {
     "duration": 0.006595,
     "end_time": "2023-03-13T13:32:22.985677",
     "exception": false,
     "start_time": "2023-03-13T13:32:22.979082",
     "status": "completed"
    },
    "tags": []
   },
   "source": [
    "## 2. Task\n",
    "\n",
    "Here, we use the [heart disease](./heart.csv) dataset. Each sample has the following feature: \n",
    "\n",
    "* age\n",
    "* sex\n",
    "* chest pain type (4 values)\n",
    "* resting blood pressure\n",
    "* serum cholestoral in mg/dl\n",
    "* fasting blood sugar > 120 mg/dl\n",
    "* resting electrocardiographic results (values 0,1,2)\n",
    "* maximum heart rate achieved\n",
    "* exercise induced angina\n",
    "* oldpeak = ST depression induced by exercise relative to rest\n",
    "* the slope of the peak exercise ST segment\n",
    "* number of major vessels (0-3) colored by flourosopy\n",
    "* thal: 3 = normal; 6 = fixed defect; 7 = reversable defect\n",
    "\n",
    "The last column refers to the presence of heart disease in the patient.\n",
    "\n",
    "The task is to predict whether a person has the heart disease. Here, you can use your code in Lab04 for Task 2.1 and Task 2.2. "
   ]
  },
  {
   "cell_type": "markdown",
   "id": "0073a71d",
   "metadata": {
    "papermill": {
     "duration": 0.005541,
     "end_time": "2023-03-13T13:32:22.998024",
     "exception": false,
     "start_time": "2023-03-13T13:32:22.992483",
     "status": "completed"
    },
    "tags": []
   },
   "source": [
    "### 2.1 Preprocess the raw data\n",
    "\n",
    "* Check whether there are missing values\n",
    "* Check whether theare are cateogrical features\n",
    "* Check whether this dataset is balanced or not (use the bar plot to visualize the number of positive and negative samples)\n"
   ]
  },
  {
   "cell_type": "code",
   "execution_count": 6,
   "id": "3ec10feb",
   "metadata": {
    "execution": {
     "iopub.execute_input": "2023-03-13T13:32:23.011803Z",
     "iopub.status.busy": "2023-03-13T13:32:23.011429Z",
     "iopub.status.idle": "2023-03-13T13:32:23.059680Z",
     "shell.execute_reply": "2023-03-13T13:32:23.058747Z"
    },
    "papermill": {
     "duration": 0.058222,
     "end_time": "2023-03-13T13:32:23.062529",
     "exception": false,
     "start_time": "2023-03-13T13:32:23.004307",
     "status": "completed"
    },
    "tags": []
   },
   "outputs": [
    {
     "data": {
      "text/html": [
       "<div>\n",
       "<style scoped>\n",
       "    .dataframe tbody tr th:only-of-type {\n",
       "        vertical-align: middle;\n",
       "    }\n",
       "\n",
       "    .dataframe tbody tr th {\n",
       "        vertical-align: top;\n",
       "    }\n",
       "\n",
       "    .dataframe thead th {\n",
       "        text-align: right;\n",
       "    }\n",
       "</style>\n",
       "<table border=\"1\" class=\"dataframe\">\n",
       "  <thead>\n",
       "    <tr style=\"text-align: right;\">\n",
       "      <th></th>\n",
       "      <th>age</th>\n",
       "      <th>sex</th>\n",
       "      <th>cp</th>\n",
       "      <th>trestbps</th>\n",
       "      <th>chol</th>\n",
       "      <th>fbs</th>\n",
       "      <th>restecg</th>\n",
       "      <th>thalach</th>\n",
       "      <th>exang</th>\n",
       "      <th>oldpeak</th>\n",
       "      <th>slope</th>\n",
       "      <th>ca</th>\n",
       "      <th>thal</th>\n",
       "      <th>target</th>\n",
       "    </tr>\n",
       "  </thead>\n",
       "  <tbody>\n",
       "    <tr>\n",
       "      <th>0</th>\n",
       "      <td>63</td>\n",
       "      <td>1</td>\n",
       "      <td>3</td>\n",
       "      <td>145</td>\n",
       "      <td>233</td>\n",
       "      <td>1</td>\n",
       "      <td>0</td>\n",
       "      <td>150</td>\n",
       "      <td>0</td>\n",
       "      <td>2.3</td>\n",
       "      <td>0</td>\n",
       "      <td>0</td>\n",
       "      <td>1</td>\n",
       "      <td>1</td>\n",
       "    </tr>\n",
       "    <tr>\n",
       "      <th>1</th>\n",
       "      <td>37</td>\n",
       "      <td>1</td>\n",
       "      <td>2</td>\n",
       "      <td>130</td>\n",
       "      <td>250</td>\n",
       "      <td>0</td>\n",
       "      <td>1</td>\n",
       "      <td>187</td>\n",
       "      <td>0</td>\n",
       "      <td>3.5</td>\n",
       "      <td>0</td>\n",
       "      <td>0</td>\n",
       "      <td>2</td>\n",
       "      <td>1</td>\n",
       "    </tr>\n",
       "    <tr>\n",
       "      <th>2</th>\n",
       "      <td>41</td>\n",
       "      <td>0</td>\n",
       "      <td>1</td>\n",
       "      <td>130</td>\n",
       "      <td>204</td>\n",
       "      <td>0</td>\n",
       "      <td>0</td>\n",
       "      <td>172</td>\n",
       "      <td>0</td>\n",
       "      <td>1.4</td>\n",
       "      <td>2</td>\n",
       "      <td>0</td>\n",
       "      <td>2</td>\n",
       "      <td>1</td>\n",
       "    </tr>\n",
       "    <tr>\n",
       "      <th>3</th>\n",
       "      <td>56</td>\n",
       "      <td>1</td>\n",
       "      <td>1</td>\n",
       "      <td>120</td>\n",
       "      <td>236</td>\n",
       "      <td>0</td>\n",
       "      <td>1</td>\n",
       "      <td>178</td>\n",
       "      <td>0</td>\n",
       "      <td>0.8</td>\n",
       "      <td>2</td>\n",
       "      <td>0</td>\n",
       "      <td>2</td>\n",
       "      <td>1</td>\n",
       "    </tr>\n",
       "    <tr>\n",
       "      <th>4</th>\n",
       "      <td>57</td>\n",
       "      <td>0</td>\n",
       "      <td>0</td>\n",
       "      <td>120</td>\n",
       "      <td>354</td>\n",
       "      <td>0</td>\n",
       "      <td>1</td>\n",
       "      <td>163</td>\n",
       "      <td>1</td>\n",
       "      <td>0.6</td>\n",
       "      <td>2</td>\n",
       "      <td>0</td>\n",
       "      <td>2</td>\n",
       "      <td>1</td>\n",
       "    </tr>\n",
       "  </tbody>\n",
       "</table>\n",
       "</div>"
      ],
      "text/plain": [
       "   age  sex  cp  trestbps  chol  fbs  restecg  thalach  exang  oldpeak  slope  \\\n",
       "0   63    1   3       145   233    1        0      150      0      2.3      0   \n",
       "1   37    1   2       130   250    0        1      187      0      3.5      0   \n",
       "2   41    0   1       130   204    0        0      172      0      1.4      2   \n",
       "3   56    1   1       120   236    0        1      178      0      0.8      2   \n",
       "4   57    0   0       120   354    0        1      163      1      0.6      2   \n",
       "\n",
       "   ca  thal  target  \n",
       "0   0     1       1  \n",
       "1   0     2       1  \n",
       "2   0     2       1  \n",
       "3   0     2       1  \n",
       "4   0     2       1  "
      ]
     },
     "execution_count": 6,
     "metadata": {},
     "output_type": "execute_result"
    }
   ],
   "source": [
    "# your code\n",
    "import pandas as pd\n",
    "\n",
    "csv = '/kaggle/input/heartcsv/Lab04/heart.csv'\n",
    "df = pd.read_csv(csv)\n",
    "df.head()"
   ]
  },
  {
   "cell_type": "markdown",
   "id": "dccc2a4e",
   "metadata": {
    "papermill": {
     "duration": 0.006499,
     "end_time": "2023-03-13T13:32:23.076266",
     "exception": false,
     "start_time": "2023-03-13T13:32:23.069767",
     "status": "completed"
    },
    "tags": []
   },
   "source": [
    "### 2.2 Split the data into two subsets and normalize the features of samples\n",
    "\n",
    "* Split the dataset into the train_val set and testing set. \n",
    "* Normalize features"
   ]
  },
  {
   "cell_type": "code",
   "execution_count": 7,
   "id": "1ac1e31d",
   "metadata": {
    "execution": {
     "iopub.execute_input": "2023-03-13T13:32:23.088618Z",
     "iopub.status.busy": "2023-03-13T13:32:23.088195Z",
     "iopub.status.idle": "2023-03-13T13:32:23.109229Z",
     "shell.execute_reply": "2023-03-13T13:32:23.107904Z"
    },
    "papermill": {
     "duration": 0.030098,
     "end_time": "2023-03-13T13:32:23.111856",
     "exception": false,
     "start_time": "2023-03-13T13:32:23.081758",
     "status": "completed"
    },
    "tags": []
   },
   "outputs": [
    {
     "name": "stdout",
     "output_type": "stream",
     "text": [
      "train_val: 266, test: 37\n"
     ]
    }
   ],
   "source": [
    "## your code\n",
    "X,y = df.drop(columns='target'),df.target\n",
    "X_train_val, X_test, y_train_val, y_test = train_test_split(X, y, \n",
    "                                                            test_size=0.12, \n",
    "                                                            random_state=0)\n",
    "print(\"train_val: {}, test: {}\".format(X_train_val.shape[0], X_test.shape[0]))\n",
    "\n",
    "normalizer = StandardScaler()\n",
    "X_train_val = normalizer.fit_transform(X_train_val)\n",
    "X_test = normalizer.transform(X_test)"
   ]
  },
  {
   "cell_type": "markdown",
   "id": "d8206b16",
   "metadata": {
    "papermill": {
     "duration": 0.005188,
     "end_time": "2023-03-13T13:32:23.122581",
     "exception": false,
     "start_time": "2023-03-13T13:32:23.117393",
     "status": "completed"
    },
    "tags": []
   },
   "source": [
    "### 2.3 Train the KNN model and select the hyperparameter with cross-validation\n",
    "\n",
    "\n",
    "* Use the 5-fold cross-validation to select the hyperparameter $K$.\n",
    "* Search $K$ from $\\{1, 2, 3, 4, 5\\}$\n"
   ]
  },
  {
   "cell_type": "code",
   "execution_count": 8,
   "id": "909d18b1",
   "metadata": {
    "execution": {
     "iopub.execute_input": "2023-03-13T13:32:23.135773Z",
     "iopub.status.busy": "2023-03-13T13:32:23.134605Z",
     "iopub.status.idle": "2023-03-13T13:32:23.213179Z",
     "shell.execute_reply": "2023-03-13T13:32:23.211436Z"
    },
    "papermill": {
     "duration": 0.08811,
     "end_time": "2023-03-13T13:32:23.216045",
     "exception": false,
     "start_time": "2023-03-13T13:32:23.127935",
     "status": "completed"
    },
    "tags": []
   },
   "outputs": [
    {
     "name": "stdout",
     "output_type": "stream",
     "text": [
      "0.8194269741439554\n",
      "{'n_neighbors': 3}\n"
     ]
    }
   ],
   "source": [
    "## your code\n",
    "k_range = range(1, 5)\n",
    "param_grid = dict(n_neighbors=k_range)\n",
    "\n",
    "clf_knn =  KNeighborsClassifier(n_neighbors=1)\n",
    "\n",
    "grid = GridSearchCV(clf_knn, param_grid, cv=5, scoring='accuracy')\n",
    "grid.fit(X_train_val, y_train_val)\n",
    "\n",
    "print(grid.best_score_)\n",
    "print(grid.best_params_)"
   ]
  },
  {
   "cell_type": "markdown",
   "id": "5847d203",
   "metadata": {
    "papermill": {
     "duration": 0.004932,
     "end_time": "2023-03-13T13:32:23.226749",
     "exception": false,
     "start_time": "2023-03-13T13:32:23.221817",
     "status": "completed"
    },
    "tags": []
   },
   "source": [
    "### 2.4 Evaluate the learned model\n",
    "\n",
    "* Report the prediction accuracy, recall, precision, and F1 score.\n",
    "\n",
    "* Note that you should implement the code for these metrics by yourself. Please do NOT use the built-in function in sklearn. "
   ]
  },
  {
   "cell_type": "code",
   "execution_count": 9,
   "id": "2b6bf565",
   "metadata": {
    "execution": {
     "iopub.execute_input": "2023-03-13T13:32:23.238523Z",
     "iopub.status.busy": "2023-03-13T13:32:23.238148Z",
     "iopub.status.idle": "2023-03-13T13:32:23.254566Z",
     "shell.execute_reply": "2023-03-13T13:32:23.253168Z"
    },
    "papermill": {
     "duration": 0.025591,
     "end_time": "2023-03-13T13:32:23.257353",
     "exception": false,
     "start_time": "2023-03-13T13:32:23.231762",
     "status": "completed"
    },
    "tags": []
   },
   "outputs": [
    {
     "name": "stdout",
     "output_type": "stream",
     "text": [
      "accuracy: 0.838, recall: 0.824, precision: 0.824, f1: 0.824,\n"
     ]
    }
   ],
   "source": [
    "## your code\n",
    "clf_knn =  KNeighborsClassifier(n_neighbors=grid.best_params_['n_neighbors'])\n",
    "clf_knn.fit(X_train_val, y_train_val)\n",
    "\n",
    "# evaluate the model on the testing set\n",
    "y_test_pred = clf_knn.predict(X_test)\n",
    "\n",
    "\n",
    "acc = accuracy_score(y_test, y_test_pred)\n",
    "f1 = f1_score(y_test, y_test_pred)\n",
    "recall = recall_score(y_test, y_test_pred)\n",
    "precision = precision_score(y_test, y_test_pred)\n",
    "\n",
    "\n",
    "print(\"accuracy: {:.3f}, recall: {:.3f}, precision: {:.3f}, f1: {:.3f},\".format(acc, recall, precision, f1))"
   ]
  }
 ],
 "metadata": {
  "kernelspec": {
   "display_name": "Python 3",
   "language": "python",
   "name": "python3"
  },
  "language_info": {
   "codemirror_mode": {
    "name": "ipython",
    "version": 3
   },
   "file_extension": ".py",
   "mimetype": "text/x-python",
   "name": "python",
   "nbconvert_exporter": "python",
   "pygments_lexer": "ipython3",
   "version": "3.7.12"
  },
  "papermill": {
   "default_parameters": {},
   "duration": 12.118977,
   "end_time": "2023-03-13T13:32:24.086569",
   "environment_variables": {},
   "exception": null,
   "input_path": "__notebook__.ipynb",
   "output_path": "__notebook__.ipynb",
   "parameters": {},
   "start_time": "2023-03-13T13:32:11.967592",
   "version": "2.4.0"
  }
 },
 "nbformat": 4,
 "nbformat_minor": 5
}
