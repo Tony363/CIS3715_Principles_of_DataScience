{
 "cells": [
  {
   "cell_type": "markdown",
   "id": "676b2304",
   "metadata": {
    "papermill": {
     "duration": 0.006273,
     "end_time": "2023-03-20T16:12:32.295991",
     "exception": false,
     "start_time": "2023-03-20T16:12:32.289718",
     "status": "completed"
    },
    "tags": []
   },
   "source": [
    "# Lab 5: KNN"
   ]
  },
  {
   "cell_type": "code",
   "execution_count": 1,
   "id": "e2ce55a6",
   "metadata": {
    "execution": {
     "iopub.execute_input": "2023-03-20T16:12:32.308972Z",
     "iopub.status.busy": "2023-03-20T16:12:32.308219Z",
     "iopub.status.idle": "2023-03-20T16:12:32.318235Z",
     "shell.execute_reply": "2023-03-20T16:12:32.316660Z"
    },
    "papermill": {
     "duration": 0.019761,
     "end_time": "2023-03-20T16:12:32.321172",
     "exception": false,
     "start_time": "2023-03-20T16:12:32.301411",
     "status": "completed"
    },
    "tags": []
   },
   "outputs": [],
   "source": [
    "csv = '/kaggle/input/heartcsv/Lab04/heart.csv'"
   ]
  },
  {
   "cell_type": "markdown",
   "id": "37042444",
   "metadata": {
    "papermill": {
     "duration": 0.005052,
     "end_time": "2023-03-20T16:12:32.331736",
     "exception": false,
     "start_time": "2023-03-20T16:12:32.326684",
     "status": "completed"
    },
    "tags": []
   },
   "source": [
    "In this assignment, we will learn the KNN model.\n",
    "\n",
    "First, please study the given example, which uses the KNN model for the breast cancer classification task. In this example, you will learn how to preprocess data, how to train the model, and how to evaluate the model.\n",
    "\n",
    "Based on the given example, your task is to use the KNN model to predict the presence of heart disease.\n"
   ]
  },
  {
   "cell_type": "markdown",
   "id": "82f8a040",
   "metadata": {
    "papermill": {
     "duration": 0.005022,
     "end_time": "2023-03-20T16:12:32.342030",
     "exception": false,
     "start_time": "2023-03-20T16:12:32.337008",
     "status": "completed"
    },
    "tags": []
   },
   "source": [
    "## 1. Example"
   ]
  },
  {
   "cell_type": "markdown",
   "id": "7fae6457",
   "metadata": {
    "papermill": {
     "duration": 0.004934,
     "end_time": "2023-03-20T16:12:32.352343",
     "exception": false,
     "start_time": "2023-03-20T16:12:32.347409",
     "status": "completed"
    },
    "tags": []
   },
   "source": [
    "### 1.1 Load the breast cancer data"
   ]
  },
  {
   "cell_type": "markdown",
   "id": "64badadb",
   "metadata": {
    "papermill": {
     "duration": 0.004877,
     "end_time": "2023-03-20T16:12:32.362385",
     "exception": false,
     "start_time": "2023-03-20T16:12:32.357508",
     "status": "completed"
    },
    "tags": []
   },
   "source": [
    "Here, we use the [breast cancer](https://scikit-learn.org/stable/modules/generated/sklearn.datasets.load_breast_cancer.html#sklearn.datasets.load_breast_cancer) dataset in sklearn. It is a binary classification dataset. Each sample has 30 numerical features, which can be found in [7.1.7](https://scikit-learn.org/stable/datasets/toy_dataset.html)."
   ]
  },
  {
   "cell_type": "code",
   "execution_count": 2,
   "id": "7aaacf15",
   "metadata": {
    "execution": {
     "iopub.execute_input": "2023-03-20T16:12:32.375253Z",
     "iopub.status.busy": "2023-03-20T16:12:32.374079Z",
     "iopub.status.idle": "2023-03-20T16:12:33.723714Z",
     "shell.execute_reply": "2023-03-20T16:12:33.722381Z"
    },
    "papermill": {
     "duration": 1.359727,
     "end_time": "2023-03-20T16:12:33.727305",
     "exception": false,
     "start_time": "2023-03-20T16:12:32.367578",
     "status": "completed"
    },
    "tags": []
   },
   "outputs": [
    {
     "name": "stdout",
     "output_type": "stream",
     "text": [
      "#samples: 569, #features: 30\n"
     ]
    }
   ],
   "source": [
    "import numpy as np\n",
    "from sklearn.model_selection import train_test_split\n",
    "from sklearn import datasets\n",
    "from sklearn.preprocessing import StandardScaler\n",
    "from sklearn.model_selection import GridSearchCV\n",
    "from sklearn.neighbors import KNeighborsClassifier\n",
    "from sklearn.metrics import accuracy_score, f1_score\n",
    "from sklearn.metrics import f1_score\n",
    "from sklearn.metrics import recall_score\n",
    "from sklearn.metrics import precision_score\n",
    "from random import shuffle\n",
    "import random\n",
    "random.seed(123)\n",
    "\n",
    "X, y = datasets.load_breast_cancer(return_X_y=True)\n",
    "print(\"#samples: {}, #features: {}\".format(X.shape[0], X.shape[1]))"
   ]
  },
  {
   "cell_type": "markdown",
   "id": "c5419a14",
   "metadata": {
    "papermill": {
     "duration": 0.007152,
     "end_time": "2023-03-20T16:12:33.741918",
     "exception": false,
     "start_time": "2023-03-20T16:12:33.734766",
     "status": "completed"
    },
    "tags": []
   },
   "source": [
    "### 1.2 Split the data into two subsets and normalize the features of samples\n",
    "\n",
    "Here, we use 69 samples as the testing set and use the remained samples to train the logistic regression model. "
   ]
  },
  {
   "cell_type": "code",
   "execution_count": 3,
   "id": "c8631ea3",
   "metadata": {
    "execution": {
     "iopub.execute_input": "2023-03-20T16:12:33.755928Z",
     "iopub.status.busy": "2023-03-20T16:12:33.755105Z",
     "iopub.status.idle": "2023-03-20T16:12:33.768096Z",
     "shell.execute_reply": "2023-03-20T16:12:33.766489Z"
    },
    "papermill": {
     "duration": 0.023633,
     "end_time": "2023-03-20T16:12:33.771625",
     "exception": false,
     "start_time": "2023-03-20T16:12:33.747992",
     "status": "completed"
    },
    "tags": []
   },
   "outputs": [
    {
     "name": "stdout",
     "output_type": "stream",
     "text": [
      "train_val: 500, test: 69\n"
     ]
    }
   ],
   "source": [
    "X_train_val, X_test, y_train_val, y_test = train_test_split(X, y, \n",
    "                                                            test_size=0.12, \n",
    "                                                            random_state=0)\n",
    "print(\"train_val: {}, test: {}\".format(X_train_val.shape[0], X_test.shape[0]))\n",
    "\n",
    "normalizer = StandardScaler()\n",
    "X_train_val = normalizer.fit_transform(X_train_val)\n",
    "X_test = normalizer.transform(X_test)\n"
   ]
  },
  {
   "cell_type": "markdown",
   "id": "bb1ad0c7",
   "metadata": {
    "papermill": {
     "duration": 0.007659,
     "end_time": "2023-03-20T16:12:33.787442",
     "exception": false,
     "start_time": "2023-03-20T16:12:33.779783",
     "status": "completed"
    },
    "tags": []
   },
   "source": [
    "### 1.3 Train the KNN model and select the hyperparameter with cross-validation\n",
    "\n",
    "Here, we use cross-validation to select the hyperparameter $K$"
   ]
  },
  {
   "cell_type": "code",
   "execution_count": 4,
   "id": "33e78252",
   "metadata": {
    "execution": {
     "iopub.execute_input": "2023-03-20T16:12:33.805915Z",
     "iopub.status.busy": "2023-03-20T16:12:33.804648Z",
     "iopub.status.idle": "2023-03-20T16:12:34.074026Z",
     "shell.execute_reply": "2023-03-20T16:12:34.072779Z"
    },
    "papermill": {
     "duration": 0.283161,
     "end_time": "2023-03-20T16:12:34.078499",
     "exception": false,
     "start_time": "2023-03-20T16:12:33.795338",
     "status": "completed"
    },
    "tags": []
   },
   "outputs": [
    {
     "name": "stdout",
     "output_type": "stream",
     "text": [
      "0.9640000000000001\n",
      "{'n_neighbors': 4}\n"
     ]
    }
   ],
   "source": [
    "k_range = range(1, 5)\n",
    "param_grid = dict(n_neighbors=k_range)\n",
    "\n",
    "clf_knn =  KNeighborsClassifier(n_neighbors=1)\n",
    "\n",
    "grid = GridSearchCV(clf_knn, param_grid, cv=5, scoring='accuracy')\n",
    "grid.fit(X_train_val, y_train_val)\n",
    "\n",
    "print(grid.best_score_)\n",
    "print(grid.best_params_)"
   ]
  },
  {
   "cell_type": "markdown",
   "id": "9e2bf885",
   "metadata": {
    "papermill": {
     "duration": 0.027182,
     "end_time": "2023-03-20T16:12:34.128741",
     "exception": false,
     "start_time": "2023-03-20T16:12:34.101559",
     "status": "completed"
    },
    "tags": []
   },
   "source": [
    "### 1.4 Evaluate the learned model\n",
    "\n",
    "After getting the best hyperparameter $K$,  we evaluate this  model on the testing set. "
   ]
  },
  {
   "cell_type": "code",
   "execution_count": 5,
   "id": "ba5d049f",
   "metadata": {
    "execution": {
     "iopub.execute_input": "2023-03-20T16:12:34.185750Z",
     "iopub.status.busy": "2023-03-20T16:12:34.185086Z",
     "iopub.status.idle": "2023-03-20T16:12:34.211989Z",
     "shell.execute_reply": "2023-03-20T16:12:34.210695Z"
    },
    "papermill": {
     "duration": 0.070477,
     "end_time": "2023-03-20T16:12:34.227696",
     "exception": false,
     "start_time": "2023-03-20T16:12:34.157219",
     "status": "completed"
    },
    "tags": []
   },
   "outputs": [
    {
     "name": "stdout",
     "output_type": "stream",
     "text": [
      "accuracy: 0.971, recall: 0.975, precision: 0.975, f1: 0.975,\n"
     ]
    }
   ],
   "source": [
    "clf_knn =  KNeighborsClassifier(n_neighbors=grid.best_params_['n_neighbors'])\n",
    "clf_knn.fit(X_train_val, y_train_val)\n",
    "\n",
    "# evaluate the model on the testing set\n",
    "y_test_pred = clf_knn.predict(X_test)\n",
    "\n",
    "\n",
    "acc = accuracy_score(y_test, y_test_pred)\n",
    "f1 = f1_score(y_test, y_test_pred)\n",
    "recall = recall_score(y_test, y_test_pred)\n",
    "precision = precision_score(y_test, y_test_pred)\n",
    "\n",
    "\n",
    "print(\"accuracy: {:.3f}, recall: {:.3f}, precision: {:.3f}, f1: {:.3f},\".format(acc, recall, precision, f1))"
   ]
  },
  {
   "cell_type": "markdown",
   "id": "e9e7bb90",
   "metadata": {
    "papermill": {
     "duration": 0.046863,
     "end_time": "2023-03-20T16:12:34.307954",
     "exception": false,
     "start_time": "2023-03-20T16:12:34.261091",
     "status": "completed"
    },
    "tags": []
   },
   "source": [
    "## 2. Task\n",
    "\n",
    "Here, we use the [heart disease](./heart.csv) dataset. Each sample has the following feature: \n",
    "\n",
    "* age\n",
    "* sex\n",
    "* chest pain type (4 values)\n",
    "* resting blood pressure\n",
    "* serum cholestoral in mg/dl\n",
    "* fasting blood sugar > 120 mg/dl\n",
    "* resting electrocardiographic results (values 0,1,2)\n",
    "* maximum heart rate achieved\n",
    "* exercise induced angina\n",
    "* oldpeak = ST depression induced by exercise relative to rest\n",
    "* the slope of the peak exercise ST segment\n",
    "* number of major vessels (0-3) colored by flourosopy\n",
    "* thal: 3 = normal; 6 = fixed defect; 7 = reversable defect\n",
    "\n",
    "The last column refers to the presence of heart disease in the patient.\n",
    "\n",
    "The task is to predict whether a person has the heart disease. Here, you can use your code in Lab04 for Task 2.1 and Task 2.2. "
   ]
  },
  {
   "cell_type": "markdown",
   "id": "c81b5c00",
   "metadata": {
    "papermill": {
     "duration": 0.007805,
     "end_time": "2023-03-20T16:12:34.324720",
     "exception": false,
     "start_time": "2023-03-20T16:12:34.316915",
     "status": "completed"
    },
    "tags": []
   },
   "source": [
    "### 2.1 Preprocess the raw data\n",
    "\n",
    "* Check whether there are missing values\n",
    "* Check whether theare are cateogrical features\n",
    "* Check whether this dataset is balanced or not (use the bar plot to visualize the number of positive and negative samples)\n"
   ]
  },
  {
   "cell_type": "code",
   "execution_count": 6,
   "id": "e08ab2e7",
   "metadata": {
    "execution": {
     "iopub.execute_input": "2023-03-20T16:12:34.338268Z",
     "iopub.status.busy": "2023-03-20T16:12:34.337733Z",
     "iopub.status.idle": "2023-03-20T16:12:34.388658Z",
     "shell.execute_reply": "2023-03-20T16:12:34.387308Z"
    },
    "papermill": {
     "duration": 0.061048,
     "end_time": "2023-03-20T16:12:34.391511",
     "exception": false,
     "start_time": "2023-03-20T16:12:34.330463",
     "status": "completed"
    },
    "tags": []
   },
   "outputs": [
    {
     "data": {
      "text/html": [
       "<div>\n",
       "<style scoped>\n",
       "    .dataframe tbody tr th:only-of-type {\n",
       "        vertical-align: middle;\n",
       "    }\n",
       "\n",
       "    .dataframe tbody tr th {\n",
       "        vertical-align: top;\n",
       "    }\n",
       "\n",
       "    .dataframe thead th {\n",
       "        text-align: right;\n",
       "    }\n",
       "</style>\n",
       "<table border=\"1\" class=\"dataframe\">\n",
       "  <thead>\n",
       "    <tr style=\"text-align: right;\">\n",
       "      <th></th>\n",
       "      <th>age</th>\n",
       "      <th>sex</th>\n",
       "      <th>cp</th>\n",
       "      <th>trestbps</th>\n",
       "      <th>chol</th>\n",
       "      <th>fbs</th>\n",
       "      <th>restecg</th>\n",
       "      <th>thalach</th>\n",
       "      <th>exang</th>\n",
       "      <th>oldpeak</th>\n",
       "      <th>slope</th>\n",
       "      <th>ca</th>\n",
       "      <th>thal</th>\n",
       "      <th>target</th>\n",
       "    </tr>\n",
       "  </thead>\n",
       "  <tbody>\n",
       "    <tr>\n",
       "      <th>0</th>\n",
       "      <td>63</td>\n",
       "      <td>1</td>\n",
       "      <td>3</td>\n",
       "      <td>145</td>\n",
       "      <td>233</td>\n",
       "      <td>1</td>\n",
       "      <td>0</td>\n",
       "      <td>150</td>\n",
       "      <td>0</td>\n",
       "      <td>2.3</td>\n",
       "      <td>0</td>\n",
       "      <td>0</td>\n",
       "      <td>1</td>\n",
       "      <td>1</td>\n",
       "    </tr>\n",
       "    <tr>\n",
       "      <th>1</th>\n",
       "      <td>37</td>\n",
       "      <td>1</td>\n",
       "      <td>2</td>\n",
       "      <td>130</td>\n",
       "      <td>250</td>\n",
       "      <td>0</td>\n",
       "      <td>1</td>\n",
       "      <td>187</td>\n",
       "      <td>0</td>\n",
       "      <td>3.5</td>\n",
       "      <td>0</td>\n",
       "      <td>0</td>\n",
       "      <td>2</td>\n",
       "      <td>1</td>\n",
       "    </tr>\n",
       "    <tr>\n",
       "      <th>2</th>\n",
       "      <td>41</td>\n",
       "      <td>0</td>\n",
       "      <td>1</td>\n",
       "      <td>130</td>\n",
       "      <td>204</td>\n",
       "      <td>0</td>\n",
       "      <td>0</td>\n",
       "      <td>172</td>\n",
       "      <td>0</td>\n",
       "      <td>1.4</td>\n",
       "      <td>2</td>\n",
       "      <td>0</td>\n",
       "      <td>2</td>\n",
       "      <td>1</td>\n",
       "    </tr>\n",
       "    <tr>\n",
       "      <th>3</th>\n",
       "      <td>56</td>\n",
       "      <td>1</td>\n",
       "      <td>1</td>\n",
       "      <td>120</td>\n",
       "      <td>236</td>\n",
       "      <td>0</td>\n",
       "      <td>1</td>\n",
       "      <td>178</td>\n",
       "      <td>0</td>\n",
       "      <td>0.8</td>\n",
       "      <td>2</td>\n",
       "      <td>0</td>\n",
       "      <td>2</td>\n",
       "      <td>1</td>\n",
       "    </tr>\n",
       "    <tr>\n",
       "      <th>4</th>\n",
       "      <td>57</td>\n",
       "      <td>0</td>\n",
       "      <td>0</td>\n",
       "      <td>120</td>\n",
       "      <td>354</td>\n",
       "      <td>0</td>\n",
       "      <td>1</td>\n",
       "      <td>163</td>\n",
       "      <td>1</td>\n",
       "      <td>0.6</td>\n",
       "      <td>2</td>\n",
       "      <td>0</td>\n",
       "      <td>2</td>\n",
       "      <td>1</td>\n",
       "    </tr>\n",
       "  </tbody>\n",
       "</table>\n",
       "</div>"
      ],
      "text/plain": [
       "   age  sex  cp  trestbps  chol  fbs  restecg  thalach  exang  oldpeak  slope  \\\n",
       "0   63    1   3       145   233    1        0      150      0      2.3      0   \n",
       "1   37    1   2       130   250    0        1      187      0      3.5      0   \n",
       "2   41    0   1       130   204    0        0      172      0      1.4      2   \n",
       "3   56    1   1       120   236    0        1      178      0      0.8      2   \n",
       "4   57    0   0       120   354    0        1      163      1      0.6      2   \n",
       "\n",
       "   ca  thal  target  \n",
       "0   0     1       1  \n",
       "1   0     2       1  \n",
       "2   0     2       1  \n",
       "3   0     2       1  \n",
       "4   0     2       1  "
      ]
     },
     "execution_count": 6,
     "metadata": {},
     "output_type": "execute_result"
    }
   ],
   "source": [
    "# your code\n",
    "import pandas as pd\n",
    "\n",
    "csv = '/kaggle/input/heartcsv/Lab04/heart.csv'\n",
    "df = pd.read_csv(csv)\n",
    "df.head()"
   ]
  },
  {
   "cell_type": "markdown",
   "id": "0d71ad8e",
   "metadata": {
    "papermill": {
     "duration": 0.005716,
     "end_time": "2023-03-20T16:12:34.403375",
     "exception": false,
     "start_time": "2023-03-20T16:12:34.397659",
     "status": "completed"
    },
    "tags": []
   },
   "source": [
    "### 2.2 Split the data into two subsets and normalize the features of samples\n",
    "\n",
    "* Split the dataset into the train_val set and testing set. \n",
    "* Normalize features"
   ]
  },
  {
   "cell_type": "code",
   "execution_count": 7,
   "id": "26ac476d",
   "metadata": {
    "execution": {
     "iopub.execute_input": "2023-03-20T16:12:34.417907Z",
     "iopub.status.busy": "2023-03-20T16:12:34.416776Z",
     "iopub.status.idle": "2023-03-20T16:12:34.439765Z",
     "shell.execute_reply": "2023-03-20T16:12:34.438297Z"
    },
    "papermill": {
     "duration": 0.032908,
     "end_time": "2023-03-20T16:12:34.442356",
     "exception": false,
     "start_time": "2023-03-20T16:12:34.409448",
     "status": "completed"
    },
    "tags": []
   },
   "outputs": [
    {
     "name": "stdout",
     "output_type": "stream",
     "text": [
      "train_val: 266, test: 37\n"
     ]
    }
   ],
   "source": [
    "## your code\n",
    "X,y = df.drop(columns='target'),df.target\n",
    "X_train_val, X_test, y_train_val, y_test = train_test_split(X, y, \n",
    "                                                            test_size=0.12, \n",
    "                                                            random_state=0)\n",
    "print(\"train_val: {}, test: {}\".format(X_train_val.shape[0], X_test.shape[0]))\n",
    "\n",
    "normalizer = StandardScaler()\n",
    "X_train_val = normalizer.fit_transform(X_train_val)\n",
    "X_test = normalizer.transform(X_test)"
   ]
  },
  {
   "cell_type": "markdown",
   "id": "6a7caaf1",
   "metadata": {
    "papermill": {
     "duration": 0.005694,
     "end_time": "2023-03-20T16:12:34.454067",
     "exception": false,
     "start_time": "2023-03-20T16:12:34.448373",
     "status": "completed"
    },
    "tags": []
   },
   "source": [
    "### 2.3 Train the KNN model and select the hyperparameter with cross-validation\n",
    "\n",
    "\n",
    "* Use the 5-fold cross-validation to select the hyperparameter $K$.\n",
    "* Search $K$ from $\\{1, 2, 3, 4, 5\\}$\n"
   ]
  },
  {
   "cell_type": "code",
   "execution_count": 8,
   "id": "f68aa956",
   "metadata": {
    "execution": {
     "iopub.execute_input": "2023-03-20T16:12:34.468664Z",
     "iopub.status.busy": "2023-03-20T16:12:34.467374Z",
     "iopub.status.idle": "2023-03-20T16:12:34.559922Z",
     "shell.execute_reply": "2023-03-20T16:12:34.558270Z"
    },
    "papermill": {
     "duration": 0.102333,
     "end_time": "2023-03-20T16:12:34.562634",
     "exception": false,
     "start_time": "2023-03-20T16:12:34.460301",
     "status": "completed"
    },
    "tags": []
   },
   "outputs": [
    {
     "name": "stdout",
     "output_type": "stream",
     "text": [
      "0.8194269741439554\n",
      "{'n_neighbors': 3}\n"
     ]
    }
   ],
   "source": [
    "## your code\n",
    "k_range = range(1, 5)\n",
    "param_grid = dict(n_neighbors=k_range)\n",
    "\n",
    "clf_knn =  KNeighborsClassifier(n_neighbors=1)\n",
    "\n",
    "grid = GridSearchCV(clf_knn, param_grid, cv=5, scoring='accuracy')\n",
    "grid.fit(X_train_val, y_train_val)\n",
    "\n",
    "print(grid.best_score_)\n",
    "print(grid.best_params_)"
   ]
  },
  {
   "cell_type": "markdown",
   "id": "2b3c1d61",
   "metadata": {
    "papermill": {
     "duration": 0.005598,
     "end_time": "2023-03-20T16:12:34.574256",
     "exception": false,
     "start_time": "2023-03-20T16:12:34.568658",
     "status": "completed"
    },
    "tags": []
   },
   "source": [
    "### 2.4 Evaluate the learned model\n",
    "\n",
    "* Report the prediction accuracy, recall, precision, and F1 score.\n",
    "\n",
    "* Note that you should implement the code for these metrics by yourself. Please do NOT use the built-in function in sklearn. "
   ]
  },
  {
   "cell_type": "code",
   "execution_count": 9,
   "id": "6a9f6fa8",
   "metadata": {
    "execution": {
     "iopub.execute_input": "2023-03-20T16:12:34.587947Z",
     "iopub.status.busy": "2023-03-20T16:12:34.587540Z",
     "iopub.status.idle": "2023-03-20T16:12:34.604697Z",
     "shell.execute_reply": "2023-03-20T16:12:34.603069Z"
    },
    "papermill": {
     "duration": 0.02794,
     "end_time": "2023-03-20T16:12:34.608134",
     "exception": false,
     "start_time": "2023-03-20T16:12:34.580194",
     "status": "completed"
    },
    "tags": []
   },
   "outputs": [
    {
     "name": "stdout",
     "output_type": "stream",
     "text": [
      "accuracy: 0.838, recall: 0.824, precision: 0.824, f1: 0.824,\n"
     ]
    }
   ],
   "source": [
    "## your code\n",
    "clf_knn =  KNeighborsClassifier(n_neighbors=grid.best_params_['n_neighbors'])\n",
    "clf_knn.fit(X_train_val, y_train_val)\n",
    "\n",
    "# evaluate the model on the testing set\n",
    "y_test_pred = clf_knn.predict(X_test)\n",
    "\n",
    "\n",
    "acc = accuracy_score(y_test, y_test_pred)\n",
    "f1 = f1_score(y_test, y_test_pred)\n",
    "recall = recall_score(y_test, y_test_pred)\n",
    "precision = precision_score(y_test, y_test_pred)\n",
    "\n",
    "\n",
    "print(\"accuracy: {:.3f}, recall: {:.3f}, precision: {:.3f}, f1: {:.3f},\".format(acc, recall, precision, f1))"
   ]
  },
  {
   "cell_type": "code",
   "execution_count": 10,
   "id": "02732ee1",
   "metadata": {
    "execution": {
     "iopub.execute_input": "2023-03-20T16:12:34.622437Z",
     "iopub.status.busy": "2023-03-20T16:12:34.621962Z",
     "iopub.status.idle": "2023-03-20T16:12:34.638940Z",
     "shell.execute_reply": "2023-03-20T16:12:34.637489Z"
    },
    "papermill": {
     "duration": 0.027667,
     "end_time": "2023-03-20T16:12:34.642111",
     "exception": false,
     "start_time": "2023-03-20T16:12:34.614444",
     "status": "completed"
    },
    "tags": []
   },
   "outputs": [
    {
     "name": "stdout",
     "output_type": "stream",
     "text": [
      "accuracy: 0.838, recall: 0.824, precision: 0.824, f1: 0.824,\n"
     ]
    }
   ],
   "source": [
    "\n",
    "def accuracy_score(y_true, y_pred):\n",
    "    accuracy = np.sum(y_true == y_pred) / len(y_true)\n",
    "    return accuracy\n",
    "\n",
    "def classification_report(y_test, y_pred):\n",
    "    # calculate precision, recall, f1-score\n",
    "    # TODO:\n",
    "    cm = confusion_matrix(y_test,y_pred)\n",
    "    precision = cm[1,1]/(cm[1,1] + cm[0,1])\n",
    "    recall = cm[1,1]/(cm[1,1] + cm[1,0])\n",
    "    f1 = 2*(precision * recall)/(precision + recall)\n",
    "    acc = accuracy_score(y_test,y_pred)\n",
    "    # end TODO\n",
    "    return(precision,recall,f1,acc)\n",
    "\n",
    "def confusion_matrix(y_test, y_pred):\n",
    "    # return the 2x2 matrix\n",
    "    # TODO:\n",
    "    # https://stackoverflow.com/questions/68157408/using-numpy-to-test-for-false-positives-and-false-negatives\n",
    "    result = np.array([[0, 0], [0, 0]])\n",
    "    result[1,1] = np.sum(np.logical_and(y_pred == 1, y_test == 1))\n",
    "    result[0,0] = np.sum(np.logical_and(y_pred == 0, y_test == 0))\n",
    "    result[0,1] = np.sum(np.logical_and(y_pred == 1, y_test == 0))\n",
    "    result[1,0] = np.sum(np.logical_and(y_pred == 0, y_test == 1))\n",
    "    # end TODO\n",
    "    return result\n",
    "\n",
    "\n",
    "precision,recall,f1,acc = classification_report(y_test, y_test_pred)\n",
    "print(\"accuracy: {:.3f}, recall: {:.3f}, precision: {:.3f}, f1: {:.3f},\".format(acc, recall, precision, f1))"
   ]
  }
 ],
 "metadata": {
  "kernelspec": {
   "display_name": "Python 3",
   "language": "python",
   "name": "python3"
  },
  "language_info": {
   "codemirror_mode": {
    "name": "ipython",
    "version": 3
   },
   "file_extension": ".py",
   "mimetype": "text/x-python",
   "name": "python",
   "nbconvert_exporter": "python",
   "pygments_lexer": "ipython3",
   "version": "3.7.12"
  },
  "papermill": {
   "default_parameters": {},
   "duration": 13.389087,
   "end_time": "2023-03-20T16:12:35.471747",
   "environment_variables": {},
   "exception": null,
   "input_path": "__notebook__.ipynb",
   "output_path": "__notebook__.ipynb",
   "parameters": {},
   "start_time": "2023-03-20T16:12:22.082660",
   "version": "2.4.0"
  }
 },
 "nbformat": 4,
 "nbformat_minor": 5
}
