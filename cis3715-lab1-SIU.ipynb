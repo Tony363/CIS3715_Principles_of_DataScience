{
 "cells": [
  {
   "cell_type": "markdown",
   "id": "0dd2a434",
   "metadata": {
    "papermill": {
     "duration": 0.009332,
     "end_time": "2023-01-23T03:28:40.410310",
     "exception": false,
     "start_time": "2023-01-23T03:28:40.400978",
     "status": "completed"
    },
    "tags": []
   },
   "source": [
    "# Part 1. Python Basics\n"
   ]
  },
  {
   "cell_type": "markdown",
   "id": "501504c3",
   "metadata": {
    "papermill": {
     "duration": 0.008295,
     "end_time": "2023-01-23T03:28:40.427128",
     "exception": false,
     "start_time": "2023-01-23T03:28:40.418833",
     "status": "completed"
    },
    "tags": []
   },
   "source": [
    "## Task 1"
   ]
  },
  {
   "cell_type": "code",
   "execution_count": 1,
   "id": "1f8e6c1b",
   "metadata": {
    "_cell_guid": "b1076dfc-b9ad-4769-8c92-a6c4dae69d19",
    "_uuid": "8f2839f25d086af736a60e9eeb907d3b93b6e0e5",
    "execution": {
     "iopub.execute_input": "2023-01-23T03:28:40.446781Z",
     "iopub.status.busy": "2023-01-23T03:28:40.446185Z",
     "iopub.status.idle": "2023-01-23T03:28:40.454422Z",
     "shell.execute_reply": "2023-01-23T03:28:40.453652Z"
    },
    "papermill": {
     "duration": 0.020701,
     "end_time": "2023-01-23T03:28:40.456116",
     "exception": false,
     "start_time": "2023-01-23T03:28:40.435415",
     "status": "completed"
    },
    "tags": []
   },
   "outputs": [],
   "source": [
    "list1 = ['apple','banana','cherry']\n",
    "list2 = [1,5,7,9,3]\n",
    "list3 = [True,False,False]"
   ]
  },
  {
   "cell_type": "code",
   "execution_count": 2,
   "id": "490d4c85",
   "metadata": {
    "execution": {
     "iopub.execute_input": "2023-01-23T03:28:40.473866Z",
     "iopub.status.busy": "2023-01-23T03:28:40.473608Z",
     "iopub.status.idle": "2023-01-23T03:28:40.478245Z",
     "shell.execute_reply": "2023-01-23T03:28:40.477428Z"
    },
    "papermill": {
     "duration": 0.015364,
     "end_time": "2023-01-23T03:28:40.479910",
     "exception": false,
     "start_time": "2023-01-23T03:28:40.464546",
     "status": "completed"
    },
    "tags": []
   },
   "outputs": [
    {
     "name": "stdout",
     "output_type": "stream",
     "text": [
      "apple\n",
      "cherry\n",
      "banana\n"
     ]
    }
   ],
   "source": [
    "thislist = ['apple','banana','cherry']\n",
    "print(thislist[0])\n",
    "print(thislist[-1])\n",
    "print(thislist[-2])\n"
   ]
  },
  {
   "cell_type": "code",
   "execution_count": 3,
   "id": "3837493b",
   "metadata": {
    "execution": {
     "iopub.execute_input": "2023-01-23T03:28:40.498429Z",
     "iopub.status.busy": "2023-01-23T03:28:40.498051Z",
     "iopub.status.idle": "2023-01-23T03:28:40.503038Z",
     "shell.execute_reply": "2023-01-23T03:28:40.502131Z"
    },
    "papermill": {
     "duration": 0.016439,
     "end_time": "2023-01-23T03:28:40.504857",
     "exception": false,
     "start_time": "2023-01-23T03:28:40.488418",
     "status": "completed"
    },
    "tags": []
   },
   "outputs": [
    {
     "name": "stdout",
     "output_type": "stream",
     "text": [
      "['cherry', 'orange', 'kiwi']\n",
      "['cherry', 'orange', 'kiwi']\n"
     ]
    }
   ],
   "source": [
    "thislist = ['apple','banana','cherry','orange','kiwi','melon','mango']\n",
    "print(thislist[2:5])\n",
    "print(thislist[2:-2])"
   ]
  },
  {
   "cell_type": "code",
   "execution_count": 4,
   "id": "05462c66",
   "metadata": {
    "execution": {
     "iopub.execute_input": "2023-01-23T03:28:40.523466Z",
     "iopub.status.busy": "2023-01-23T03:28:40.523209Z",
     "iopub.status.idle": "2023-01-23T03:28:40.527486Z",
     "shell.execute_reply": "2023-01-23T03:28:40.526601Z"
    },
    "papermill": {
     "duration": 0.016224,
     "end_time": "2023-01-23T03:28:40.530258",
     "exception": false,
     "start_time": "2023-01-23T03:28:40.514034",
     "status": "completed"
    },
    "tags": []
   },
   "outputs": [
    {
     "name": "stdout",
     "output_type": "stream",
     "text": [
      "['apple', 'banana', 'cherry', 'orange']\n"
     ]
    }
   ],
   "source": [
    "thislist = list1.copy()\n",
    "thislist.append(\"orange\")\n",
    "print(thislist)"
   ]
  },
  {
   "cell_type": "code",
   "execution_count": 5,
   "id": "4fcf821c",
   "metadata": {
    "execution": {
     "iopub.execute_input": "2023-01-23T03:28:40.550850Z",
     "iopub.status.busy": "2023-01-23T03:28:40.549886Z",
     "iopub.status.idle": "2023-01-23T03:28:40.555042Z",
     "shell.execute_reply": "2023-01-23T03:28:40.554016Z"
    },
    "papermill": {
     "duration": 0.017348,
     "end_time": "2023-01-23T03:28:40.556925",
     "exception": false,
     "start_time": "2023-01-23T03:28:40.539577",
     "status": "completed"
    },
    "tags": []
   },
   "outputs": [
    {
     "name": "stdout",
     "output_type": "stream",
     "text": [
      "['apple', 'orange', 'banana', 'cherry']\n"
     ]
    }
   ],
   "source": [
    "thislist = list1.copy()\n",
    "thislist.insert(1,'orange')\n",
    "print(thislist)"
   ]
  },
  {
   "cell_type": "code",
   "execution_count": 6,
   "id": "b335da3f",
   "metadata": {
    "execution": {
     "iopub.execute_input": "2023-01-23T03:28:40.576047Z",
     "iopub.status.busy": "2023-01-23T03:28:40.575772Z",
     "iopub.status.idle": "2023-01-23T03:28:40.580522Z",
     "shell.execute_reply": "2023-01-23T03:28:40.579747Z"
    },
    "papermill": {
     "duration": 0.016281,
     "end_time": "2023-01-23T03:28:40.582271",
     "exception": false,
     "start_time": "2023-01-23T03:28:40.565990",
     "status": "completed"
    },
    "tags": []
   },
   "outputs": [
    {
     "name": "stdout",
     "output_type": "stream",
     "text": [
      "['apple', 'banana', 'cherry', 'mango', 'pineapple', 'papaya']\n"
     ]
    }
   ],
   "source": [
    "thislist = list1.copy()\n",
    "tropical = ['mango','pineapple','papaya']\n",
    "thislist.extend(tropical)\n",
    "print(thislist)"
   ]
  },
  {
   "cell_type": "code",
   "execution_count": 7,
   "id": "a372b9b0",
   "metadata": {
    "execution": {
     "iopub.execute_input": "2023-01-23T03:28:40.602639Z",
     "iopub.status.busy": "2023-01-23T03:28:40.602225Z",
     "iopub.status.idle": "2023-01-23T03:28:40.607296Z",
     "shell.execute_reply": "2023-01-23T03:28:40.606035Z"
    },
    "papermill": {
     "duration": 0.017256,
     "end_time": "2023-01-23T03:28:40.608949",
     "exception": false,
     "start_time": "2023-01-23T03:28:40.591693",
     "status": "completed"
    },
    "tags": []
   },
   "outputs": [
    {
     "name": "stdout",
     "output_type": "stream",
     "text": [
      "['apple', 'cherry']\n"
     ]
    }
   ],
   "source": [
    "thislist = list1.copy()\n",
    "thislist.remove(\"banana\")\n",
    "print(thislist)"
   ]
  },
  {
   "cell_type": "code",
   "execution_count": 8,
   "id": "8b09f206",
   "metadata": {
    "execution": {
     "iopub.execute_input": "2023-01-23T03:28:40.627629Z",
     "iopub.status.busy": "2023-01-23T03:28:40.627353Z",
     "iopub.status.idle": "2023-01-23T03:28:40.631678Z",
     "shell.execute_reply": "2023-01-23T03:28:40.630724Z"
    },
    "papermill": {
     "duration": 0.015427,
     "end_time": "2023-01-23T03:28:40.633177",
     "exception": false,
     "start_time": "2023-01-23T03:28:40.617750",
     "status": "completed"
    },
    "tags": []
   },
   "outputs": [
    {
     "name": "stdout",
     "output_type": "stream",
     "text": [
      "apple\n",
      "banana\n",
      "cherry\n"
     ]
    }
   ],
   "source": [
    "thislist = list1.copy()\n",
    "for x in thislist:\n",
    "    print(x)\n"
   ]
  },
  {
   "cell_type": "code",
   "execution_count": 9,
   "id": "c62cd643",
   "metadata": {
    "execution": {
     "iopub.execute_input": "2023-01-23T03:28:40.652276Z",
     "iopub.status.busy": "2023-01-23T03:28:40.651823Z",
     "iopub.status.idle": "2023-01-23T03:28:40.657132Z",
     "shell.execute_reply": "2023-01-23T03:28:40.656219Z"
    },
    "papermill": {
     "duration": 0.017325,
     "end_time": "2023-01-23T03:28:40.659126",
     "exception": false,
     "start_time": "2023-01-23T03:28:40.641801",
     "status": "completed"
    },
    "tags": []
   },
   "outputs": [
    {
     "name": "stdout",
     "output_type": "stream",
     "text": [
      "apple\n",
      "banana\n",
      "cherry\n"
     ]
    }
   ],
   "source": [
    "for i in range(len(thislist)):\n",
    "    print(thislist[i])"
   ]
  },
  {
   "cell_type": "code",
   "execution_count": 10,
   "id": "fc68378d",
   "metadata": {
    "execution": {
     "iopub.execute_input": "2023-01-23T03:28:40.678135Z",
     "iopub.status.busy": "2023-01-23T03:28:40.677724Z",
     "iopub.status.idle": "2023-01-23T03:28:40.682833Z",
     "shell.execute_reply": "2023-01-23T03:28:40.681672Z"
    },
    "papermill": {
     "duration": 0.016641,
     "end_time": "2023-01-23T03:28:40.684506",
     "exception": false,
     "start_time": "2023-01-23T03:28:40.667865",
     "status": "completed"
    },
    "tags": []
   },
   "outputs": [
    {
     "name": "stdout",
     "output_type": "stream",
     "text": [
      "('apple', 'banana', 'cherry', 'apple')\n"
     ]
    }
   ],
   "source": [
    "thistuple = ('apple','banana','cherry','apple')\n",
    "print(thistuple)"
   ]
  },
  {
   "cell_type": "code",
   "execution_count": 11,
   "id": "35a5744a",
   "metadata": {
    "execution": {
     "iopub.execute_input": "2023-01-23T03:28:40.703371Z",
     "iopub.status.busy": "2023-01-23T03:28:40.703006Z",
     "iopub.status.idle": "2023-01-23T03:28:40.708493Z",
     "shell.execute_reply": "2023-01-23T03:28:40.707645Z"
    },
    "papermill": {
     "duration": 0.017562,
     "end_time": "2023-01-23T03:28:40.710757",
     "exception": false,
     "start_time": "2023-01-23T03:28:40.693195",
     "status": "completed"
    },
    "tags": []
   },
   "outputs": [
    {
     "name": "stdout",
     "output_type": "stream",
     "text": [
      "banana\n",
      "mango\n",
      "('cherry', 'apple', 'orange')\n"
     ]
    }
   ],
   "source": [
    "thistuple = thistuple + ('orange','kiwi','melon','mango')\n",
    "print(thistuple[1])\n",
    "print(thistuple[-1])\n",
    "print(thistuple[2:5])"
   ]
  },
  {
   "cell_type": "code",
   "execution_count": 12,
   "id": "8b4a2f94",
   "metadata": {
    "execution": {
     "iopub.execute_input": "2023-01-23T03:28:40.730689Z",
     "iopub.status.busy": "2023-01-23T03:28:40.730417Z",
     "iopub.status.idle": "2023-01-23T03:28:40.734857Z",
     "shell.execute_reply": "2023-01-23T03:28:40.734035Z"
    },
    "papermill": {
     "duration": 0.016552,
     "end_time": "2023-01-23T03:28:40.736702",
     "exception": false,
     "start_time": "2023-01-23T03:28:40.720150",
     "status": "completed"
    },
    "tags": []
   },
   "outputs": [
    {
     "name": "stdout",
     "output_type": "stream",
     "text": [
      "apple banana cherry\n"
     ]
    }
   ],
   "source": [
    "fruits = ('apple','banana','cherry')\n",
    "green,yellow,red = fruits\n",
    "print(green,yellow,red)"
   ]
  },
  {
   "cell_type": "code",
   "execution_count": 13,
   "id": "ec0561c2",
   "metadata": {
    "execution": {
     "iopub.execute_input": "2023-01-23T03:28:40.756206Z",
     "iopub.status.busy": "2023-01-23T03:28:40.755907Z",
     "iopub.status.idle": "2023-01-23T03:28:40.759914Z",
     "shell.execute_reply": "2023-01-23T03:28:40.759145Z"
    },
    "papermill": {
     "duration": 0.016701,
     "end_time": "2023-01-23T03:28:40.762399",
     "exception": false,
     "start_time": "2023-01-23T03:28:40.745698",
     "status": "completed"
    },
    "tags": []
   },
   "outputs": [
    {
     "name": "stdout",
     "output_type": "stream",
     "text": [
      "apple\n",
      "banana\n",
      "cherry\n"
     ]
    }
   ],
   "source": [
    "for x in fruits:\n",
    "    print(x)"
   ]
  },
  {
   "cell_type": "code",
   "execution_count": 14,
   "id": "1096fed2",
   "metadata": {
    "execution": {
     "iopub.execute_input": "2023-01-23T03:28:40.782994Z",
     "iopub.status.busy": "2023-01-23T03:28:40.782702Z",
     "iopub.status.idle": "2023-01-23T03:28:40.787216Z",
     "shell.execute_reply": "2023-01-23T03:28:40.786407Z"
    },
    "papermill": {
     "duration": 0.016816,
     "end_time": "2023-01-23T03:28:40.789155",
     "exception": false,
     "start_time": "2023-01-23T03:28:40.772339",
     "status": "completed"
    },
    "tags": []
   },
   "outputs": [
    {
     "name": "stdout",
     "output_type": "stream",
     "text": [
      "apple\n",
      "banana\n",
      "cherry\n"
     ]
    }
   ],
   "source": [
    "for x in range(len(fruits)):\n",
    "    print(thistuple[x])"
   ]
  },
  {
   "cell_type": "code",
   "execution_count": 15,
   "id": "e9e3874d",
   "metadata": {
    "execution": {
     "iopub.execute_input": "2023-01-23T03:28:40.808900Z",
     "iopub.status.busy": "2023-01-23T03:28:40.808600Z",
     "iopub.status.idle": "2023-01-23T03:28:40.814285Z",
     "shell.execute_reply": "2023-01-23T03:28:40.812876Z"
    },
    "papermill": {
     "duration": 0.01815,
     "end_time": "2023-01-23T03:28:40.816328",
     "exception": false,
     "start_time": "2023-01-23T03:28:40.798178",
     "status": "completed"
    },
    "tags": []
   },
   "outputs": [
    {
     "name": "stdout",
     "output_type": "stream",
     "text": [
      "{'brand': 'ford', 'model': 'Mustang', 'year': 1964}\n",
      "ford\n"
     ]
    }
   ],
   "source": [
    "thisdict = {\n",
    "    'brand':'ford',\n",
    "    'model':'Mustang',\n",
    "    'year':1964\n",
    "}\n",
    "print(thisdict)\n",
    "print(thisdict['brand'])"
   ]
  },
  {
   "cell_type": "code",
   "execution_count": 16,
   "id": "5af14c34",
   "metadata": {
    "execution": {
     "iopub.execute_input": "2023-01-23T03:28:40.838273Z",
     "iopub.status.busy": "2023-01-23T03:28:40.837918Z",
     "iopub.status.idle": "2023-01-23T03:28:40.842693Z",
     "shell.execute_reply": "2023-01-23T03:28:40.841827Z"
    },
    "papermill": {
     "duration": 0.017925,
     "end_time": "2023-01-23T03:28:40.845011",
     "exception": false,
     "start_time": "2023-01-23T03:28:40.827086",
     "status": "completed"
    },
    "tags": []
   },
   "outputs": [
    {
     "name": "stdout",
     "output_type": "stream",
     "text": [
      "dict_keys(['brand', 'model', 'year'])\n",
      "dict_values(['ford', 'Mustang', 1964])\n",
      "dict_items([('brand', 'ford'), ('model', 'Mustang'), ('year', 1964)])\n"
     ]
    }
   ],
   "source": [
    "print(thisdict.keys())\n",
    "print(thisdict.values())\n",
    "print(thisdict.items()\n",
    "     )"
   ]
  },
  {
   "cell_type": "code",
   "execution_count": 17,
   "id": "2774064d",
   "metadata": {
    "execution": {
     "iopub.execute_input": "2023-01-23T03:28:40.865518Z",
     "iopub.status.busy": "2023-01-23T03:28:40.865244Z",
     "iopub.status.idle": "2023-01-23T03:28:40.869381Z",
     "shell.execute_reply": "2023-01-23T03:28:40.868438Z"
    },
    "papermill": {
     "duration": 0.016294,
     "end_time": "2023-01-23T03:28:40.871416",
     "exception": false,
     "start_time": "2023-01-23T03:28:40.855122",
     "status": "completed"
    },
    "tags": []
   },
   "outputs": [
    {
     "name": "stdout",
     "output_type": "stream",
     "text": [
      "{'brand': 'ford', 'model': 'Mustang', 'year': 1964, 'color': 'red'}\n"
     ]
    }
   ],
   "source": [
    "thisdict['color'] = 'red'\n",
    "print(thisdict)"
   ]
  },
  {
   "cell_type": "code",
   "execution_count": 18,
   "id": "bced584c",
   "metadata": {
    "execution": {
     "iopub.execute_input": "2023-01-23T03:28:40.891568Z",
     "iopub.status.busy": "2023-01-23T03:28:40.891266Z",
     "iopub.status.idle": "2023-01-23T03:28:40.896832Z",
     "shell.execute_reply": "2023-01-23T03:28:40.895322Z"
    },
    "papermill": {
     "duration": 0.018376,
     "end_time": "2023-01-23T03:28:40.899221",
     "exception": false,
     "start_time": "2023-01-23T03:28:40.880845",
     "status": "completed"
    },
    "tags": []
   },
   "outputs": [
    {
     "name": "stdout",
     "output_type": "stream",
     "text": [
      "{'brand': 'ford', 'model': 'Mustang', 'year': 2021, 'color': 'red'}\n"
     ]
    }
   ],
   "source": [
    "thisdict.update({'year':2021})\n",
    "thisdict.update({'color':'red'})\n",
    "print(thisdict)"
   ]
  },
  {
   "cell_type": "code",
   "execution_count": 19,
   "id": "92032641",
   "metadata": {
    "execution": {
     "iopub.execute_input": "2023-01-23T03:28:40.920225Z",
     "iopub.status.busy": "2023-01-23T03:28:40.919883Z",
     "iopub.status.idle": "2023-01-23T03:28:40.927945Z",
     "shell.execute_reply": "2023-01-23T03:28:40.927126Z"
    },
    "papermill": {
     "duration": 0.020312,
     "end_time": "2023-01-23T03:28:40.929772",
     "exception": false,
     "start_time": "2023-01-23T03:28:40.909460",
     "status": "completed"
    },
    "tags": []
   },
   "outputs": [
    {
     "data": {
      "text/plain": [
       "{'brand': 'ford', 'year': 2021, 'color': 'red'}"
      ]
     },
     "execution_count": 19,
     "metadata": {},
     "output_type": "execute_result"
    }
   ],
   "source": [
    "test = thisdict.copy()\n",
    "test.pop('model')\n",
    "test"
   ]
  },
  {
   "cell_type": "code",
   "execution_count": 20,
   "id": "3811a0a6",
   "metadata": {
    "execution": {
     "iopub.execute_input": "2023-01-23T03:28:40.950110Z",
     "iopub.status.busy": "2023-01-23T03:28:40.949811Z",
     "iopub.status.idle": "2023-01-23T03:28:40.955261Z",
     "shell.execute_reply": "2023-01-23T03:28:40.954011Z"
    },
    "papermill": {
     "duration": 0.017723,
     "end_time": "2023-01-23T03:28:40.957185",
     "exception": false,
     "start_time": "2023-01-23T03:28:40.939462",
     "status": "completed"
    },
    "tags": []
   },
   "outputs": [
    {
     "name": "stdout",
     "output_type": "stream",
     "text": [
      "brand\n",
      "model\n",
      "year\n",
      "color\n",
      "ford\n",
      "Mustang\n",
      "2021\n",
      "red\n",
      "brand ford\n",
      "model Mustang\n",
      "year 2021\n",
      "color red\n"
     ]
    }
   ],
   "source": [
    "for x in thisdict.keys():\n",
    "    print(x)\n",
    "\n",
    "for x in thisdict.values():\n",
    "    print(x)\n",
    "\n",
    "for x,y in thisdict.items():\n",
    "    print(x,y)"
   ]
  },
  {
   "cell_type": "markdown",
   "id": "6b3ef3e6",
   "metadata": {
    "papermill": {
     "duration": 0.009189,
     "end_time": "2023-01-23T03:28:40.976006",
     "exception": false,
     "start_time": "2023-01-23T03:28:40.966817",
     "status": "completed"
    },
    "tags": []
   },
   "source": [
    "# Part 2. Vector and Matrix"
   ]
  },
  {
   "cell_type": "code",
   "execution_count": 21,
   "id": "6245919e",
   "metadata": {
    "execution": {
     "iopub.execute_input": "2023-01-23T03:28:40.996854Z",
     "iopub.status.busy": "2023-01-23T03:28:40.996226Z",
     "iopub.status.idle": "2023-01-23T03:28:41.011241Z",
     "shell.execute_reply": "2023-01-23T03:28:41.009809Z"
    },
    "papermill": {
     "duration": 0.027791,
     "end_time": "2023-01-23T03:28:41.013314",
     "exception": false,
     "start_time": "2023-01-23T03:28:40.985523",
     "status": "completed"
    },
    "tags": []
   },
   "outputs": [
    {
     "name": "stdout",
     "output_type": "stream",
     "text": [
      "/kaggle/input/cis3715-cars-dataset/README.md\n",
      "/kaggle/input/cis3715-cars-dataset/Lab01/Lab1_PythonBasics.ipynb\n",
      "/kaggle/input/cis3715-cars-dataset/Lab01/cars.csv\n",
      "/kaggle/input/cis3715-cars-dataset/Lab01/Lab1_vector_and_matrix.ipynb\n",
      "/kaggle/input/cis3715-cars-dataset/Lab01/LabAssignment1.pdf\n",
      "/kaggle/input/cis3715-cars-dataset/Dataset/housing_missing.csv\n",
      "/kaggle/input/cis3715-cars-dataset/Dataset/cars.csv\n",
      "/kaggle/input/cis3715-cars-dataset/Dataset/daily-min-temperatures.csv\n",
      "/kaggle/input/cis3715-cars-dataset/Dataset/spam.csv\n"
     ]
    }
   ],
   "source": [
    "import os\n",
    "for dirname, _, filenames in os.walk('/kaggle/input'):\n",
    "    for filename in filenames:\n",
    "        print(os.path.join(dirname, filename))\n"
   ]
  },
  {
   "cell_type": "code",
   "execution_count": 22,
   "id": "b2d25a79",
   "metadata": {
    "execution": {
     "iopub.execute_input": "2023-01-23T03:28:41.034036Z",
     "iopub.status.busy": "2023-01-23T03:28:41.033763Z",
     "iopub.status.idle": "2023-01-23T03:28:41.055555Z",
     "shell.execute_reply": "2023-01-23T03:28:41.054207Z"
    },
    "papermill": {
     "duration": 0.033712,
     "end_time": "2023-01-23T03:28:41.057242",
     "exception": false,
     "start_time": "2023-01-23T03:28:41.023530",
     "status": "completed"
    },
    "tags": []
   },
   "outputs": [
    {
     "name": "stdout",
     "output_type": "stream",
     "text": [
      "(406, 7)\n",
      "[[18.0 8 307.0 ... 3504 12.0 70]\n",
      " [15.0 8 350.0 ... 3693 11.5 70]\n",
      " [18.0 8 318.0 ... 3436 11.0 70]\n",
      " ...\n",
      " [32.0 4 135.0 ... 2295 11.6 82]\n",
      " [28.0 4 120.0 ... 2625 18.6 82]\n",
      " [31.0 4 119.0 ... 2720 19.4 82]]\n"
     ]
    }
   ],
   "source": [
    "import numpy as np\n",
    "import pandas as pd\n",
    "\n",
    "cars = '/kaggle/input/cis3715-cars-dataset/Lab01/cars.csv'\n",
    "df = pd.read_csv(cars)\n",
    "X = df.values[:,1:-1]\n",
    "print(X.shape)\n",
    "print(X)"
   ]
  },
  {
   "cell_type": "code",
   "execution_count": 23,
   "id": "7db90c46",
   "metadata": {
    "execution": {
     "iopub.execute_input": "2023-01-23T03:28:41.078728Z",
     "iopub.status.busy": "2023-01-23T03:28:41.077942Z",
     "iopub.status.idle": "2023-01-23T03:28:41.084033Z",
     "shell.execute_reply": "2023-01-23T03:28:41.082894Z"
    },
    "papermill": {
     "duration": 0.018499,
     "end_time": "2023-01-23T03:28:41.085684",
     "exception": false,
     "start_time": "2023-01-23T03:28:41.067185",
     "status": "completed"
    },
    "tags": []
   },
   "outputs": [
    {
     "name": "stdout",
     "output_type": "stream",
     "text": [
      "[18.0 8 307.0 130 3504 12.0 70]\n",
      "[28.0 4 120.0 79 2625 18.6 82]\n",
      "[46.0 12 427.0 209 6129 30.6 152]\n"
     ]
    }
   ],
   "source": [
    "#Get first row and the second to last row\n",
    "\n",
    "x1 = X[0, :]\n",
    "x2 = X[-2, :]\n",
    "\n",
    "print(x1)\n",
    "print(x2)\n",
    "\n",
    "# Addition\n",
    "\n",
    "y = x1 + x2\n",
    "print(y)"
   ]
  },
  {
   "cell_type": "code",
   "execution_count": 24,
   "id": "62b0b72a",
   "metadata": {
    "execution": {
     "iopub.execute_input": "2023-01-23T03:28:41.106752Z",
     "iopub.status.busy": "2023-01-23T03:28:41.106061Z",
     "iopub.status.idle": "2023-01-23T03:28:41.112142Z",
     "shell.execute_reply": "2023-01-23T03:28:41.110673Z"
    },
    "papermill": {
     "duration": 0.018964,
     "end_time": "2023-01-23T03:28:41.114427",
     "exception": false,
     "start_time": "2023-01-23T03:28:41.095463",
     "status": "completed"
    },
    "tags": []
   },
   "outputs": [
    {
     "name": "stdout",
     "output_type": "stream",
     "text": [
      "[[18.0 8 307.0 130 3504 12.0 70]\n",
      " [15.0 8 350.0 165 3693 11.5 70]\n",
      " [18.0 8 318.0 150 3436 11.0 70]\n",
      " [16.0 8 304.0 150 3433 12.0 70]\n",
      " [17.0 8 302.0 140 3449 10.5 70]]\n",
      "[[27.0 4 140.0 86 2790 15.6 82]\n",
      " [44.0 4 97.0 52 2130 24.6 82]\n",
      " [32.0 4 135.0 84 2295 11.6 82]\n",
      " [28.0 4 120.0 79 2625 18.6 82]\n",
      " [31.0 4 119.0 82 2720 19.4 82]]\n",
      "[[-9.0 4 167.0 44 714 -3.5999999999999996 -12]\n",
      " [-29.0 4 253.0 113 1563 -13.100000000000001 -12]\n",
      " [-14.0 4 183.0 66 1141 -0.5999999999999996 -12]\n",
      " [-12.0 4 184.0 71 808 -6.600000000000001 -12]\n",
      " [-14.0 4 183.0 58 729 -8.899999999999999 -12]]\n"
     ]
    }
   ],
   "source": [
    "# Get first 5 rows and last 5 rows \n",
    "\n",
    "m1 = X[0:5, :]\n",
    "m2 = X[-5:, :]\n",
    "\n",
    "print(m1)\n",
    "print(m2)\n",
    "\n",
    "# Subtraction\n",
    "m = m1 - m2\n",
    "print(m)"
   ]
  },
  {
   "cell_type": "markdown",
   "id": "c1534b8f",
   "metadata": {
    "papermill": {
     "duration": 0.009655,
     "end_time": "2023-01-23T03:28:41.134378",
     "exception": false,
     "start_time": "2023-01-23T03:28:41.124723",
     "status": "completed"
    },
    "tags": []
   },
   "source": [
    "## Task 2"
   ]
  },
  {
   "cell_type": "markdown",
   "id": "65e22a7c",
   "metadata": {
    "papermill": {
     "duration": 0.009601,
     "end_time": "2023-01-23T03:28:41.153872",
     "exception": false,
     "start_time": "2023-01-23T03:28:41.144271",
     "status": "completed"
    },
    "tags": []
   },
   "source": [
    "### 2.1 Get the first column and the second to last column from X"
   ]
  },
  {
   "cell_type": "code",
   "execution_count": 25,
   "id": "7010c68f",
   "metadata": {
    "execution": {
     "iopub.execute_input": "2023-01-23T03:28:41.174768Z",
     "iopub.status.busy": "2023-01-23T03:28:41.174453Z",
     "iopub.status.idle": "2023-01-23T03:28:41.192355Z",
     "shell.execute_reply": "2023-01-23T03:28:41.191398Z"
    },
    "papermill": {
     "duration": 0.03057,
     "end_time": "2023-01-23T03:28:41.194231",
     "exception": false,
     "start_time": "2023-01-23T03:28:41.163661",
     "status": "completed"
    },
    "tags": []
   },
   "outputs": [
    {
     "data": {
      "text/html": [
       "<div>\n",
       "<style scoped>\n",
       "    .dataframe tbody tr th:only-of-type {\n",
       "        vertical-align: middle;\n",
       "    }\n",
       "\n",
       "    .dataframe tbody tr th {\n",
       "        vertical-align: top;\n",
       "    }\n",
       "\n",
       "    .dataframe thead th {\n",
       "        text-align: right;\n",
       "    }\n",
       "</style>\n",
       "<table border=\"1\" class=\"dataframe\">\n",
       "  <thead>\n",
       "    <tr style=\"text-align: right;\">\n",
       "      <th></th>\n",
       "      <th>Car</th>\n",
       "      <th>MPG</th>\n",
       "      <th>Cylinders</th>\n",
       "      <th>Displacement</th>\n",
       "      <th>Horsepower</th>\n",
       "      <th>Weight</th>\n",
       "      <th>Acceleration</th>\n",
       "      <th>Model</th>\n",
       "      <th>Origin</th>\n",
       "    </tr>\n",
       "  </thead>\n",
       "  <tbody>\n",
       "    <tr>\n",
       "      <th>0</th>\n",
       "      <td>Chevrolet Chevelle Malibu</td>\n",
       "      <td>18.0</td>\n",
       "      <td>8</td>\n",
       "      <td>307.0</td>\n",
       "      <td>130</td>\n",
       "      <td>3504</td>\n",
       "      <td>12.0</td>\n",
       "      <td>70</td>\n",
       "      <td>US</td>\n",
       "    </tr>\n",
       "    <tr>\n",
       "      <th>1</th>\n",
       "      <td>Buick Skylark 320</td>\n",
       "      <td>15.0</td>\n",
       "      <td>8</td>\n",
       "      <td>350.0</td>\n",
       "      <td>165</td>\n",
       "      <td>3693</td>\n",
       "      <td>11.5</td>\n",
       "      <td>70</td>\n",
       "      <td>US</td>\n",
       "    </tr>\n",
       "    <tr>\n",
       "      <th>2</th>\n",
       "      <td>Plymouth Satellite</td>\n",
       "      <td>18.0</td>\n",
       "      <td>8</td>\n",
       "      <td>318.0</td>\n",
       "      <td>150</td>\n",
       "      <td>3436</td>\n",
       "      <td>11.0</td>\n",
       "      <td>70</td>\n",
       "      <td>US</td>\n",
       "    </tr>\n",
       "    <tr>\n",
       "      <th>3</th>\n",
       "      <td>AMC Rebel SST</td>\n",
       "      <td>16.0</td>\n",
       "      <td>8</td>\n",
       "      <td>304.0</td>\n",
       "      <td>150</td>\n",
       "      <td>3433</td>\n",
       "      <td>12.0</td>\n",
       "      <td>70</td>\n",
       "      <td>US</td>\n",
       "    </tr>\n",
       "    <tr>\n",
       "      <th>4</th>\n",
       "      <td>Ford Torino</td>\n",
       "      <td>17.0</td>\n",
       "      <td>8</td>\n",
       "      <td>302.0</td>\n",
       "      <td>140</td>\n",
       "      <td>3449</td>\n",
       "      <td>10.5</td>\n",
       "      <td>70</td>\n",
       "      <td>US</td>\n",
       "    </tr>\n",
       "  </tbody>\n",
       "</table>\n",
       "</div>"
      ],
      "text/plain": [
       "                         Car   MPG  Cylinders  Displacement  Horsepower  \\\n",
       "0  Chevrolet Chevelle Malibu  18.0          8         307.0         130   \n",
       "1          Buick Skylark 320  15.0          8         350.0         165   \n",
       "2         Plymouth Satellite  18.0          8         318.0         150   \n",
       "3              AMC Rebel SST  16.0          8         304.0         150   \n",
       "4                Ford Torino  17.0          8         302.0         140   \n",
       "\n",
       "   Weight  Acceleration  Model Origin  \n",
       "0    3504          12.0     70     US  \n",
       "1    3693          11.5     70     US  \n",
       "2    3436          11.0     70     US  \n",
       "3    3433          12.0     70     US  \n",
       "4    3449          10.5     70     US  "
      ]
     },
     "execution_count": 25,
     "metadata": {},
     "output_type": "execute_result"
    }
   ],
   "source": [
    "df.head()"
   ]
  },
  {
   "cell_type": "code",
   "execution_count": 26,
   "id": "19c40e78",
   "metadata": {
    "execution": {
     "iopub.execute_input": "2023-01-23T03:28:41.215624Z",
     "iopub.status.busy": "2023-01-23T03:28:41.215349Z",
     "iopub.status.idle": "2023-01-23T03:28:41.223031Z",
     "shell.execute_reply": "2023-01-23T03:28:41.221688Z"
    },
    "papermill": {
     "duration": 0.020331,
     "end_time": "2023-01-23T03:28:41.224803",
     "exception": false,
     "start_time": "2023-01-23T03:28:41.204472",
     "status": "completed"
    },
    "tags": []
   },
   "outputs": [
    {
     "name": "stdout",
     "output_type": "stream",
     "text": [
      "0      18.0\n",
      "1      15.0\n",
      "2      18.0\n",
      "3      16.0\n",
      "4      17.0\n",
      "       ... \n",
      "401    27.0\n",
      "402    44.0\n",
      "403    32.0\n",
      "404    28.0\n",
      "405    31.0\n",
      "Name: MPG, Length: 406, dtype: float64\n",
      "0      70\n",
      "1      70\n",
      "2      70\n",
      "3      70\n",
      "4      70\n",
      "       ..\n",
      "401    82\n",
      "402    82\n",
      "403    82\n",
      "404    82\n",
      "405    82\n",
      "Name: Model, Length: 406, dtype: int64\n"
     ]
    }
   ],
   "source": [
    "first = df.iloc[:,1]\n",
    "second = df.iloc[:,-2]\n",
    "print(first)\n",
    "print(second)"
   ]
  },
  {
   "cell_type": "markdown",
   "id": "84dd5a38",
   "metadata": {
    "papermill": {
     "duration": 0.010823,
     "end_time": "2023-01-23T03:28:41.246355",
     "exception": false,
     "start_time": "2023-01-23T03:28:41.235532",
     "status": "completed"
    },
    "tags": []
   },
   "source": [
    "### Perform following operations on these two vectors and print the result"
   ]
  },
  {
   "cell_type": "code",
   "execution_count": 27,
   "id": "be2c7efd",
   "metadata": {
    "execution": {
     "iopub.execute_input": "2023-01-23T03:28:41.270311Z",
     "iopub.status.busy": "2023-01-23T03:28:41.269745Z",
     "iopub.status.idle": "2023-01-23T03:28:41.277504Z",
     "shell.execute_reply": "2023-01-23T03:28:41.276723Z"
    },
    "papermill": {
     "duration": 0.022527,
     "end_time": "2023-01-23T03:28:41.280113",
     "exception": false,
     "start_time": "2023-01-23T03:28:41.257586",
     "status": "completed"
    },
    "tags": []
   },
   "outputs": [
    {
     "name": "stdout",
     "output_type": "stream",
     "text": [
      "0       88.0\n",
      "1       85.0\n",
      "2       88.0\n",
      "3       86.0\n",
      "4       87.0\n",
      "       ...  \n",
      "401    109.0\n",
      "402    126.0\n",
      "403    114.0\n",
      "404    110.0\n",
      "405    113.0\n",
      "Length: 406, dtype: float64\n",
      "0     -52.0\n",
      "1     -55.0\n",
      "2     -52.0\n",
      "3     -54.0\n",
      "4     -53.0\n",
      "       ... \n",
      "401   -55.0\n",
      "402   -38.0\n",
      "403   -50.0\n",
      "404   -54.0\n",
      "405   -51.0\n",
      "Length: 406, dtype: float64\n"
     ]
    }
   ],
   "source": [
    "# 1. addition and subtraction\n",
    "print(first + second)\n",
    "print(first - second)"
   ]
  },
  {
   "cell_type": "code",
   "execution_count": 28,
   "id": "28dfeae2",
   "metadata": {
    "execution": {
     "iopub.execute_input": "2023-01-23T03:28:41.304305Z",
     "iopub.status.busy": "2023-01-23T03:28:41.303747Z",
     "iopub.status.idle": "2023-01-23T03:28:41.311297Z",
     "shell.execute_reply": "2023-01-23T03:28:41.310089Z"
    },
    "papermill": {
     "duration": 0.02142,
     "end_time": "2023-01-23T03:28:41.313672",
     "exception": false,
     "start_time": "2023-01-23T03:28:41.292252",
     "status": "completed"
    },
    "tags": []
   },
   "outputs": [
    {
     "name": "stdout",
     "output_type": "stream",
     "text": [
      "0      1260.0\n",
      "1      1050.0\n",
      "2      1260.0\n",
      "3      1120.0\n",
      "4      1190.0\n",
      "        ...  \n",
      "401    2214.0\n",
      "402    3608.0\n",
      "403    2624.0\n",
      "404    2296.0\n",
      "405    2542.0\n",
      "Length: 406, dtype: float64\n"
     ]
    }
   ],
   "source": [
    "# 2. element-wise multiplication\n",
    "print(first* second)"
   ]
  },
  {
   "cell_type": "code",
   "execution_count": 29,
   "id": "301c5e2f",
   "metadata": {
    "execution": {
     "iopub.execute_input": "2023-01-23T03:28:41.336860Z",
     "iopub.status.busy": "2023-01-23T03:28:41.335841Z",
     "iopub.status.idle": "2023-01-23T03:28:41.341125Z",
     "shell.execute_reply": "2023-01-23T03:28:41.340317Z"
    },
    "papermill": {
     "duration": 0.018033,
     "end_time": "2023-01-23T03:28:41.342730",
     "exception": false,
     "start_time": "2023-01-23T03:28:41.324697",
     "status": "completed"
    },
    "tags": []
   },
   "outputs": [
    {
     "name": "stdout",
     "output_type": "stream",
     "text": [
      "718009.0999999999\n"
     ]
    }
   ],
   "source": [
    "# 3. inner product\n",
    "print(first.dot(second))"
   ]
  },
  {
   "cell_type": "code",
   "execution_count": 30,
   "id": "2196f8d3",
   "metadata": {
    "execution": {
     "iopub.execute_input": "2023-01-23T03:28:41.364353Z",
     "iopub.status.busy": "2023-01-23T03:28:41.363667Z",
     "iopub.status.idle": "2023-01-23T03:28:41.369546Z",
     "shell.execute_reply": "2023-01-23T03:28:41.368294Z"
    },
    "papermill": {
     "duration": 0.018805,
     "end_time": "2023-01-23T03:28:41.371582",
     "exception": false,
     "start_time": "2023-01-23T03:28:41.352777",
     "status": "completed"
    },
    "tags": []
   },
   "outputs": [
    {
     "name": "stdout",
     "output_type": "stream",
     "text": [
      "9358.8\n",
      "494.28813459357895\n",
      "46.6\n"
     ]
    }
   ],
   "source": [
    "# 4. three norms\n",
    "# https://iq.opengenus.org/norm-method-of-numpy-in-python/\n",
    "print(np.linalg.norm(first,1))\n",
    "print(np.linalg.norm(first,2))\n",
    "print(np.linalg.norm(first,float(\"inf\")))"
   ]
  },
  {
   "cell_type": "code",
   "execution_count": 31,
   "id": "599b06d7",
   "metadata": {
    "execution": {
     "iopub.execute_input": "2023-01-23T03:28:41.394060Z",
     "iopub.status.busy": "2023-01-23T03:28:41.393777Z",
     "iopub.status.idle": "2023-01-23T03:28:41.398828Z",
     "shell.execute_reply": "2023-01-23T03:28:41.397433Z"
    },
    "papermill": {
     "duration": 0.018647,
     "end_time": "2023-01-23T03:28:41.400776",
     "exception": false,
     "start_time": "2023-01-23T03:28:41.382129",
     "status": "completed"
    },
    "tags": []
   },
   "outputs": [
    {
     "name": "stdout",
     "output_type": "stream",
     "text": [
      "1074.3316806275425\n"
     ]
    }
   ],
   "source": [
    "# compute the distance between these two vectors\n",
    "print(np.linalg.norm(first-second))"
   ]
  },
  {
   "cell_type": "markdown",
   "id": "8cd120e1",
   "metadata": {
    "papermill": {
     "duration": 0.0099,
     "end_time": "2023-01-23T03:28:41.421505",
     "exception": false,
     "start_time": "2023-01-23T03:28:41.411605",
     "status": "completed"
    },
    "tags": []
   },
   "source": [
    "### 2.3 Get the first three columns and the last three columns from X"
   ]
  },
  {
   "cell_type": "code",
   "execution_count": 32,
   "id": "fe95400a",
   "metadata": {
    "execution": {
     "iopub.execute_input": "2023-01-23T03:28:41.443456Z",
     "iopub.status.busy": "2023-01-23T03:28:41.442929Z",
     "iopub.status.idle": "2023-01-23T03:28:41.457495Z",
     "shell.execute_reply": "2023-01-23T03:28:41.456474Z"
    },
    "papermill": {
     "duration": 0.028413,
     "end_time": "2023-01-23T03:28:41.460041",
     "exception": false,
     "start_time": "2023-01-23T03:28:41.431628",
     "status": "completed"
    },
    "tags": []
   },
   "outputs": [
    {
     "data": {
      "text/html": [
       "<div>\n",
       "<style scoped>\n",
       "    .dataframe tbody tr th:only-of-type {\n",
       "        vertical-align: middle;\n",
       "    }\n",
       "\n",
       "    .dataframe tbody tr th {\n",
       "        vertical-align: top;\n",
       "    }\n",
       "\n",
       "    .dataframe thead th {\n",
       "        text-align: right;\n",
       "    }\n",
       "</style>\n",
       "<table border=\"1\" class=\"dataframe\">\n",
       "  <thead>\n",
       "    <tr style=\"text-align: right;\">\n",
       "      <th></th>\n",
       "      <th>MPG</th>\n",
       "      <th>Cylinders</th>\n",
       "      <th>Displacement</th>\n",
       "    </tr>\n",
       "  </thead>\n",
       "  <tbody>\n",
       "    <tr>\n",
       "      <th>0</th>\n",
       "      <td>18.0</td>\n",
       "      <td>8</td>\n",
       "      <td>307.0</td>\n",
       "    </tr>\n",
       "    <tr>\n",
       "      <th>1</th>\n",
       "      <td>15.0</td>\n",
       "      <td>8</td>\n",
       "      <td>350.0</td>\n",
       "    </tr>\n",
       "    <tr>\n",
       "      <th>2</th>\n",
       "      <td>18.0</td>\n",
       "      <td>8</td>\n",
       "      <td>318.0</td>\n",
       "    </tr>\n",
       "    <tr>\n",
       "      <th>3</th>\n",
       "      <td>16.0</td>\n",
       "      <td>8</td>\n",
       "      <td>304.0</td>\n",
       "    </tr>\n",
       "    <tr>\n",
       "      <th>4</th>\n",
       "      <td>17.0</td>\n",
       "      <td>8</td>\n",
       "      <td>302.0</td>\n",
       "    </tr>\n",
       "  </tbody>\n",
       "</table>\n",
       "</div>"
      ],
      "text/plain": [
       "    MPG  Cylinders  Displacement\n",
       "0  18.0          8         307.0\n",
       "1  15.0          8         350.0\n",
       "2  18.0          8         318.0\n",
       "3  16.0          8         304.0\n",
       "4  17.0          8         302.0"
      ]
     },
     "execution_count": 32,
     "metadata": {},
     "output_type": "execute_result"
    }
   ],
   "source": [
    "A,B = df.iloc[:,1:4],df.iloc[:,-4:-1]\n",
    "A.head()"
   ]
  },
  {
   "cell_type": "code",
   "execution_count": 33,
   "id": "d03183d6",
   "metadata": {
    "execution": {
     "iopub.execute_input": "2023-01-23T03:28:41.484321Z",
     "iopub.status.busy": "2023-01-23T03:28:41.483983Z",
     "iopub.status.idle": "2023-01-23T03:28:41.493957Z",
     "shell.execute_reply": "2023-01-23T03:28:41.492849Z"
    },
    "papermill": {
     "duration": 0.024167,
     "end_time": "2023-01-23T03:28:41.495715",
     "exception": false,
     "start_time": "2023-01-23T03:28:41.471548",
     "status": "completed"
    },
    "tags": []
   },
   "outputs": [
    {
     "data": {
      "text/html": [
       "<div>\n",
       "<style scoped>\n",
       "    .dataframe tbody tr th:only-of-type {\n",
       "        vertical-align: middle;\n",
       "    }\n",
       "\n",
       "    .dataframe tbody tr th {\n",
       "        vertical-align: top;\n",
       "    }\n",
       "\n",
       "    .dataframe thead th {\n",
       "        text-align: right;\n",
       "    }\n",
       "</style>\n",
       "<table border=\"1\" class=\"dataframe\">\n",
       "  <thead>\n",
       "    <tr style=\"text-align: right;\">\n",
       "      <th></th>\n",
       "      <th>Weight</th>\n",
       "      <th>Acceleration</th>\n",
       "      <th>Model</th>\n",
       "    </tr>\n",
       "  </thead>\n",
       "  <tbody>\n",
       "    <tr>\n",
       "      <th>0</th>\n",
       "      <td>3504</td>\n",
       "      <td>12.0</td>\n",
       "      <td>70</td>\n",
       "    </tr>\n",
       "    <tr>\n",
       "      <th>1</th>\n",
       "      <td>3693</td>\n",
       "      <td>11.5</td>\n",
       "      <td>70</td>\n",
       "    </tr>\n",
       "    <tr>\n",
       "      <th>2</th>\n",
       "      <td>3436</td>\n",
       "      <td>11.0</td>\n",
       "      <td>70</td>\n",
       "    </tr>\n",
       "    <tr>\n",
       "      <th>3</th>\n",
       "      <td>3433</td>\n",
       "      <td>12.0</td>\n",
       "      <td>70</td>\n",
       "    </tr>\n",
       "    <tr>\n",
       "      <th>4</th>\n",
       "      <td>3449</td>\n",
       "      <td>10.5</td>\n",
       "      <td>70</td>\n",
       "    </tr>\n",
       "  </tbody>\n",
       "</table>\n",
       "</div>"
      ],
      "text/plain": [
       "   Weight  Acceleration  Model\n",
       "0    3504          12.0     70\n",
       "1    3693          11.5     70\n",
       "2    3436          11.0     70\n",
       "3    3433          12.0     70\n",
       "4    3449          10.5     70"
      ]
     },
     "execution_count": 33,
     "metadata": {},
     "output_type": "execute_result"
    }
   ],
   "source": [
    "B.head()"
   ]
  },
  {
   "cell_type": "markdown",
   "id": "31354447",
   "metadata": {
    "papermill": {
     "duration": 0.011105,
     "end_time": "2023-01-23T03:28:41.517650",
     "exception": false,
     "start_time": "2023-01-23T03:28:41.506545",
     "status": "completed"
    },
    "tags": []
   },
   "source": [
    "### Perform following operations on these two matrices and print the result"
   ]
  },
  {
   "cell_type": "code",
   "execution_count": 34,
   "id": "2cc24162",
   "metadata": {
    "execution": {
     "iopub.execute_input": "2023-01-23T03:28:41.541167Z",
     "iopub.status.busy": "2023-01-23T03:28:41.540802Z",
     "iopub.status.idle": "2023-01-23T03:28:41.547592Z",
     "shell.execute_reply": "2023-01-23T03:28:41.546313Z"
    },
    "papermill": {
     "duration": 0.021619,
     "end_time": "2023-01-23T03:28:41.550504",
     "exception": false,
     "start_time": "2023-01-23T03:28:41.528885",
     "status": "completed"
    },
    "tags": []
   },
   "outputs": [
    {
     "name": "stdout",
     "output_type": "stream",
     "text": [
      "[[3522.    20.   377. ]\n",
      " [3708.    19.5  420. ]\n",
      " [3454.    19.   388. ]\n",
      " ...\n",
      " [2327.    15.6  217. ]\n",
      " [2653.    22.6  202. ]\n",
      " [2751.    23.4  201. ]]\n",
      "[[-3.486e+03 -4.000e+00  2.370e+02]\n",
      " [-3.678e+03 -3.500e+00  2.800e+02]\n",
      " [-3.418e+03 -3.000e+00  2.480e+02]\n",
      " ...\n",
      " [-2.263e+03 -7.600e+00  5.300e+01]\n",
      " [-2.597e+03 -1.460e+01  3.800e+01]\n",
      " [-2.689e+03 -1.540e+01  3.700e+01]]\n"
     ]
    }
   ],
   "source": [
    "# addition and subtraction\n",
    "print(A.to_numpy()+B.to_numpy())\n",
    "print(A.to_numpy()-B.to_numpy())"
   ]
  },
  {
   "cell_type": "code",
   "execution_count": 35,
   "id": "a94fbeba",
   "metadata": {
    "execution": {
     "iopub.execute_input": "2023-01-23T03:28:41.573745Z",
     "iopub.status.busy": "2023-01-23T03:28:41.573420Z",
     "iopub.status.idle": "2023-01-23T03:28:41.581149Z",
     "shell.execute_reply": "2023-01-23T03:28:41.580552Z"
    },
    "papermill": {
     "duration": 0.020805,
     "end_time": "2023-01-23T03:28:41.582620",
     "exception": false,
     "start_time": "2023-01-23T03:28:41.561815",
     "status": "completed"
    },
    "tags": []
   },
   "outputs": [
    {
     "data": {
      "text/plain": [
       "(3, 406)"
      ]
     },
     "execution_count": 35,
     "metadata": {},
     "output_type": "execute_result"
    }
   ],
   "source": [
    "# 2. compute the transpose of the second matrix: C = B^T, and print the shape of C\n",
    "C = B.T\n",
    "C.shape"
   ]
  },
  {
   "cell_type": "code",
   "execution_count": 36,
   "id": "c600f0b8",
   "metadata": {
    "execution": {
     "iopub.execute_input": "2023-01-23T03:28:41.605937Z",
     "iopub.status.busy": "2023-01-23T03:28:41.605603Z",
     "iopub.status.idle": "2023-01-23T03:28:41.614701Z",
     "shell.execute_reply": "2023-01-23T03:28:41.613942Z"
    },
    "papermill": {
     "duration": 0.022495,
     "end_time": "2023-01-23T03:28:41.616293",
     "exception": false,
     "start_time": "2023-01-23T03:28:41.593798",
     "status": "completed"
    },
    "tags": []
   },
   "outputs": [
    {
     "name": "stdout",
     "output_type": "stream",
     "text": [
      "                      MPG  Cylinders  Displacement\n",
      "Weight        25614040.90  7149030.0   269175402.0\n",
      "Acceleration    149295.04    33484.7     1160836.3\n",
      "Model           718009.10   167835.0     5943079.0\n",
      "(3, 3)\n"
     ]
    }
   ],
   "source": [
    "# 3. compute the product between A and C, and print the result and its shape\n",
    "dot = C.dot(A)\n",
    "print(dot)\n",
    "print(dot.shape)"
   ]
  },
  {
   "cell_type": "code",
   "execution_count": 37,
   "id": "8bf92504",
   "metadata": {
    "execution": {
     "iopub.execute_input": "2023-01-23T03:28:41.639227Z",
     "iopub.status.busy": "2023-01-23T03:28:41.638905Z",
     "iopub.status.idle": "2023-01-23T03:28:41.646514Z",
     "shell.execute_reply": "2023-01-23T03:28:41.645566Z"
    },
    "papermill": {
     "duration": 0.020804,
     "end_time": "2023-01-23T03:28:41.648271",
     "exception": false,
     "start_time": "2023-01-23T03:28:41.627467",
     "status": "completed"
    },
    "tags": []
   },
   "outputs": [
    {
     "data": {
      "text/plain": [
       "(3, 406)"
      ]
     },
     "execution_count": 37,
     "metadata": {},
     "output_type": "execute_result"
    }
   ],
   "source": [
    "# 4. compute the transpose of the first matrix: D = A^T, and print the shape of D\n",
    "D = A.T\n",
    "D.shape"
   ]
  },
  {
   "cell_type": "code",
   "execution_count": 38,
   "id": "0d95d457",
   "metadata": {
    "execution": {
     "iopub.execute_input": "2023-01-23T03:28:41.671711Z",
     "iopub.status.busy": "2023-01-23T03:28:41.671119Z",
     "iopub.status.idle": "2023-01-23T03:28:41.680084Z",
     "shell.execute_reply": "2023-01-23T03:28:41.678547Z"
    },
    "papermill": {
     "duration": 0.022668,
     "end_time": "2023-01-23T03:28:41.681785",
     "exception": false,
     "start_time": "2023-01-23T03:28:41.659117",
     "status": "completed"
    },
    "tags": []
   },
   "outputs": [
    {
     "name": "stdout",
     "output_type": "stream",
     "text": [
      "                   Weight  Acceleration      Model\n",
      "MPG            25614040.9     149295.04   718009.1\n",
      "Cylinders       7149030.0      33484.70   167835.0\n",
      "Displacement  269175402.0    1160836.30  5943079.0\n",
      "(3, 3)\n"
     ]
    }
   ],
   "source": [
    "# 5. compute the product between D and B, and print the result and its shape\n",
    "dot = D.dot(B)\n",
    "print(dot)\n",
    "print(dot.shape)"
   ]
  }
 ],
 "metadata": {
  "kernelspec": {
   "display_name": "Python 3",
   "language": "python",
   "name": "python3"
  },
  "language_info": {
   "codemirror_mode": {
    "name": "ipython",
    "version": 3
   },
   "file_extension": ".py",
   "mimetype": "text/x-python",
   "name": "python",
   "nbconvert_exporter": "python",
   "pygments_lexer": "ipython3",
   "version": "3.7.12"
  },
  "papermill": {
   "default_parameters": {},
   "duration": 10.018254,
   "end_time": "2023-01-23T03:28:42.315316",
   "environment_variables": {},
   "exception": null,
   "input_path": "__notebook__.ipynb",
   "output_path": "__notebook__.ipynb",
   "parameters": {},
   "start_time": "2023-01-23T03:28:32.297062",
   "version": "2.3.4"
  }
 },
 "nbformat": 4,
 "nbformat_minor": 5
}
