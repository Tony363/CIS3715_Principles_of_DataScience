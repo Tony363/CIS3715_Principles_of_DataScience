{
 "cells": [
  {
   "cell_type": "markdown",
   "id": "1bdea87f",
   "metadata": {
    "papermill": {
     "duration": 0.007245,
     "end_time": "2023-02-20T18:13:08.097638",
     "exception": false,
     "start_time": "2023-02-20T18:13:08.090393",
     "status": "completed"
    },
    "tags": []
   },
   "source": [
    "# Lab 4: Logistic Regression"
   ]
  },
  {
   "cell_type": "markdown",
   "id": "891d58a2",
   "metadata": {
    "papermill": {
     "duration": 0.005485,
     "end_time": "2023-02-20T18:13:08.109115",
     "exception": false,
     "start_time": "2023-02-20T18:13:08.103630",
     "status": "completed"
    },
    "tags": []
   },
   "source": [
    "In this assignment, we will learn the Logistic Regression model.\n",
    "\n",
    "First, please study the given example, which uses the logistic regression model for the breast cancer classification task. In this example, you will learn how to preprocess data, how to train the model, and how to evaluate the model.\n",
    "\n",
    "Based on the given example, your task is to use the logistic regression model to predict the presence of heart disease.\n"
   ]
  },
  {
   "cell_type": "markdown",
   "id": "4a68cb9c",
   "metadata": {
    "papermill": {
     "duration": 0.005668,
     "end_time": "2023-02-20T18:13:08.120882",
     "exception": false,
     "start_time": "2023-02-20T18:13:08.115214",
     "status": "completed"
    },
    "tags": []
   },
   "source": [
    "## 1. Example"
   ]
  },
  {
   "cell_type": "markdown",
   "id": "d619258a",
   "metadata": {
    "papermill": {
     "duration": 0.005501,
     "end_time": "2023-02-20T18:13:08.132168",
     "exception": false,
     "start_time": "2023-02-20T18:13:08.126667",
     "status": "completed"
    },
    "tags": []
   },
   "source": [
    "### 1.1 Load the breast cancer data"
   ]
  },
  {
   "cell_type": "markdown",
   "id": "3c724b07",
   "metadata": {
    "papermill": {
     "duration": 0.005531,
     "end_time": "2023-02-20T18:13:08.143515",
     "exception": false,
     "start_time": "2023-02-20T18:13:08.137984",
     "status": "completed"
    },
    "tags": []
   },
   "source": [
    "Here, we use the [breast cancer](https://scikit-learn.org/stable/modules/generated/sklearn.datasets.load_breast_cancer.html#sklearn.datasets.load_breast_cancer) dataset in sklearn. It is a binary classification dataset. Each sample has 30 numerical features, which can be found in [7.1.7](https://scikit-learn.org/stable/datasets/toy_dataset.html)."
   ]
  },
  {
   "cell_type": "code",
   "execution_count": 1,
   "id": "341046e1",
   "metadata": {
    "execution": {
     "iopub.execute_input": "2023-02-20T18:13:08.158222Z",
     "iopub.status.busy": "2023-02-20T18:13:08.157775Z",
     "iopub.status.idle": "2023-02-20T18:13:09.203173Z",
     "shell.execute_reply": "2023-02-20T18:13:09.201547Z"
    },
    "papermill": {
     "duration": 1.056474,
     "end_time": "2023-02-20T18:13:09.206362",
     "exception": false,
     "start_time": "2023-02-20T18:13:08.149888",
     "status": "completed"
    },
    "tags": []
   },
   "outputs": [
    {
     "name": "stdout",
     "output_type": "stream",
     "text": [
      "#samples: 569, #features: 30\n"
     ]
    }
   ],
   "source": [
    "import numpy as np\n",
    "from sklearn.model_selection import train_test_split\n",
    "from sklearn import datasets\n",
    "from sklearn.preprocessing import StandardScaler\n",
    "from sklearn.linear_model import LogisticRegression\n",
    "from sklearn.metrics import accuracy_score\n",
    "from sklearn.metrics import f1_score\n",
    "from sklearn.metrics import recall_score\n",
    "from sklearn.metrics import precision_score\n",
    "from random import shuffle\n",
    "import random\n",
    "random.seed(123)\n",
    "\n",
    "X, y = datasets.load_breast_cancer(return_X_y=True)\n",
    "print(\"#samples: {}, #features: {}\".format(X.shape[0], X.shape[1]))"
   ]
  },
  {
   "cell_type": "markdown",
   "id": "856abc8c",
   "metadata": {
    "papermill": {
     "duration": 0.006279,
     "end_time": "2023-02-20T18:13:09.219701",
     "exception": false,
     "start_time": "2023-02-20T18:13:09.213422",
     "status": "completed"
    },
    "tags": []
   },
   "source": [
    "### 1.2 Split the data into two subsets and normalize the features of samples\n",
    "\n",
    "Here, we use 69 samples as the testing set and use the remained samples to train the logistic regression model. "
   ]
  },
  {
   "cell_type": "code",
   "execution_count": 2,
   "id": "73cae858",
   "metadata": {
    "execution": {
     "iopub.execute_input": "2023-02-20T18:13:09.233703Z",
     "iopub.status.busy": "2023-02-20T18:13:09.233283Z",
     "iopub.status.idle": "2023-02-20T18:13:09.247524Z",
     "shell.execute_reply": "2023-02-20T18:13:09.246101Z"
    },
    "papermill": {
     "duration": 0.024233,
     "end_time": "2023-02-20T18:13:09.250121",
     "exception": false,
     "start_time": "2023-02-20T18:13:09.225888",
     "status": "completed"
    },
    "tags": []
   },
   "outputs": [
    {
     "name": "stdout",
     "output_type": "stream",
     "text": [
      "train_val: 500, test: 69\n"
     ]
    }
   ],
   "source": [
    "X_train_val, X_test, y_train_val, y_test = train_test_split(X, y, \n",
    "                                                            test_size=0.12, \n",
    "                                                            random_state=0)\n",
    "print(\"train_val: {}, test: {}\".format(X_train_val.shape[0], X_test.shape[0]))\n",
    "\n",
    "normalizer = StandardScaler()\n",
    "X_train_val = normalizer.fit_transform(X_train_val)\n",
    "X_test = normalizer.transform(X_test)\n"
   ]
  },
  {
   "cell_type": "markdown",
   "id": "0e1344b2",
   "metadata": {
    "papermill": {
     "duration": 0.00595,
     "end_time": "2023-02-20T18:13:09.262634",
     "exception": false,
     "start_time": "2023-02-20T18:13:09.256684",
     "status": "completed"
    },
    "tags": []
   },
   "source": [
    "### 1.3 Train the logistic regression model and select the hyperparameter with cross-validation\n",
    "\n",
    "Here, we use the following logistic regression model to do cancer classification. \n",
    "\n",
    "\\begin{equation}\n",
    "\t\\min_{\\mathbf{w}} \\sum_{i=1}^{n}\\{\\log(1+\\exp(\\mathbf{w}^T\\mathbf{x}_i))-y_i\\mathbf{w}^T\\mathbf{x}_i \\} + \\lambda\\|\\mathbf{w}\\|_2^2\n",
    "\\end{equation}\n",
    "\n",
    "We need to learn the model parameter $\\mathbf{w}$. However, with different hyperparameters $\\lambda$, we can get different model parameter $\\mathbf{w}$, resulting in different prediction performance. Here, we use the 5-fold cross-validation to select the hyperparameter $\\lambda$."
   ]
  },
  {
   "cell_type": "code",
   "execution_count": 3,
   "id": "414002f6",
   "metadata": {
    "execution": {
     "iopub.execute_input": "2023-02-20T18:13:09.276902Z",
     "iopub.status.busy": "2023-02-20T18:13:09.276470Z",
     "iopub.status.idle": "2023-02-20T18:13:09.924999Z",
     "shell.execute_reply": "2023-02-20T18:13:09.923143Z"
    },
    "papermill": {
     "duration": 0.660711,
     "end_time": "2023-02-20T18:13:09.929416",
     "exception": false,
     "start_time": "2023-02-20T18:13:09.268705",
     "status": "completed"
    },
    "tags": []
   },
   "outputs": [
    {
     "name": "stdout",
     "output_type": "stream",
     "text": [
      "[[380 468 145   2 282 103 148 312 130 411 168 204 113 132 418 270 351 157\n",
      "  451 339 288 277 354  48 318 303 314 234  95 304 271 434 173 357 495 133\n",
      "  431  39 490 310 317 471  23 426 224 286  20 365 255 216 405  79 228 445\n",
      "  189 184 243 358 276 218 488  60 438 159 167 349  89 121 333  51   9 482\n",
      "  152 416 379 306 111 185 340 489 475  93  84 376 291 158 250 323 406 460\n",
      "   50 433 372  66 108 465  71 298 369 437]\n",
      " [211  11 110 142  28  59 163  38  24 205 440 140 177 252 235 245 242  25\n",
      "   21 217 160 231  77 151  54 345 280 257 456 308 331  58 360 179 464 388\n",
      "  129 285 347  56 387 169  36 138 319 296 246 122  33 127 109 363 183 196\n",
      "  422  86 400 297 346 116  63  88 477 144 112 362 399 334  62 353 146 373\n",
      "   27  76 260 150 210 195 290  82 154 432 320 361  75  17  94 238 143 469\n",
      "   67 225 391 106  15  97  46  49 192 226]\n",
      " [114 302 356  91  80 107 329 209 384 409  13 176 299 483 295 491 332 292\n",
      "  153 202 268   1 417 313 375 128 352  57 408 254 382 390 377 328 213 182\n",
      "   65   7 315 101 187 126 123 394 201 251 494 239 383 367 237  34 307 141\n",
      "  403 344 162  43 118 498  99 392 102 258 100  41 281 364 492 448 164 104\n",
      "  124 259 355 458 484 115 309 338  53 381 442  70 284 263 419 166 441 481\n",
      "  335 219 155 294 230 378 476 232 480  31]\n",
      " [343 197 301  85  61 264 446 273 455 188 199 452  74 443 423 395 265  29\n",
      "   40 120 190  73 348 415 474 337  12 178 212 402 478 412 241 454 165  14\n",
      "  206 325 279 398 366 462   4 221 421 389 181 413  32 316 493 473 215 324\n",
      "  425 139 424 385 131 453  98 470  68   5 459 236 466 227 487  78  90 439\n",
      "  278 119 368 322 253 147 435  30 397 256 272 207 117 180 430 186 321  45\n",
      "  300  96   8 401 450 198 233 370  37 200]\n",
      " [283 479 171  87 134 336 249  42 371  92 427 386  16 261 191 214 342 266\n",
      "  248 467 457 407 326 275 350 222 262 330 444 203   6 472 414 289 269 327\n",
      "  311 420 105 247 410 267 175 156 496  18 428 240 135 244 293 220 149  10\n",
      "  404  64  72 341  47  22  52 229 374 161   3  35 193 305 449 497 396 223\n",
      "  463   0  83 125 359 485 486 172  69  81 499 436 174 170 287 274 194  19\n",
      "  447 461 429  55 136 208 393  44 137  26]]\n",
      "reg_coeff: 10.0, acc: 0.970\n",
      "reg_coeff: 2.0, acc: 0.978\n",
      "reg_coeff: 1.0, acc: 0.972\n",
      "reg_coeff: 0.2, acc: 0.968\n",
      "reg_coeff: 0.1, acc: 0.968\n"
     ]
    }
   ],
   "source": [
    "# here we use 5-fold cross-validation\n",
    "folds = 5\n",
    "\n",
    "# get the number of samples in the training and validation set\n",
    "num_train_val = X_train_val.shape[0] \n",
    "\n",
    "# shuffle the index of samples in the train_val set\n",
    "index_of_samples = np.arange(num_train_val) \n",
    "shuffle(index_of_samples)\n",
    "\n",
    "# split the index of the train_valid set into 5 folds\n",
    "index_of_folds = index_of_samples.reshape(folds, -1)\n",
    "print(index_of_folds)\n",
    "\n",
    "# potential hyperparameters. \n",
    "#These hyperparameters are just used for illustration. \n",
    "#You should try more hyperparameters to get a good model.\n",
    "#The hyperparameters must be nonnegative!\n",
    "regularization_coefficient = [0.1, 0.5, 1.0, 5.0, 10.0]\n",
    "\n",
    "best_acc = 0.0\n",
    "best_reg = 0.0\n",
    "\n",
    "for reg in regularization_coefficient:\n",
    "    \n",
    "    # 5-fold cross-validation\n",
    "    sum_acc = 0.0\n",
    "    for fold in range(folds):\n",
    "        \n",
    "        index_of_folds_temp = index_of_folds.copy()\n",
    "        \n",
    "        valid_index = index_of_folds_temp[fold,:].reshape(-1) #get the index of the validation set\n",
    "        train_index = np.delete(index_of_folds_temp, fold, 0).reshape(-1) #get the index of the training set\n",
    "        \n",
    "        # training set\n",
    "        X_train = X_train_val[train_index]\n",
    "        y_train = y_train_val[train_index]\n",
    "        \n",
    "        # validation set\n",
    "        X_valid = X_train_val[valid_index]\n",
    "        y_valid = y_train_val[valid_index]\n",
    "                \n",
    "        # build the model with different hyperparameters\n",
    "        clf = LogisticRegression(penalty='l2', C=reg, solver='lbfgs')\n",
    "        \n",
    "        #train the model with the training set\n",
    "        clf.fit(X_train, y_train)\n",
    "        \n",
    "        y_valid_pred = clf.predict(X_valid)\n",
    "        acc = accuracy_score(y_valid, y_valid_pred)\n",
    "        \n",
    "        sum_acc += acc\n",
    "    \n",
    "    cur_acc = sum_acc / folds\n",
    "    \n",
    "    print(\"reg_coeff: {}, acc: {:.3f}\".format(1.0/reg, cur_acc))\n",
    "    \n",
    "    # store the best hyperparameter\n",
    "    if cur_acc > best_acc:\n",
    "        best_acc = cur_acc\n",
    "        best_reg = reg\n",
    "        \n",
    "    \n"
   ]
  },
  {
   "cell_type": "markdown",
   "id": "4ee35f68",
   "metadata": {
    "papermill": {
     "duration": 0.036582,
     "end_time": "2023-02-20T18:13:09.982382",
     "exception": false,
     "start_time": "2023-02-20T18:13:09.945800",
     "status": "completed"
    },
    "tags": []
   },
   "source": [
    "### 1.4 Evaluate the learned model\n",
    "\n",
    "After getting the best hyperparameter $\\lambda$, we retrain the model with the train_val set. Then, we evaluate this  model on the testing set. "
   ]
  },
  {
   "cell_type": "code",
   "execution_count": 4,
   "id": "4e438316",
   "metadata": {
    "execution": {
     "iopub.execute_input": "2023-02-20T18:13:10.045153Z",
     "iopub.status.busy": "2023-02-20T18:13:10.044332Z",
     "iopub.status.idle": "2023-02-20T18:13:10.096911Z",
     "shell.execute_reply": "2023-02-20T18:13:10.095474Z"
    },
    "papermill": {
     "duration": 0.079457,
     "end_time": "2023-02-20T18:13:10.103343",
     "exception": false,
     "start_time": "2023-02-20T18:13:10.023886",
     "status": "completed"
    },
    "tags": []
   },
   "outputs": [
    {
     "name": "stdout",
     "output_type": "stream",
     "text": [
      "accuracy: 1.000, recall: 1.000, precision: 1.000, f1: 1.000,\n"
     ]
    }
   ],
   "source": [
    "# retrain the model\n",
    "clf = LogisticRegression(penalty='l2', C=best_reg, solver='lbfgs')\n",
    "clf.fit(X_train_val, y_train_val)\n",
    "\n",
    "# evaluate the model on the testing set\n",
    "y_test_pred = clf.predict(X_test)\n",
    "\n",
    "\n",
    "acc = accuracy_score(y_test, y_test_pred)\n",
    "f1 = f1_score(y_test, y_test_pred)\n",
    "recall = recall_score(y_test, y_test_pred)\n",
    "precision = precision_score(y_test, y_test_pred)\n",
    "\n",
    "\n",
    "print(\"accuracy: {:.3f}, recall: {:.3f}, precision: {:.3f}, f1: {:.3f},\".format(acc, recall, precision, f1))"
   ]
  },
  {
   "cell_type": "markdown",
   "id": "d893d383",
   "metadata": {
    "papermill": {
     "duration": 0.016371,
     "end_time": "2023-02-20T18:13:10.136439",
     "exception": false,
     "start_time": "2023-02-20T18:13:10.120068",
     "status": "completed"
    },
    "tags": []
   },
   "source": [
    "## 2. Task\n",
    "\n",
    "Here, we use the [heart disease](./heart.csv) dataset. Each sample has the following feature: \n",
    "\n",
    "* age\n",
    "* sex\n",
    "* chest pain type (4 values)\n",
    "* resting blood pressure\n",
    "* serum cholestoral in mg/dl\n",
    "* fasting blood sugar > 120 mg/dl\n",
    "* resting electrocardiographic results (values 0,1,2)\n",
    "* maximum heart rate achieved\n",
    "* exercise induced angina\n",
    "* oldpeak = ST depression induced by exercise relative to rest\n",
    "* the slope of the peak exercise ST segment\n",
    "* number of major vessels (0-3) colored by flourosopy\n",
    "* thal: 3 = normal; 6 = fixed defect; 7 = reversable defect\n",
    "\n",
    "The last column refers to the presence of heart disease in the patient.\n",
    "\n",
    "The task is to predict whether a person has the heart disease. "
   ]
  },
  {
   "cell_type": "markdown",
   "id": "049bd45c",
   "metadata": {
    "papermill": {
     "duration": 0.016708,
     "end_time": "2023-02-20T18:13:10.169726",
     "exception": false,
     "start_time": "2023-02-20T18:13:10.153018",
     "status": "completed"
    },
    "tags": []
   },
   "source": [
    "## 2.1 Preprocess the raw data\n",
    "\n",
    "* Check whether there are missing values\n",
    "* Check whether theare are cateogrical features\n",
    "* Check whether this dataset is balanced or not (use the bar plot to visualize the number of positive and negative samples)\n"
   ]
  },
  {
   "cell_type": "code",
   "execution_count": 5,
   "id": "ff8059f4",
   "metadata": {
    "execution": {
     "iopub.execute_input": "2023-02-20T18:13:10.206154Z",
     "iopub.status.busy": "2023-02-20T18:13:10.205414Z",
     "iopub.status.idle": "2023-02-20T18:13:10.248716Z",
     "shell.execute_reply": "2023-02-20T18:13:10.247510Z"
    },
    "papermill": {
     "duration": 0.064438,
     "end_time": "2023-02-20T18:13:10.251123",
     "exception": false,
     "start_time": "2023-02-20T18:13:10.186685",
     "status": "completed"
    },
    "tags": []
   },
   "outputs": [
    {
     "data": {
      "text/html": [
       "<div>\n",
       "<style scoped>\n",
       "    .dataframe tbody tr th:only-of-type {\n",
       "        vertical-align: middle;\n",
       "    }\n",
       "\n",
       "    .dataframe tbody tr th {\n",
       "        vertical-align: top;\n",
       "    }\n",
       "\n",
       "    .dataframe thead th {\n",
       "        text-align: right;\n",
       "    }\n",
       "</style>\n",
       "<table border=\"1\" class=\"dataframe\">\n",
       "  <thead>\n",
       "    <tr style=\"text-align: right;\">\n",
       "      <th></th>\n",
       "      <th>age</th>\n",
       "      <th>sex</th>\n",
       "      <th>cp</th>\n",
       "      <th>trestbps</th>\n",
       "      <th>chol</th>\n",
       "      <th>fbs</th>\n",
       "      <th>restecg</th>\n",
       "      <th>thalach</th>\n",
       "      <th>exang</th>\n",
       "      <th>oldpeak</th>\n",
       "      <th>slope</th>\n",
       "      <th>ca</th>\n",
       "      <th>thal</th>\n",
       "      <th>target</th>\n",
       "    </tr>\n",
       "  </thead>\n",
       "  <tbody>\n",
       "    <tr>\n",
       "      <th>0</th>\n",
       "      <td>63</td>\n",
       "      <td>1</td>\n",
       "      <td>3</td>\n",
       "      <td>145</td>\n",
       "      <td>233</td>\n",
       "      <td>1</td>\n",
       "      <td>0</td>\n",
       "      <td>150</td>\n",
       "      <td>0</td>\n",
       "      <td>2.3</td>\n",
       "      <td>0</td>\n",
       "      <td>0</td>\n",
       "      <td>1</td>\n",
       "      <td>1</td>\n",
       "    </tr>\n",
       "    <tr>\n",
       "      <th>1</th>\n",
       "      <td>37</td>\n",
       "      <td>1</td>\n",
       "      <td>2</td>\n",
       "      <td>130</td>\n",
       "      <td>250</td>\n",
       "      <td>0</td>\n",
       "      <td>1</td>\n",
       "      <td>187</td>\n",
       "      <td>0</td>\n",
       "      <td>3.5</td>\n",
       "      <td>0</td>\n",
       "      <td>0</td>\n",
       "      <td>2</td>\n",
       "      <td>1</td>\n",
       "    </tr>\n",
       "    <tr>\n",
       "      <th>2</th>\n",
       "      <td>41</td>\n",
       "      <td>0</td>\n",
       "      <td>1</td>\n",
       "      <td>130</td>\n",
       "      <td>204</td>\n",
       "      <td>0</td>\n",
       "      <td>0</td>\n",
       "      <td>172</td>\n",
       "      <td>0</td>\n",
       "      <td>1.4</td>\n",
       "      <td>2</td>\n",
       "      <td>0</td>\n",
       "      <td>2</td>\n",
       "      <td>1</td>\n",
       "    </tr>\n",
       "    <tr>\n",
       "      <th>3</th>\n",
       "      <td>56</td>\n",
       "      <td>1</td>\n",
       "      <td>1</td>\n",
       "      <td>120</td>\n",
       "      <td>236</td>\n",
       "      <td>0</td>\n",
       "      <td>1</td>\n",
       "      <td>178</td>\n",
       "      <td>0</td>\n",
       "      <td>0.8</td>\n",
       "      <td>2</td>\n",
       "      <td>0</td>\n",
       "      <td>2</td>\n",
       "      <td>1</td>\n",
       "    </tr>\n",
       "    <tr>\n",
       "      <th>4</th>\n",
       "      <td>57</td>\n",
       "      <td>0</td>\n",
       "      <td>0</td>\n",
       "      <td>120</td>\n",
       "      <td>354</td>\n",
       "      <td>0</td>\n",
       "      <td>1</td>\n",
       "      <td>163</td>\n",
       "      <td>1</td>\n",
       "      <td>0.6</td>\n",
       "      <td>2</td>\n",
       "      <td>0</td>\n",
       "      <td>2</td>\n",
       "      <td>1</td>\n",
       "    </tr>\n",
       "  </tbody>\n",
       "</table>\n",
       "</div>"
      ],
      "text/plain": [
       "   age  sex  cp  trestbps  chol  fbs  restecg  thalach  exang  oldpeak  slope  \\\n",
       "0   63    1   3       145   233    1        0      150      0      2.3      0   \n",
       "1   37    1   2       130   250    0        1      187      0      3.5      0   \n",
       "2   41    0   1       130   204    0        0      172      0      1.4      2   \n",
       "3   56    1   1       120   236    0        1      178      0      0.8      2   \n",
       "4   57    0   0       120   354    0        1      163      1      0.6      2   \n",
       "\n",
       "   ca  thal  target  \n",
       "0   0     1       1  \n",
       "1   0     2       1  \n",
       "2   0     2       1  \n",
       "3   0     2       1  \n",
       "4   0     2       1  "
      ]
     },
     "execution_count": 5,
     "metadata": {},
     "output_type": "execute_result"
    }
   ],
   "source": [
    "# your code\n",
    "import pandas as pd\n",
    "import numpy as np\n",
    "import matplotlib.pyplot as plt\n",
    "\n",
    "heart = '/kaggle/input/heartcsv/Lab04/heart.csv'\n",
    "df = pd.read_csv(heart)\n",
    "df.head()"
   ]
  },
  {
   "cell_type": "code",
   "execution_count": 6,
   "id": "7bfa3f9a",
   "metadata": {
    "execution": {
     "iopub.execute_input": "2023-02-20T18:13:10.266668Z",
     "iopub.status.busy": "2023-02-20T18:13:10.266219Z",
     "iopub.status.idle": "2023-02-20T18:13:10.276181Z",
     "shell.execute_reply": "2023-02-20T18:13:10.275089Z"
    },
    "papermill": {
     "duration": 0.020271,
     "end_time": "2023-02-20T18:13:10.278397",
     "exception": false,
     "start_time": "2023-02-20T18:13:10.258126",
     "status": "completed"
    },
    "tags": []
   },
   "outputs": [
    {
     "data": {
      "text/plain": [
       "age         False\n",
       "sex         False\n",
       "cp          False\n",
       "trestbps    False\n",
       "chol        False\n",
       "fbs         False\n",
       "restecg     False\n",
       "thalach     False\n",
       "exang       False\n",
       "oldpeak     False\n",
       "slope       False\n",
       "ca          False\n",
       "thal        False\n",
       "target      False\n",
       "dtype: bool"
      ]
     },
     "execution_count": 6,
     "metadata": {},
     "output_type": "execute_result"
    }
   ],
   "source": [
    "df.isna().any()"
   ]
  },
  {
   "cell_type": "code",
   "execution_count": 7,
   "id": "290a8b30",
   "metadata": {
    "execution": {
     "iopub.execute_input": "2023-02-20T18:13:10.293729Z",
     "iopub.status.busy": "2023-02-20T18:13:10.293341Z",
     "iopub.status.idle": "2023-02-20T18:13:10.310693Z",
     "shell.execute_reply": "2023-02-20T18:13:10.309523Z"
    },
    "papermill": {
     "duration": 0.027662,
     "end_time": "2023-02-20T18:13:10.312960",
     "exception": false,
     "start_time": "2023-02-20T18:13:10.285298",
     "status": "completed"
    },
    "tags": []
   },
   "outputs": [
    {
     "data": {
      "text/plain": [
       "['sex', 'cp', 'fbs', 'restecg', 'exang', 'slope', 'thal', 'target']"
      ]
     },
     "execution_count": 7,
     "metadata": {},
     "output_type": "execute_result"
    }
   ],
   "source": [
    "category = [col for col in df.columns if df[col].unique().size < 5]\n",
    "category"
   ]
  },
  {
   "cell_type": "code",
   "execution_count": 8,
   "id": "ce3ad643",
   "metadata": {
    "execution": {
     "iopub.execute_input": "2023-02-20T18:13:10.328892Z",
     "iopub.status.busy": "2023-02-20T18:13:10.328513Z",
     "iopub.status.idle": "2023-02-20T18:13:10.569932Z",
     "shell.execute_reply": "2023-02-20T18:13:10.569075Z"
    },
    "papermill": {
     "duration": 0.252219,
     "end_time": "2023-02-20T18:13:10.572391",
     "exception": false,
     "start_time": "2023-02-20T18:13:10.320172",
     "status": "completed"
    },
    "tags": []
   },
   "outputs": [
    {
     "data": {
      "image/png": "[encoded data removed]",
      "text/plain": [
       "<Figure size 1400x800 with 1 Axes>"
      ]
     },
     "metadata": {},
     "output_type": "display_data"
    }
   ],
   "source": [
    "ax = df.target.value_counts().plot(kind='bar',\n",
    "                                    figsize=(14,8),\n",
    "                                    title=\"Class imbalance\", color='blue')"
   ]
  },
  {
   "cell_type": "markdown",
   "id": "b96d6c36",
   "metadata": {
    "papermill": {
     "duration": 0.00728,
     "end_time": "2023-02-20T18:13:10.587425",
     "exception": false,
     "start_time": "2023-02-20T18:13:10.580145",
     "status": "completed"
    },
    "tags": []
   },
   "source": [
    "### 2.2 Split the data into two subsets and normalize the features of samples\n",
    "\n",
    "* Split the dataset into the train_val set and testing set. \n",
    "* Normalize features"
   ]
  },
  {
   "cell_type": "code",
   "execution_count": 9,
   "id": "5ed9bdb0",
   "metadata": {
    "execution": {
     "iopub.execute_input": "2023-02-20T18:13:10.604763Z",
     "iopub.status.busy": "2023-02-20T18:13:10.603730Z",
     "iopub.status.idle": "2023-02-20T18:13:10.621755Z",
     "shell.execute_reply": "2023-02-20T18:13:10.620395Z"
    },
    "papermill": {
     "duration": 0.029759,
     "end_time": "2023-02-20T18:13:10.624803",
     "exception": false,
     "start_time": "2023-02-20T18:13:10.595044",
     "status": "completed"
    },
    "tags": []
   },
   "outputs": [
    {
     "name": "stdout",
     "output_type": "stream",
     "text": [
      "train_val: 270, test: 33\n"
     ]
    }
   ],
   "source": [
    "## your code\n",
    "X,y = df.drop(columns='target'),df.target\n",
    "X_train_val, X_test, y_train_val, y_test =\\\n",
    "    X.loc[:269,df.drop(columns='target').columns.tolist()],X.loc[270:,df.drop(columns='target').columns],\\\n",
    "        y[:270].to_numpy(),y[270:].to_numpy()\n",
    "print(\"train_val: {}, test: {}\".format(X_train_val.shape[0], X_test.shape[0]))\n",
    "\n",
    "normalizer = StandardScaler()\n",
    "X_train_val = normalizer.fit_transform(X_train_val)\n",
    "X_test = normalizer.transform(X_test)"
   ]
  },
  {
   "cell_type": "code",
   "execution_count": 10,
   "id": "0f5df2b3",
   "metadata": {
    "execution": {
     "iopub.execute_input": "2023-02-20T18:13:10.643435Z",
     "iopub.status.busy": "2023-02-20T18:13:10.643023Z",
     "iopub.status.idle": "2023-02-20T18:13:10.649065Z",
     "shell.execute_reply": "2023-02-20T18:13:10.647741Z"
    },
    "papermill": {
     "duration": 0.017768,
     "end_time": "2023-02-20T18:13:10.651754",
     "exception": false,
     "start_time": "2023-02-20T18:13:10.633986",
     "status": "completed"
    },
    "tags": []
   },
   "outputs": [
    {
     "name": "stdout",
     "output_type": "stream",
     "text": [
      "(270, 13) (33, 13) (270,) (33,)\n"
     ]
    }
   ],
   "source": [
    "print(X_train_val.shape, X_test.shape, y_train_val.shape, y_test.shape)"
   ]
  },
  {
   "cell_type": "markdown",
   "id": "fbae5e0c",
   "metadata": {
    "papermill": {
     "duration": 0.007338,
     "end_time": "2023-02-20T18:13:10.666756",
     "exception": false,
     "start_time": "2023-02-20T18:13:10.659418",
     "status": "completed"
    },
    "tags": []
   },
   "source": [
    "### 2.3 Train the logistic regression model and select the hyperparameter with cross-validation\n",
    "\n",
    "\\begin{equation}\n",
    "\t\\min_{\\mathbf{w}} \\sum_{i=1}^{n}\\{\\log(1+\\exp(\\mathbf{w}^T\\mathbf{x}_i))-y_i\\mathbf{w}^T\\mathbf{x}_i \\} + \\lambda\\|\\mathbf{w}\\|_2^2\n",
    "\\end{equation}\n",
    "\n",
    "* Use the 10-fold cross-validation to select the hyperparameter $\\lambda$.\n",
    "* Search $\\lambda$ from $\\{10^{-5}, 10^{-4}, 10^{-3}, 10^{-2}, 10^{-1}, 1, 10, 20, 50, 100\\}$\n"
   ]
  },
  {
   "cell_type": "code",
   "execution_count": 11,
   "id": "0bc5f26d",
   "metadata": {
    "execution": {
     "iopub.execute_input": "2023-02-20T18:13:10.684381Z",
     "iopub.status.busy": "2023-02-20T18:13:10.683982Z",
     "iopub.status.idle": "2023-02-20T18:13:11.178647Z",
     "shell.execute_reply": "2023-02-20T18:13:11.177367Z"
    },
    "papermill": {
     "duration": 0.507966,
     "end_time": "2023-02-20T18:13:11.182463",
     "exception": false,
     "start_time": "2023-02-20T18:13:10.674497",
     "status": "completed"
    },
    "tags": []
   },
   "outputs": [
    {
     "name": "stdout",
     "output_type": "stream",
     "text": [
      "[[170 167 100 149 125 187 157 254  48 236  59 143 245 173  17  40 246 251\n",
      "  206 133 249 177 127  97 155 216 128]\n",
      " [182  62  46 163 161 232 181 137   9 151 260   1 250 148 264  55 197  13\n",
      "  116 229 111 228  82 237  85 263 244]\n",
      " [ 37 210   4  95  57 120  35  90  42 193  19 166  77   5 233  27  54 145\n",
      "  226 119 195 223  43  70  76 185 138]\n",
      " [ 24 144  81 188 218 184 168 159 266   3 189  39 115  21 101 146  68 225\n",
      "  252 108 135 190 124 220  53 192 114]\n",
      " [211 224 134  86  45 104 150 121 126  98  12  79 212 204  11 180 130 122\n",
      "   56  78 215  84 131  30 132 153 242]\n",
      " [269 265 191 158  65 213 267 179  31  69 147 241  25 175  93 199 174   7\n",
      "   66   6  99  41 198 141  72 123 109]\n",
      " [238 234  49  18 162 219 257 136 152  26 113 221 156  47  96  20  75 165\n",
      "  183 129 186 203 176  80  89 222 217]\n",
      " [  8 106  33 160 194  94 205 107  67 139 164 268 154 230   0 202 142  32\n",
      "  231  73  63  28 258 140 247 248 208]\n",
      " [ 58 201  88 102 227 261 256 262 172  22  36 240  87 253 200  60  61 235\n",
      "   52 209 207 255  91  10 171  34  23]\n",
      " [178 118  29  38  14  15 103 259  51 239 110 117 112  74  50  16 169  44\n",
      "   83   2  71 243  64 214  92 196 105]]\n",
      "reg_coeff: 10000.0, cur f1: 0.755\n",
      "reg_coeff: 1000.0, cur f1: 0.768\n",
      "reg_coeff: 100.0, cur f1: 0.877\n",
      "reg_coeff: 10.0, cur f1: 0.894\n",
      "reg_coeff: 1.0, cur f1: 0.889\n",
      "reg_coeff: 1.0, cur f1: 0.889\n",
      "reg_coeff: 0.1, cur f1: 0.882\n",
      "reg_coeff: 0.05, cur f1: 0.882\n",
      "reg_coeff: 0.02, cur f1: 0.882\n",
      "reg_coeff: 0.01, cur f1: 0.882\n"
     ]
    }
   ],
   "source": [
    "## your code\n",
    "# here we use 10-fold cross-validation\n",
    "folds = 10\n",
    "\n",
    "# get the number of samples in the training and validation set\n",
    "num_train_val = X_train_val.shape[0] \n",
    "\n",
    "# shuffle the index of samples in the train_val set\n",
    "index_of_samples = np.arange(num_train_val) \n",
    "shuffle(index_of_samples)\n",
    "\n",
    "# split the index of the train_valid set into 10 folds\n",
    "index_of_folds = index_of_samples.reshape(folds, -1)\n",
    "print(index_of_folds)\n",
    "\n",
    "# potential hyperparameters. \n",
    "#These hyperparameters are just used for illustration. \n",
    "#You should try more hyperparameters to get a good model.\n",
    "#The hyperparameters must be nonnegative!\n",
    "regularization_coefficient = [10e-5,10e-4,10e-3,10e-2,10e-1,1,10,20,50,100]\n",
    "\n",
    "best_f1 = 0.0\n",
    "best_reg = 0.0\n",
    "\n",
    "for reg in regularization_coefficient:\n",
    "    \n",
    "    # 5-fold cross-validation\n",
    "    sum_f1 = 0.0\n",
    "    for fold in range(folds):\n",
    "        \n",
    "        index_of_folds_temp = index_of_folds.copy()\n",
    "        \n",
    "        valid_index = index_of_folds_temp[fold,:].reshape(-1) #get the index of the validation set\n",
    "        train_index = np.delete(index_of_folds_temp, fold, 0).reshape(-1) #get the index of the training set\n",
    "\n",
    "        # training set\n",
    "        X_train = X_train_val[train_index]\n",
    "        y_train = y_train_val[train_index]\n",
    "        \n",
    "        # validation set\n",
    "        X_valid = X_train_val[valid_index]\n",
    "        y_valid = y_train_val[valid_index]\n",
    "                \n",
    "        # build the model with different hyperparameters\n",
    "        clf = LogisticRegression(penalty='l2', C=reg, solver='lbfgs')\n",
    "        \n",
    "        #train the model with the training set\n",
    "        clf.fit(X_train, y_train)\n",
    "        \n",
    "        y_valid_pred = clf.predict(X_valid)\n",
    "        f1 = f1_score(y_valid, y_valid_pred)\n",
    "#         acc = accuracy_score(y_valid, y_valid_pred)\n",
    "        \n",
    "        sum_f1 += f1\n",
    "    \n",
    "    cur_f1 = sum_f1 / folds\n",
    "    \n",
    "    print(\"reg_coeff: {}, cur f1: {:.3f}\".format(1.0/reg, cur_f1))\n",
    "    \n",
    "    # store the best hyperparameter\n",
    "    if cur_f1 > best_f1:\n",
    "        best_f1 = cur_f1\n",
    "        best_reg = reg\n",
    "        "
   ]
  },
  {
   "cell_type": "markdown",
   "id": "57317191",
   "metadata": {
    "papermill": {
     "duration": 0.007494,
     "end_time": "2023-02-20T18:13:11.199265",
     "exception": false,
     "start_time": "2023-02-20T18:13:11.191771",
     "status": "completed"
    },
    "tags": []
   },
   "source": [
    "### 2.4 Evaluate the learned model\n",
    "\n",
    "* Report the prediction accuracy, recall, precision, and F1 score.\n",
    "\n",
    "* Use the bar plot to visulaize the elements of the learned model parameter vector $\\mathbf{w}$. Some elements  have larger absolute values, while the others do not. Try to explain this phenomenon. "
   ]
  },
  {
   "cell_type": "code",
   "execution_count": 12,
   "id": "326712ed",
   "metadata": {
    "execution": {
     "iopub.execute_input": "2023-02-20T18:13:11.217726Z",
     "iopub.status.busy": "2023-02-20T18:13:11.216777Z",
     "iopub.status.idle": "2023-02-20T18:13:11.232640Z",
     "shell.execute_reply": "2023-02-20T18:13:11.231412Z"
    },
    "papermill": {
     "duration": 0.027952,
     "end_time": "2023-02-20T18:13:11.235159",
     "exception": false,
     "start_time": "2023-02-20T18:13:11.207207",
     "status": "completed"
    },
    "tags": []
   },
   "outputs": [
    {
     "data": {
      "text/plain": [
       "'Check predict on train f1 performance 0.910'"
      ]
     },
     "execution_count": 12,
     "metadata": {},
     "output_type": "execute_result"
    }
   ],
   "source": [
    "clf = LogisticRegression(penalty='l2', C=best_reg, solver='lbfgs')\n",
    "clf.fit(X_train_val, y_train_val)\n",
    "y_pred = clf.predict(X_train_val)\n",
    "f1 = f1_score(y_train_val, y_pred)\n",
    "f'Check predict on train f1 performance {f1:.3f}'"
   ]
  },
  {
   "cell_type": "code",
   "execution_count": 13,
   "id": "49213e73",
   "metadata": {
    "execution": {
     "iopub.execute_input": "2023-02-20T18:13:11.252977Z",
     "iopub.status.busy": "2023-02-20T18:13:11.252580Z",
     "iopub.status.idle": "2023-02-20T18:13:11.273331Z",
     "shell.execute_reply": "2023-02-20T18:13:11.271606Z"
    },
    "papermill": {
     "duration": 0.033117,
     "end_time": "2023-02-20T18:13:11.276242",
     "exception": false,
     "start_time": "2023-02-20T18:13:11.243125",
     "status": "completed"
    },
    "tags": []
   },
   "outputs": [
    {
     "name": "stdout",
     "output_type": "stream",
     "text": [
      "accuracy: 0.576, recall: 0.000, precision: 0.000, f1: 0.000,\n"
     ]
    },
    {
     "name": "stderr",
     "output_type": "stream",
     "text": [
      "/opt/conda/lib/python3.7/site-packages/sklearn/metrics/_classification.py:1318: UndefinedMetricWarning: Recall is ill-defined and being set to 0.0 due to no true samples. Use `zero_division` parameter to control this behavior.\n",
      "  _warn_prf(average, modifier, msg_start, len(result))\n"
     ]
    }
   ],
   "source": [
    "## your code\n",
    "# retrain the model\n",
    "clf = LogisticRegression(penalty='l2', C=best_reg, solver='lbfgs')\n",
    "clf.fit(X_train_val, y_train_val)\n",
    "\n",
    "# evaluate the model on the testing set\n",
    "y_test_pred = clf.predict(X_test)\n",
    "\n",
    "\n",
    "acc = accuracy_score(y_test, y_test_pred)\n",
    "f1 = f1_score(y_test, y_test_pred)\n",
    "recall = recall_score(y_test, y_test_pred)\n",
    "precision = precision_score(y_test, y_test_pred)\n",
    "\n",
    "\n",
    "print(\"accuracy: {:.3f}, recall: {:.3f}, precision: {:.3f}, f1: {:.3f},\".format(acc, recall, precision, f1))"
   ]
  }
 ],
 "metadata": {
  "kernelspec": {
   "display_name": "Python 3",
   "language": "python",
   "name": "python3"
  },
  "language_info": {
   "codemirror_mode": {
    "name": "ipython",
    "version": 3
   },
   "file_extension": ".py",
   "mimetype": "text/x-python",
   "name": "python",
   "nbconvert_exporter": "python",
   "pygments_lexer": "ipython3",
   "version": "3.7.12"
  },
  "papermill": {
   "default_parameters": {},
   "duration": 12.323176,
   "end_time": "2023-02-20T18:13:12.107365",
   "environment_variables": {},
   "exception": null,
   "input_path": "__notebook__.ipynb",
   "output_path": "__notebook__.ipynb",
   "parameters": {},
   "start_time": "2023-02-20T18:12:59.784189",
   "version": "2.3.4"
  }
 },
 "nbformat": 4,
 "nbformat_minor": 5
}
