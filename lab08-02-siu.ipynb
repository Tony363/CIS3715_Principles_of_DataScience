{
 "cells": [
  {
   "cell_type": "markdown",
   "id": "23145de1",
   "metadata": {
    "papermill": {
     "duration": 0.00587,
     "end_time": "2023-04-08T12:27:08.429833",
     "exception": false,
     "start_time": "2023-04-08T12:27:08.423963",
     "status": "completed"
    },
    "tags": []
   },
   "source": [
    "# Lab 8: Recommender System\n",
    "\n",
    "In this assignment, we will study how to do user-based collaborative filtering and item-based collaborative filtering. "
   ]
  },
  {
   "cell_type": "markdown",
   "id": "6ef893ec",
   "metadata": {
    "papermill": {
     "duration": 0.004356,
     "end_time": "2023-04-08T12:27:08.439043",
     "exception": false,
     "start_time": "2023-04-08T12:27:08.434687",
     "status": "completed"
    },
    "tags": []
   },
   "source": [
    "## 1. Dataset\n",
    "\n",
    "In this assignment, we will use MovieLens-100K dataset. It includes about 100,000 ratings from 1000 users on 1700 movies.  "
   ]
  },
  {
   "cell_type": "code",
   "execution_count": 1,
   "id": "aca0da4e",
   "metadata": {
    "execution": {
     "iopub.execute_input": "2023-04-08T12:27:08.450694Z",
     "iopub.status.busy": "2023-04-08T12:27:08.450142Z",
     "iopub.status.idle": "2023-04-08T12:27:08.462418Z",
     "shell.execute_reply": "2023-04-08T12:27:08.461298Z"
    },
    "papermill": {
     "duration": 0.021233,
     "end_time": "2023-04-08T12:27:08.464899",
     "exception": false,
     "start_time": "2023-04-08T12:27:08.443666",
     "status": "completed"
    },
    "tags": []
   },
   "outputs": [],
   "source": [
    "'''\n",
    "https://github.com/CraigFox0/TU-CIS-3715/blob/main/Lab%2010/Lab10_Section1_Fox.ipynb\n",
    "https://medium.com/@lope.ai/recommendation-systems-from-scratch-in-python-pytholabs-6946491e76c2\n",
    "'''\n",
    "ml_100k = '/kaggle/input/ml-100k/ml-100k'"
   ]
  },
  {
   "cell_type": "markdown",
   "id": "a1516d6c",
   "metadata": {
    "papermill": {
     "duration": 0.004555,
     "end_time": "2023-04-08T12:27:08.474250",
     "exception": false,
     "start_time": "2023-04-08T12:27:08.469695",
     "status": "completed"
    },
    "tags": []
   },
   "source": [
    "## Load data"
   ]
  },
  {
   "cell_type": "code",
   "execution_count": 2,
   "id": "843cb7d2",
   "metadata": {
    "execution": {
     "iopub.execute_input": "2023-04-08T12:27:08.485675Z",
     "iopub.status.busy": "2023-04-08T12:27:08.484962Z",
     "iopub.status.idle": "2023-04-08T12:27:08.609663Z",
     "shell.execute_reply": "2023-04-08T12:27:08.608628Z"
    },
    "papermill": {
     "duration": 0.133388,
     "end_time": "2023-04-08T12:27:08.612342",
     "exception": false,
     "start_time": "2023-04-08T12:27:08.478954",
     "status": "completed"
    },
    "tags": []
   },
   "outputs": [],
   "source": [
    "import pandas as pd\n",
    "%matplotlib inline\n",
    "import matplotlib\n",
    "import matplotlib.pyplot as plt\n",
    "import numpy as np\n",
    "\n",
    "# pass in column names for each CSV as the column name is not given in the file and read them using pandas.\n",
    "# You can check the column names from the readme file\n",
    "#Reading users file:\n",
    "u_cols = ['user_id', 'age', 'sex', 'occupation', 'zip_code']\n",
    "users = pd.read_csv(f'{ml_100k}/u.user', sep='|', names=u_cols,encoding='latin-1')\n",
    "\n",
    "#Reading ratings file:\n",
    "r_cols = ['user_id', 'movie_id', 'rating', 'unix_timestamp']\n",
    "ratings = pd.read_csv(f'{ml_100k}/u.data', sep='\\t', names=r_cols,encoding='latin-1')\n",
    "\n",
    "#Reading items file:\n",
    "i_cols = ['movie id', 'movie title' ,'release date','video release date', 'IMDb URL', 'unknown', 'Action', 'Adventure',\n",
    "'Animation', 'Children\\'s', 'Comedy', 'Crime', 'Documentary', 'Drama', 'Fantasy', 'Film-Noir', 'Horror', 'Musical', 'Mystery', 'Romance', 'Sci-Fi', 'Thriller', 'War', 'Western']\n",
    "\n",
    "items = pd.read_csv(f'{ml_100k}/u.item', sep='|', names=i_cols,encoding='latin-1')"
   ]
  },
  {
   "cell_type": "markdown",
   "id": "29d11aca",
   "metadata": {
    "papermill": {
     "duration": 0.004374,
     "end_time": "2023-04-08T12:27:08.621695",
     "exception": false,
     "start_time": "2023-04-08T12:27:08.617321",
     "status": "completed"
    },
    "tags": []
   },
   "source": [
    "## Users"
   ]
  },
  {
   "cell_type": "code",
   "execution_count": 3,
   "id": "efd1febe",
   "metadata": {
    "execution": {
     "iopub.execute_input": "2023-04-08T12:27:08.633439Z",
     "iopub.status.busy": "2023-04-08T12:27:08.632287Z",
     "iopub.status.idle": "2023-04-08T12:27:08.658393Z",
     "shell.execute_reply": "2023-04-08T12:27:08.656665Z"
    },
    "papermill": {
     "duration": 0.03451,
     "end_time": "2023-04-08T12:27:08.660897",
     "exception": false,
     "start_time": "2023-04-08T12:27:08.626387",
     "status": "completed"
    },
    "tags": []
   },
   "outputs": [
    {
     "name": "stdout",
     "output_type": "stream",
     "text": [
      "(943, 5)\n"
     ]
    },
    {
     "data": {
      "text/html": [
       "<div>\n",
       "<style scoped>\n",
       "    .dataframe tbody tr th:only-of-type {\n",
       "        vertical-align: middle;\n",
       "    }\n",
       "\n",
       "    .dataframe tbody tr th {\n",
       "        vertical-align: top;\n",
       "    }\n",
       "\n",
       "    .dataframe thead th {\n",
       "        text-align: right;\n",
       "    }\n",
       "</style>\n",
       "<table border=\"1\" class=\"dataframe\">\n",
       "  <thead>\n",
       "    <tr style=\"text-align: right;\">\n",
       "      <th></th>\n",
       "      <th>user_id</th>\n",
       "      <th>age</th>\n",
       "      <th>sex</th>\n",
       "      <th>occupation</th>\n",
       "      <th>zip_code</th>\n",
       "    </tr>\n",
       "  </thead>\n",
       "  <tbody>\n",
       "    <tr>\n",
       "      <th>0</th>\n",
       "      <td>1</td>\n",
       "      <td>24</td>\n",
       "      <td>M</td>\n",
       "      <td>technician</td>\n",
       "      <td>85711</td>\n",
       "    </tr>\n",
       "    <tr>\n",
       "      <th>1</th>\n",
       "      <td>2</td>\n",
       "      <td>53</td>\n",
       "      <td>F</td>\n",
       "      <td>other</td>\n",
       "      <td>94043</td>\n",
       "    </tr>\n",
       "    <tr>\n",
       "      <th>2</th>\n",
       "      <td>3</td>\n",
       "      <td>23</td>\n",
       "      <td>M</td>\n",
       "      <td>writer</td>\n",
       "      <td>32067</td>\n",
       "    </tr>\n",
       "    <tr>\n",
       "      <th>3</th>\n",
       "      <td>4</td>\n",
       "      <td>24</td>\n",
       "      <td>M</td>\n",
       "      <td>technician</td>\n",
       "      <td>43537</td>\n",
       "    </tr>\n",
       "    <tr>\n",
       "      <th>4</th>\n",
       "      <td>5</td>\n",
       "      <td>33</td>\n",
       "      <td>F</td>\n",
       "      <td>other</td>\n",
       "      <td>15213</td>\n",
       "    </tr>\n",
       "  </tbody>\n",
       "</table>\n",
       "</div>"
      ],
      "text/plain": [
       "   user_id  age sex  occupation zip_code\n",
       "0        1   24   M  technician    85711\n",
       "1        2   53   F       other    94043\n",
       "2        3   23   M      writer    32067\n",
       "3        4   24   M  technician    43537\n",
       "4        5   33   F       other    15213"
      ]
     },
     "execution_count": 3,
     "metadata": {},
     "output_type": "execute_result"
    }
   ],
   "source": [
    "print(users.shape)\n",
    "users.head()"
   ]
  },
  {
   "cell_type": "markdown",
   "id": "0a134eb5",
   "metadata": {
    "papermill": {
     "duration": 0.004862,
     "end_time": "2023-04-08T12:27:08.670964",
     "exception": false,
     "start_time": "2023-04-08T12:27:08.666102",
     "status": "completed"
    },
    "tags": []
   },
   "source": [
    "## Ratings"
   ]
  },
  {
   "cell_type": "code",
   "execution_count": 4,
   "id": "739aca12",
   "metadata": {
    "execution": {
     "iopub.execute_input": "2023-04-08T12:27:08.682885Z",
     "iopub.status.busy": "2023-04-08T12:27:08.682467Z",
     "iopub.status.idle": "2023-04-08T12:27:08.694036Z",
     "shell.execute_reply": "2023-04-08T12:27:08.693132Z"
    },
    "papermill": {
     "duration": 0.020535,
     "end_time": "2023-04-08T12:27:08.696560",
     "exception": false,
     "start_time": "2023-04-08T12:27:08.676025",
     "status": "completed"
    },
    "tags": []
   },
   "outputs": [
    {
     "name": "stdout",
     "output_type": "stream",
     "text": [
      "(100000, 4)\n"
     ]
    },
    {
     "data": {
      "text/html": [
       "<div>\n",
       "<style scoped>\n",
       "    .dataframe tbody tr th:only-of-type {\n",
       "        vertical-align: middle;\n",
       "    }\n",
       "\n",
       "    .dataframe tbody tr th {\n",
       "        vertical-align: top;\n",
       "    }\n",
       "\n",
       "    .dataframe thead th {\n",
       "        text-align: right;\n",
       "    }\n",
       "</style>\n",
       "<table border=\"1\" class=\"dataframe\">\n",
       "  <thead>\n",
       "    <tr style=\"text-align: right;\">\n",
       "      <th></th>\n",
       "      <th>user_id</th>\n",
       "      <th>movie_id</th>\n",
       "      <th>rating</th>\n",
       "      <th>unix_timestamp</th>\n",
       "    </tr>\n",
       "  </thead>\n",
       "  <tbody>\n",
       "    <tr>\n",
       "      <th>0</th>\n",
       "      <td>196</td>\n",
       "      <td>242</td>\n",
       "      <td>3</td>\n",
       "      <td>881250949</td>\n",
       "    </tr>\n",
       "    <tr>\n",
       "      <th>1</th>\n",
       "      <td>186</td>\n",
       "      <td>302</td>\n",
       "      <td>3</td>\n",
       "      <td>891717742</td>\n",
       "    </tr>\n",
       "    <tr>\n",
       "      <th>2</th>\n",
       "      <td>22</td>\n",
       "      <td>377</td>\n",
       "      <td>1</td>\n",
       "      <td>878887116</td>\n",
       "    </tr>\n",
       "    <tr>\n",
       "      <th>3</th>\n",
       "      <td>244</td>\n",
       "      <td>51</td>\n",
       "      <td>2</td>\n",
       "      <td>880606923</td>\n",
       "    </tr>\n",
       "    <tr>\n",
       "      <th>4</th>\n",
       "      <td>166</td>\n",
       "      <td>346</td>\n",
       "      <td>1</td>\n",
       "      <td>886397596</td>\n",
       "    </tr>\n",
       "  </tbody>\n",
       "</table>\n",
       "</div>"
      ],
      "text/plain": [
       "   user_id  movie_id  rating  unix_timestamp\n",
       "0      196       242       3       881250949\n",
       "1      186       302       3       891717742\n",
       "2       22       377       1       878887116\n",
       "3      244        51       2       880606923\n",
       "4      166       346       1       886397596"
      ]
     },
     "execution_count": 4,
     "metadata": {},
     "output_type": "execute_result"
    }
   ],
   "source": [
    "print(ratings.shape)\n",
    "ratings.head()"
   ]
  },
  {
   "cell_type": "markdown",
   "id": "b754a253",
   "metadata": {
    "papermill": {
     "duration": 0.005042,
     "end_time": "2023-04-08T12:27:08.707098",
     "exception": false,
     "start_time": "2023-04-08T12:27:08.702056",
     "status": "completed"
    },
    "tags": []
   },
   "source": [
    "## Items"
   ]
  },
  {
   "cell_type": "code",
   "execution_count": 5,
   "id": "80d3ac8b",
   "metadata": {
    "execution": {
     "iopub.execute_input": "2023-04-08T12:27:08.720017Z",
     "iopub.status.busy": "2023-04-08T12:27:08.719647Z",
     "iopub.status.idle": "2023-04-08T12:27:08.744780Z",
     "shell.execute_reply": "2023-04-08T12:27:08.743612Z"
    },
    "papermill": {
     "duration": 0.034275,
     "end_time": "2023-04-08T12:27:08.746982",
     "exception": false,
     "start_time": "2023-04-08T12:27:08.712707",
     "status": "completed"
    },
    "tags": []
   },
   "outputs": [
    {
     "name": "stdout",
     "output_type": "stream",
     "text": [
      "(1682, 24)\n"
     ]
    },
    {
     "data": {
      "text/html": [
       "<div>\n",
       "<style scoped>\n",
       "    .dataframe tbody tr th:only-of-type {\n",
       "        vertical-align: middle;\n",
       "    }\n",
       "\n",
       "    .dataframe tbody tr th {\n",
       "        vertical-align: top;\n",
       "    }\n",
       "\n",
       "    .dataframe thead th {\n",
       "        text-align: right;\n",
       "    }\n",
       "</style>\n",
       "<table border=\"1\" class=\"dataframe\">\n",
       "  <thead>\n",
       "    <tr style=\"text-align: right;\">\n",
       "      <th></th>\n",
       "      <th>movie id</th>\n",
       "      <th>movie title</th>\n",
       "      <th>release date</th>\n",
       "      <th>video release date</th>\n",
       "      <th>IMDb URL</th>\n",
       "      <th>unknown</th>\n",
       "      <th>Action</th>\n",
       "      <th>Adventure</th>\n",
       "      <th>Animation</th>\n",
       "      <th>Children's</th>\n",
       "      <th>...</th>\n",
       "      <th>Fantasy</th>\n",
       "      <th>Film-Noir</th>\n",
       "      <th>Horror</th>\n",
       "      <th>Musical</th>\n",
       "      <th>Mystery</th>\n",
       "      <th>Romance</th>\n",
       "      <th>Sci-Fi</th>\n",
       "      <th>Thriller</th>\n",
       "      <th>War</th>\n",
       "      <th>Western</th>\n",
       "    </tr>\n",
       "  </thead>\n",
       "  <tbody>\n",
       "    <tr>\n",
       "      <th>0</th>\n",
       "      <td>1</td>\n",
       "      <td>Toy Story (1995)</td>\n",
       "      <td>01-Jan-1995</td>\n",
       "      <td>NaN</td>\n",
       "      <td>http://us.imdb.com/M/title-exact?Toy%20Story%2...</td>\n",
       "      <td>0</td>\n",
       "      <td>0</td>\n",
       "      <td>0</td>\n",
       "      <td>1</td>\n",
       "      <td>1</td>\n",
       "      <td>...</td>\n",
       "      <td>0</td>\n",
       "      <td>0</td>\n",
       "      <td>0</td>\n",
       "      <td>0</td>\n",
       "      <td>0</td>\n",
       "      <td>0</td>\n",
       "      <td>0</td>\n",
       "      <td>0</td>\n",
       "      <td>0</td>\n",
       "      <td>0</td>\n",
       "    </tr>\n",
       "    <tr>\n",
       "      <th>1</th>\n",
       "      <td>2</td>\n",
       "      <td>GoldenEye (1995)</td>\n",
       "      <td>01-Jan-1995</td>\n",
       "      <td>NaN</td>\n",
       "      <td>http://us.imdb.com/M/title-exact?GoldenEye%20(...</td>\n",
       "      <td>0</td>\n",
       "      <td>1</td>\n",
       "      <td>1</td>\n",
       "      <td>0</td>\n",
       "      <td>0</td>\n",
       "      <td>...</td>\n",
       "      <td>0</td>\n",
       "      <td>0</td>\n",
       "      <td>0</td>\n",
       "      <td>0</td>\n",
       "      <td>0</td>\n",
       "      <td>0</td>\n",
       "      <td>0</td>\n",
       "      <td>1</td>\n",
       "      <td>0</td>\n",
       "      <td>0</td>\n",
       "    </tr>\n",
       "    <tr>\n",
       "      <th>2</th>\n",
       "      <td>3</td>\n",
       "      <td>Four Rooms (1995)</td>\n",
       "      <td>01-Jan-1995</td>\n",
       "      <td>NaN</td>\n",
       "      <td>http://us.imdb.com/M/title-exact?Four%20Rooms%...</td>\n",
       "      <td>0</td>\n",
       "      <td>0</td>\n",
       "      <td>0</td>\n",
       "      <td>0</td>\n",
       "      <td>0</td>\n",
       "      <td>...</td>\n",
       "      <td>0</td>\n",
       "      <td>0</td>\n",
       "      <td>0</td>\n",
       "      <td>0</td>\n",
       "      <td>0</td>\n",
       "      <td>0</td>\n",
       "      <td>0</td>\n",
       "      <td>1</td>\n",
       "      <td>0</td>\n",
       "      <td>0</td>\n",
       "    </tr>\n",
       "    <tr>\n",
       "      <th>3</th>\n",
       "      <td>4</td>\n",
       "      <td>Get Shorty (1995)</td>\n",
       "      <td>01-Jan-1995</td>\n",
       "      <td>NaN</td>\n",
       "      <td>http://us.imdb.com/M/title-exact?Get%20Shorty%...</td>\n",
       "      <td>0</td>\n",
       "      <td>1</td>\n",
       "      <td>0</td>\n",
       "      <td>0</td>\n",
       "      <td>0</td>\n",
       "      <td>...</td>\n",
       "      <td>0</td>\n",
       "      <td>0</td>\n",
       "      <td>0</td>\n",
       "      <td>0</td>\n",
       "      <td>0</td>\n",
       "      <td>0</td>\n",
       "      <td>0</td>\n",
       "      <td>0</td>\n",
       "      <td>0</td>\n",
       "      <td>0</td>\n",
       "    </tr>\n",
       "    <tr>\n",
       "      <th>4</th>\n",
       "      <td>5</td>\n",
       "      <td>Copycat (1995)</td>\n",
       "      <td>01-Jan-1995</td>\n",
       "      <td>NaN</td>\n",
       "      <td>http://us.imdb.com/M/title-exact?Copycat%20(1995)</td>\n",
       "      <td>0</td>\n",
       "      <td>0</td>\n",
       "      <td>0</td>\n",
       "      <td>0</td>\n",
       "      <td>0</td>\n",
       "      <td>...</td>\n",
       "      <td>0</td>\n",
       "      <td>0</td>\n",
       "      <td>0</td>\n",
       "      <td>0</td>\n",
       "      <td>0</td>\n",
       "      <td>0</td>\n",
       "      <td>0</td>\n",
       "      <td>1</td>\n",
       "      <td>0</td>\n",
       "      <td>0</td>\n",
       "    </tr>\n",
       "  </tbody>\n",
       "</table>\n",
       "<p>5 rows × 24 columns</p>\n",
       "</div>"
      ],
      "text/plain": [
       "   movie id        movie title release date  video release date  \\\n",
       "0         1   Toy Story (1995)  01-Jan-1995                 NaN   \n",
       "1         2   GoldenEye (1995)  01-Jan-1995                 NaN   \n",
       "2         3  Four Rooms (1995)  01-Jan-1995                 NaN   \n",
       "3         4  Get Shorty (1995)  01-Jan-1995                 NaN   \n",
       "4         5     Copycat (1995)  01-Jan-1995                 NaN   \n",
       "\n",
       "                                            IMDb URL  unknown  Action  \\\n",
       "0  http://us.imdb.com/M/title-exact?Toy%20Story%2...        0       0   \n",
       "1  http://us.imdb.com/M/title-exact?GoldenEye%20(...        0       1   \n",
       "2  http://us.imdb.com/M/title-exact?Four%20Rooms%...        0       0   \n",
       "3  http://us.imdb.com/M/title-exact?Get%20Shorty%...        0       1   \n",
       "4  http://us.imdb.com/M/title-exact?Copycat%20(1995)        0       0   \n",
       "\n",
       "   Adventure  Animation  Children's  ...  Fantasy  Film-Noir  Horror  Musical  \\\n",
       "0          0          1           1  ...        0          0       0        0   \n",
       "1          1          0           0  ...        0          0       0        0   \n",
       "2          0          0           0  ...        0          0       0        0   \n",
       "3          0          0           0  ...        0          0       0        0   \n",
       "4          0          0           0  ...        0          0       0        0   \n",
       "\n",
       "   Mystery  Romance  Sci-Fi  Thriller  War  Western  \n",
       "0        0        0       0         0    0        0  \n",
       "1        0        0       0         1    0        0  \n",
       "2        0        0       0         1    0        0  \n",
       "3        0        0       0         0    0        0  \n",
       "4        0        0       0         1    0        0  \n",
       "\n",
       "[5 rows x 24 columns]"
      ]
     },
     "execution_count": 5,
     "metadata": {},
     "output_type": "execute_result"
    }
   ],
   "source": [
    "print(items.shape)\n",
    "items.head()"
   ]
  },
  {
   "cell_type": "code",
   "execution_count": 6,
   "id": "5766ac72",
   "metadata": {
    "execution": {
     "iopub.execute_input": "2023-04-08T12:27:08.760304Z",
     "iopub.status.busy": "2023-04-08T12:27:08.759571Z",
     "iopub.status.idle": "2023-04-08T12:27:08.860510Z",
     "shell.execute_reply": "2023-04-08T12:27:08.858254Z"
    },
    "papermill": {
     "duration": 0.111088,
     "end_time": "2023-04-08T12:27:08.863666",
     "exception": false,
     "start_time": "2023-04-08T12:27:08.752578",
     "status": "completed"
    },
    "tags": []
   },
   "outputs": [
    {
     "data": {
      "text/plain": [
       "((90570, 4), (9430, 4))"
      ]
     },
     "execution_count": 6,
     "metadata": {},
     "output_type": "execute_result"
    }
   ],
   "source": [
    "r_cols = ['user_id', 'movie_id', 'rating', 'unix_timestamp']\n",
    "\n",
    "ratings_train = pd.read_csv(f'{ml_100k}/ua.base', sep='\\t', names=r_cols, encoding='latin-1')\n",
    "\n",
    "ratings_test = pd.read_csv(f'{ml_100k}/ua.test', sep='\\t', names=r_cols, encoding='latin-1')\n",
    "\n",
    "ratings_train.shape, ratings_test.shape"
   ]
  },
  {
   "cell_type": "code",
   "execution_count": 7,
   "id": "d095934d",
   "metadata": {
    "execution": {
     "iopub.execute_input": "2023-04-08T12:27:08.881307Z",
     "iopub.status.busy": "2023-04-08T12:27:08.880769Z",
     "iopub.status.idle": "2023-04-08T12:27:08.897494Z",
     "shell.execute_reply": "2023-04-08T12:27:08.896239Z"
    },
    "papermill": {
     "duration": 0.029736,
     "end_time": "2023-04-08T12:27:08.899954",
     "exception": false,
     "start_time": "2023-04-08T12:27:08.870218",
     "status": "completed"
    },
    "tags": []
   },
   "outputs": [
    {
     "data": {
      "text/plain": [
       "(943, 1682)"
      ]
     },
     "execution_count": 7,
     "metadata": {},
     "output_type": "execute_result"
    }
   ],
   "source": [
    "n_users = ratings.user_id.unique().shape[0]\n",
    "n_items = ratings.movie_id.unique().shape[0]\n",
    "n_users,n_items"
   ]
  },
  {
   "cell_type": "code",
   "execution_count": 8,
   "id": "b0224060",
   "metadata": {
    "execution": {
     "iopub.execute_input": "2023-04-08T12:27:08.913807Z",
     "iopub.status.busy": "2023-04-08T12:27:08.913432Z",
     "iopub.status.idle": "2023-04-08T12:27:09.075382Z",
     "shell.execute_reply": "2023-04-08T12:27:09.074205Z"
    },
    "papermill": {
     "duration": 0.171782,
     "end_time": "2023-04-08T12:27:09.077767",
     "exception": false,
     "start_time": "2023-04-08T12:27:08.905985",
     "status": "completed"
    },
    "tags": []
   },
   "outputs": [
    {
     "data": {
      "text/plain": [
       "(943, 1682)"
      ]
     },
     "execution_count": 8,
     "metadata": {},
     "output_type": "execute_result"
    }
   ],
   "source": [
    "data_matrix = np.zeros((n_users, n_items))\n",
    "for line in ratings.itertuples():\n",
    "    data_matrix[line[1]-1, line[2]-1] = line[3]\n",
    "data_matrix.shape"
   ]
  },
  {
   "cell_type": "code",
   "execution_count": 9,
   "id": "635c44e5",
   "metadata": {
    "execution": {
     "iopub.execute_input": "2023-04-08T12:27:09.092637Z",
     "iopub.status.busy": "2023-04-08T12:27:09.091755Z",
     "iopub.status.idle": "2023-04-08T12:27:10.733316Z",
     "shell.execute_reply": "2023-04-08T12:27:10.731525Z"
    },
    "papermill": {
     "duration": 1.653996,
     "end_time": "2023-04-08T12:27:10.738133",
     "exception": false,
     "start_time": "2023-04-08T12:27:09.084137",
     "status": "completed"
    },
    "tags": []
   },
   "outputs": [],
   "source": [
    "from sklearn.metrics.pairwise import pairwise_distances \n",
    "user_similarity = pairwise_distances(data_matrix, metric='correlation')\n",
    "item_similarity = pairwise_distances(data_matrix.T, metric='cosine')"
   ]
  },
  {
   "cell_type": "code",
   "execution_count": 10,
   "id": "f29aab3b",
   "metadata": {
    "execution": {
     "iopub.execute_input": "2023-04-08T12:27:10.772547Z",
     "iopub.status.busy": "2023-04-08T12:27:10.771764Z",
     "iopub.status.idle": "2023-04-08T12:27:10.790020Z",
     "shell.execute_reply": "2023-04-08T12:27:10.788336Z"
    },
    "papermill": {
     "duration": 0.041204,
     "end_time": "2023-04-08T12:27:10.795193",
     "exception": false,
     "start_time": "2023-04-08T12:27:10.753989",
     "status": "completed"
    },
    "tags": []
   },
   "outputs": [],
   "source": [
    "def predict(ratings, similarity, type='user'):\n",
    "    \n",
    "    if type == 'user':\n",
    "        mean_user_rating = ratings.mean(axis=1).reshape(-1,1)\n",
    "        #We use np.newaxis so that mean_user_rating has same format as ratings\n",
    "        \n",
    "        ratings_diff = (ratings - mean_user_rating)\n",
    "        pred = mean_user_rating + similarity.dot(ratings_diff) / np.array([np.abs(similarity).sum(axis=1)]).T\n",
    "    \n",
    "    elif type == 'item':\n",
    "        pred = ratings.dot(similarity) / np.array([np.abs(similarity).sum(axis=1)])\n",
    "    \n",
    "    return pred"
   ]
  },
  {
   "cell_type": "markdown",
   "id": "ac72c313",
   "metadata": {
    "papermill": {
     "duration": 0.00709,
     "end_time": "2023-04-08T12:27:10.818524",
     "exception": false,
     "start_time": "2023-04-08T12:27:10.811434",
     "status": "completed"
    },
    "tags": []
   },
   "source": [
    "## Task 1. User-based CF\n",
    "\n",
    "* Use pearson correlation to get the similarity between different users.\n",
    "* Based on the obtained similarity score, predict the ratings. You can use 5 nearest neighbors or 10 nearest neighbors.\n",
    "* Compute MAE for the testing set."
   ]
  },
  {
   "cell_type": "code",
   "execution_count": 11,
   "id": "a22f6e63",
   "metadata": {
    "execution": {
     "iopub.execute_input": "2023-04-08T12:27:10.832560Z",
     "iopub.status.busy": "2023-04-08T12:27:10.832175Z",
     "iopub.status.idle": "2023-04-08T12:27:10.943017Z",
     "shell.execute_reply": "2023-04-08T12:27:10.941444Z"
    },
    "papermill": {
     "duration": 0.122868,
     "end_time": "2023-04-08T12:27:10.947627",
     "exception": false,
     "start_time": "2023-04-08T12:27:10.824759",
     "status": "completed"
    },
    "tags": []
   },
   "outputs": [
    {
     "data": {
      "text/plain": [
       "'User based MAE - 0.41257710878110293'"
      ]
     },
     "execution_count": 11,
     "metadata": {},
     "output_type": "execute_result"
    }
   ],
   "source": [
    "# your code\n",
    "# pearson correlation\n",
    "# fitt training user  A,testing  user B similarity \n",
    "# predict using similarity\n",
    "# candidates are from users that also rated on at least 2 or more items\n",
    "from sklearn.metrics import mean_absolute_error\n",
    "\n",
    "user_prediction = predict(data_matrix, user_similarity, type='user')\n",
    "# user_prediction[user_prediction > 0] =  np.rint(user_prediction[user_prediction > 0] + 1)\n",
    "\n",
    "f'User based MAE - {mean_absolute_error(user_prediction,data_matrix)}'"
   ]
  },
  {
   "cell_type": "markdown",
   "id": "8a0c709b",
   "metadata": {
    "papermill": {
     "duration": 0.016102,
     "end_time": "2023-04-08T12:27:10.980578",
     "exception": false,
     "start_time": "2023-04-08T12:27:10.964476",
     "status": "completed"
    },
    "tags": []
   },
   "source": [
    "## Task 2. Item-based CF\n",
    "* Use cosine similarity to get the similarity between different items.\n",
    "* Based on the obtained similarity score, predict the ratings. You can use 5 nearest neighbors or 10 nearest neighbors.\n",
    "* Compute MAE for the testing set."
   ]
  },
  {
   "cell_type": "code",
   "execution_count": 12,
   "id": "e22abc83",
   "metadata": {
    "execution": {
     "iopub.execute_input": "2023-04-08T12:27:11.017718Z",
     "iopub.status.busy": "2023-04-08T12:27:11.016898Z",
     "iopub.status.idle": "2023-04-08T12:27:11.162924Z",
     "shell.execute_reply": "2023-04-08T12:27:11.161065Z"
    },
    "papermill": {
     "duration": 0.169598,
     "end_time": "2023-04-08T12:27:11.167277",
     "exception": false,
     "start_time": "2023-04-08T12:27:10.997679",
     "status": "completed"
    },
    "tags": []
   },
   "outputs": [
    {
     "data": {
      "text/plain": [
       "'Item based MAE - 0.38807582153576525'"
      ]
     },
     "execution_count": 12,
     "metadata": {},
     "output_type": "execute_result"
    }
   ],
   "source": [
    "# your code\n",
    "# cosine similarity\n",
    "# vector A is all available ratings of items\n",
    "# similarity between item vectors that user rated and target item vector\n",
    "# wont be item vector size mismatch, if sample item vector use did not make rating, bad item vector candidate\n",
    "item_prediction = predict(data_matrix, item_similarity, type='item')\n",
    "# item_prediction[item_prediction > 0] =  np.rint(item_prediction[item_prediction > 0] + 1)\n",
    "\n",
    "# print(item_prediction.shape,data_matrix.shape)\n",
    "f'Item based MAE - {mean_absolute_error(item_prediction,data_matrix)}'"
   ]
  }
 ],
 "metadata": {
  "kernelspec": {
   "display_name": "Python 3",
   "language": "python",
   "name": "python3"
  },
  "language_info": {
   "codemirror_mode": {
    "name": "ipython",
    "version": 3
   },
   "file_extension": ".py",
   "mimetype": "text/x-python",
   "name": "python",
   "nbconvert_exporter": "python",
   "pygments_lexer": "ipython3",
   "version": "3.7.12"
  },
  "papermill": {
   "default_parameters": {},
   "duration": 13.279834,
   "end_time": "2023-04-08T12:27:11.922133",
   "environment_variables": {},
   "exception": null,
   "input_path": "__notebook__.ipynb",
   "output_path": "__notebook__.ipynb",
   "parameters": {},
   "start_time": "2023-04-08T12:26:58.642299",
   "version": "2.4.0"
  }
 },
 "nbformat": 4,
 "nbformat_minor": 5
}
